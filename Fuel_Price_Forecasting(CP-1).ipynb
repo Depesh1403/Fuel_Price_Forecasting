{
 "cells": [
  {
   "cell_type": "code",
   "execution_count": 1,
   "id": "b123f439",
   "metadata": {},
   "outputs": [],
   "source": [
    "import pandas as pd\n",
    "import numpy as np\n",
    "import matplotlib.pyplot as plt\n",
    "import seaborn as sns"
   ]
  },
  {
   "cell_type": "code",
   "execution_count": 2,
   "id": "8fb36926",
   "metadata": {},
   "outputs": [
    {
     "data": {
      "text/html": [
       "<div>\n",
       "<style scoped>\n",
       "    .dataframe tbody tr th:only-of-type {\n",
       "        vertical-align: middle;\n",
       "    }\n",
       "\n",
       "    .dataframe tbody tr th {\n",
       "        vertical-align: top;\n",
       "    }\n",
       "\n",
       "    .dataframe thead th {\n",
       "        text-align: right;\n",
       "    }\n",
       "</style>\n",
       "<table border=\"1\" class=\"dataframe\">\n",
       "  <thead>\n",
       "    <tr style=\"text-align: right;\">\n",
       "      <th></th>\n",
       "      <th>SURVEY_DATE</th>\n",
       "      <th>PRODUCT_ID</th>\n",
       "      <th>PRODUCT_NAME</th>\n",
       "      <th>PRICE</th>\n",
       "      <th>VAT</th>\n",
       "      <th>EXCISE</th>\n",
       "      <th>NET</th>\n",
       "      <th>CHANGE</th>\n",
       "    </tr>\n",
       "  </thead>\n",
       "  <tbody>\n",
       "    <tr>\n",
       "      <th>0</th>\n",
       "      <td>2005-01-03</td>\n",
       "      <td>1</td>\n",
       "      <td>Euro-Super 95</td>\n",
       "      <td>1115.75</td>\n",
       "      <td>185.96</td>\n",
       "      <td>558.64</td>\n",
       "      <td>371.15</td>\n",
       "      <td>-1.57</td>\n",
       "    </tr>\n",
       "    <tr>\n",
       "      <th>1</th>\n",
       "      <td>2005-01-03</td>\n",
       "      <td>2</td>\n",
       "      <td>Automotive gas oil</td>\n",
       "      <td>1018.28</td>\n",
       "      <td>169.71</td>\n",
       "      <td>403.21</td>\n",
       "      <td>445.36</td>\n",
       "      <td>-0.33</td>\n",
       "    </tr>\n",
       "    <tr>\n",
       "      <th>2</th>\n",
       "      <td>2005-01-03</td>\n",
       "      <td>3</td>\n",
       "      <td>Heating gas oil</td>\n",
       "      <td>948.50</td>\n",
       "      <td>158.08</td>\n",
       "      <td>403.21</td>\n",
       "      <td>387.21</td>\n",
       "      <td>-22.55</td>\n",
       "    </tr>\n",
       "    <tr>\n",
       "      <th>3</th>\n",
       "      <td>2005-01-03</td>\n",
       "      <td>5</td>\n",
       "      <td>LPG</td>\n",
       "      <td>552.50</td>\n",
       "      <td>92.08</td>\n",
       "      <td>156.62</td>\n",
       "      <td>303.80</td>\n",
       "      <td>0.22</td>\n",
       "    </tr>\n",
       "    <tr>\n",
       "      <th>4</th>\n",
       "      <td>2005-01-03</td>\n",
       "      <td>6</td>\n",
       "      <td>Residual fuel oil</td>\n",
       "      <td>553.25</td>\n",
       "      <td>50.30</td>\n",
       "      <td>166.84</td>\n",
       "      <td>336.11</td>\n",
       "      <td>-12.21</td>\n",
       "    </tr>\n",
       "  </tbody>\n",
       "</table>\n",
       "</div>"
      ],
      "text/plain": [
       "  SURVEY_DATE  PRODUCT_ID        PRODUCT_NAME    PRICE     VAT  EXCISE  \\\n",
       "0  2005-01-03           1       Euro-Super 95  1115.75  185.96  558.64   \n",
       "1  2005-01-03           2  Automotive gas oil  1018.28  169.71  403.21   \n",
       "2  2005-01-03           3     Heating gas oil   948.50  158.08  403.21   \n",
       "3  2005-01-03           5                 LPG   552.50   92.08  156.62   \n",
       "4  2005-01-03           6   Residual fuel oil   553.25   50.30  166.84   \n",
       "\n",
       "      NET  CHANGE  \n",
       "0  371.15   -1.57  \n",
       "1  445.36   -0.33  \n",
       "2  387.21  -22.55  \n",
       "3  303.80    0.22  \n",
       "4  336.11  -12.21  "
      ]
     },
     "execution_count": 2,
     "metadata": {},
     "output_type": "execute_result"
    }
   ],
   "source": [
    "df = pd.read_csv('weekly_fuel_prices_all_data_from_2005_to_20210823.csv')\n",
    "df.head()"
   ]
  },
  {
   "cell_type": "code",
   "execution_count": 3,
   "id": "398a3c2d",
   "metadata": {},
   "outputs": [
    {
     "data": {
      "text/plain": [
       "Euro-Super 95         830\n",
       "Automotive gas oil    830\n",
       "Heating gas oil       830\n",
       "LPG                   830\n",
       "Residual fuel oil     830\n",
       "Heavy fuel oil        830\n",
       "Name: PRODUCT_NAME, dtype: int64"
      ]
     },
     "execution_count": 3,
     "metadata": {},
     "output_type": "execute_result"
    }
   ],
   "source": [
    "df['PRODUCT_NAME'].value_counts()"
   ]
  },
  {
   "cell_type": "markdown",
   "id": "c4624444",
   "metadata": {},
   "source": [
    "#### Checking Shape"
   ]
  },
  {
   "cell_type": "code",
   "execution_count": 4,
   "id": "69659c99",
   "metadata": {},
   "outputs": [
    {
     "data": {
      "text/plain": [
       "(4980, 8)"
      ]
     },
     "execution_count": 4,
     "metadata": {},
     "output_type": "execute_result"
    }
   ],
   "source": [
    "df.shape"
   ]
  },
  {
   "cell_type": "markdown",
   "id": "e0f1fc01",
   "metadata": {},
   "source": [
    "#### Checking Null Values In Dataset"
   ]
  },
  {
   "cell_type": "code",
   "execution_count": 5,
   "id": "d588c4f3",
   "metadata": {},
   "outputs": [
    {
     "data": {
      "text/plain": [
       "SURVEY_DATE     0\n",
       "PRODUCT_ID      0\n",
       "PRODUCT_NAME    0\n",
       "PRICE           0\n",
       "VAT             0\n",
       "EXCISE          0\n",
       "NET             0\n",
       "CHANGE          0\n",
       "dtype: int64"
      ]
     },
     "execution_count": 5,
     "metadata": {},
     "output_type": "execute_result"
    }
   ],
   "source": [
    "df.isnull().sum()"
   ]
  },
  {
   "cell_type": "markdown",
   "id": "aa3ce88c",
   "metadata": {},
   "source": [
    "###### No Null Values Are Present In The Dataset"
   ]
  },
  {
   "cell_type": "code",
   "execution_count": 6,
   "id": "caec131f",
   "metadata": {},
   "outputs": [
    {
     "data": {
      "text/plain": [
       "609.37     24\n",
       "651.59     16\n",
       "553.20     10\n",
       "551.88      8\n",
       "553.44      6\n",
       "           ..\n",
       "490.75      1\n",
       "1470.51     1\n",
       "1349.45     1\n",
       "1283.47     1\n",
       "529.89      1\n",
       "Name: PRICE, Length: 4720, dtype: int64"
      ]
     },
     "execution_count": 6,
     "metadata": {},
     "output_type": "execute_result"
    }
   ],
   "source": [
    "df['PRICE'].value_counts()"
   ]
  },
  {
   "cell_type": "markdown",
   "id": "4937b4c3",
   "metadata": {},
   "source": [
    "#### Selecting SURVEY_DATE And PRICE Columns For Forecasting"
   ]
  },
  {
   "cell_type": "code",
   "execution_count": 7,
   "id": "1f4208d1",
   "metadata": {},
   "outputs": [
    {
     "data": {
      "text/html": [
       "<div>\n",
       "<style scoped>\n",
       "    .dataframe tbody tr th:only-of-type {\n",
       "        vertical-align: middle;\n",
       "    }\n",
       "\n",
       "    .dataframe tbody tr th {\n",
       "        vertical-align: top;\n",
       "    }\n",
       "\n",
       "    .dataframe thead th {\n",
       "        text-align: right;\n",
       "    }\n",
       "</style>\n",
       "<table border=\"1\" class=\"dataframe\">\n",
       "  <thead>\n",
       "    <tr style=\"text-align: right;\">\n",
       "      <th></th>\n",
       "      <th>SURVEY_DATE</th>\n",
       "      <th>PRICE</th>\n",
       "    </tr>\n",
       "  </thead>\n",
       "  <tbody>\n",
       "    <tr>\n",
       "      <th>0</th>\n",
       "      <td>2005-01-03</td>\n",
       "      <td>1115.75</td>\n",
       "    </tr>\n",
       "    <tr>\n",
       "      <th>1</th>\n",
       "      <td>2005-01-03</td>\n",
       "      <td>1018.28</td>\n",
       "    </tr>\n",
       "    <tr>\n",
       "      <th>2</th>\n",
       "      <td>2005-01-03</td>\n",
       "      <td>948.50</td>\n",
       "    </tr>\n",
       "    <tr>\n",
       "      <th>3</th>\n",
       "      <td>2005-01-03</td>\n",
       "      <td>552.50</td>\n",
       "    </tr>\n",
       "    <tr>\n",
       "      <th>4</th>\n",
       "      <td>2005-01-03</td>\n",
       "      <td>553.25</td>\n",
       "    </tr>\n",
       "  </tbody>\n",
       "</table>\n",
       "</div>"
      ],
      "text/plain": [
       "  SURVEY_DATE    PRICE\n",
       "0  2005-01-03  1115.75\n",
       "1  2005-01-03  1018.28\n",
       "2  2005-01-03   948.50\n",
       "3  2005-01-03   552.50\n",
       "4  2005-01-03   553.25"
      ]
     },
     "execution_count": 7,
     "metadata": {},
     "output_type": "execute_result"
    }
   ],
   "source": [
    "df1 = df[['SURVEY_DATE','PRICE']]\n",
    "df1.head()"
   ]
  },
  {
   "cell_type": "code",
   "execution_count": 8,
   "id": "490e750c",
   "metadata": {},
   "outputs": [
    {
     "data": {
      "text/plain": [
       "2005-01-03    6\n",
       "2016-03-14    6\n",
       "2016-01-04    6\n",
       "2016-01-11    6\n",
       "2016-01-18    6\n",
       "             ..\n",
       "2010-07-26    6\n",
       "2010-08-02    6\n",
       "2010-08-09    6\n",
       "2010-08-16    6\n",
       "2021-08-16    6\n",
       "Name: SURVEY_DATE, Length: 830, dtype: int64"
      ]
     },
     "execution_count": 8,
     "metadata": {},
     "output_type": "execute_result"
    }
   ],
   "source": [
    "df1['SURVEY_DATE'].value_counts()"
   ]
  },
  {
   "cell_type": "code",
   "execution_count": 9,
   "id": "5865eff6",
   "metadata": {},
   "outputs": [
    {
     "data": {
      "text/html": [
       "<div>\n",
       "<style scoped>\n",
       "    .dataframe tbody tr th:only-of-type {\n",
       "        vertical-align: middle;\n",
       "    }\n",
       "\n",
       "    .dataframe tbody tr th {\n",
       "        vertical-align: top;\n",
       "    }\n",
       "\n",
       "    .dataframe thead th {\n",
       "        text-align: right;\n",
       "    }\n",
       "</style>\n",
       "<table border=\"1\" class=\"dataframe\">\n",
       "  <thead>\n",
       "    <tr style=\"text-align: right;\">\n",
       "      <th></th>\n",
       "      <th>SURVEY_DATE</th>\n",
       "      <th>PRICE</th>\n",
       "    </tr>\n",
       "  </thead>\n",
       "  <tbody>\n",
       "    <tr>\n",
       "      <th>0</th>\n",
       "      <td>2005-01-03</td>\n",
       "      <td>736.300000</td>\n",
       "    </tr>\n",
       "    <tr>\n",
       "      <th>1</th>\n",
       "      <td>2005-01-10</td>\n",
       "      <td>730.915000</td>\n",
       "    </tr>\n",
       "    <tr>\n",
       "      <th>2</th>\n",
       "      <td>2005-01-17</td>\n",
       "      <td>734.236667</td>\n",
       "    </tr>\n",
       "    <tr>\n",
       "      <th>3</th>\n",
       "      <td>2005-01-24</td>\n",
       "      <td>737.906667</td>\n",
       "    </tr>\n",
       "    <tr>\n",
       "      <th>4</th>\n",
       "      <td>2005-01-31</td>\n",
       "      <td>750.216667</td>\n",
       "    </tr>\n",
       "    <tr>\n",
       "      <th>...</th>\n",
       "      <td>...</td>\n",
       "      <td>...</td>\n",
       "    </tr>\n",
       "    <tr>\n",
       "      <th>825</th>\n",
       "      <td>2021-07-19</td>\n",
       "      <td>1086.850000</td>\n",
       "    </tr>\n",
       "    <tr>\n",
       "      <th>826</th>\n",
       "      <td>2021-07-26</td>\n",
       "      <td>1084.550000</td>\n",
       "    </tr>\n",
       "    <tr>\n",
       "      <th>827</th>\n",
       "      <td>2021-08-02</td>\n",
       "      <td>1087.373333</td>\n",
       "    </tr>\n",
       "    <tr>\n",
       "      <th>828</th>\n",
       "      <td>2021-08-09</td>\n",
       "      <td>1083.546667</td>\n",
       "    </tr>\n",
       "    <tr>\n",
       "      <th>829</th>\n",
       "      <td>2021-08-16</td>\n",
       "      <td>1083.760000</td>\n",
       "    </tr>\n",
       "  </tbody>\n",
       "</table>\n",
       "<p>830 rows × 2 columns</p>\n",
       "</div>"
      ],
      "text/plain": [
       "    SURVEY_DATE        PRICE\n",
       "0    2005-01-03   736.300000\n",
       "1    2005-01-10   730.915000\n",
       "2    2005-01-17   734.236667\n",
       "3    2005-01-24   737.906667\n",
       "4    2005-01-31   750.216667\n",
       "..          ...          ...\n",
       "825  2021-07-19  1086.850000\n",
       "826  2021-07-26  1084.550000\n",
       "827  2021-08-02  1087.373333\n",
       "828  2021-08-09  1083.546667\n",
       "829  2021-08-16  1083.760000\n",
       "\n",
       "[830 rows x 2 columns]"
      ]
     },
     "execution_count": 9,
     "metadata": {},
     "output_type": "execute_result"
    }
   ],
   "source": [
    "df1 = df1.groupby(['SURVEY_DATE'])['PRICE'].mean().reset_index()\n",
    "df1"
   ]
  },
  {
   "cell_type": "code",
   "execution_count": 10,
   "id": "1ad1773e",
   "metadata": {},
   "outputs": [
    {
     "data": {
      "text/plain": [
       "Series([], Name: SURVEY_DATE, dtype: int64)"
      ]
     },
     "execution_count": 10,
     "metadata": {},
     "output_type": "execute_result"
    }
   ],
   "source": [
    "d = df1['SURVEY_DATE'].value_counts()\n",
    "d[d>1]"
   ]
  },
  {
   "cell_type": "code",
   "execution_count": 11,
   "id": "8f5a956a",
   "metadata": {},
   "outputs": [
    {
     "data": {
      "text/plain": [
       "SURVEY_DATE     object\n",
       "PRICE          float64\n",
       "dtype: object"
      ]
     },
     "execution_count": 11,
     "metadata": {},
     "output_type": "execute_result"
    }
   ],
   "source": [
    "df1.dtypes"
   ]
  },
  {
   "cell_type": "markdown",
   "id": "a40d05cc",
   "metadata": {},
   "source": [
    "#### Changing SURVEY_COLUMN To Datetime Format"
   ]
  },
  {
   "cell_type": "code",
   "execution_count": 12,
   "id": "d5fbaa8c",
   "metadata": {},
   "outputs": [
    {
     "data": {
      "text/html": [
       "<div>\n",
       "<style scoped>\n",
       "    .dataframe tbody tr th:only-of-type {\n",
       "        vertical-align: middle;\n",
       "    }\n",
       "\n",
       "    .dataframe tbody tr th {\n",
       "        vertical-align: top;\n",
       "    }\n",
       "\n",
       "    .dataframe thead th {\n",
       "        text-align: right;\n",
       "    }\n",
       "</style>\n",
       "<table border=\"1\" class=\"dataframe\">\n",
       "  <thead>\n",
       "    <tr style=\"text-align: right;\">\n",
       "      <th></th>\n",
       "      <th>SURVEY_DATE</th>\n",
       "      <th>PRICE</th>\n",
       "    </tr>\n",
       "  </thead>\n",
       "  <tbody>\n",
       "    <tr>\n",
       "      <th>0</th>\n",
       "      <td>2005-01-03</td>\n",
       "      <td>736.300000</td>\n",
       "    </tr>\n",
       "    <tr>\n",
       "      <th>1</th>\n",
       "      <td>2005-01-10</td>\n",
       "      <td>730.915000</td>\n",
       "    </tr>\n",
       "    <tr>\n",
       "      <th>2</th>\n",
       "      <td>2005-01-17</td>\n",
       "      <td>734.236667</td>\n",
       "    </tr>\n",
       "    <tr>\n",
       "      <th>3</th>\n",
       "      <td>2005-01-24</td>\n",
       "      <td>737.906667</td>\n",
       "    </tr>\n",
       "    <tr>\n",
       "      <th>4</th>\n",
       "      <td>2005-01-31</td>\n",
       "      <td>750.216667</td>\n",
       "    </tr>\n",
       "  </tbody>\n",
       "</table>\n",
       "</div>"
      ],
      "text/plain": [
       "  SURVEY_DATE       PRICE\n",
       "0  2005-01-03  736.300000\n",
       "1  2005-01-10  730.915000\n",
       "2  2005-01-17  734.236667\n",
       "3  2005-01-24  737.906667\n",
       "4  2005-01-31  750.216667"
      ]
     },
     "execution_count": 12,
     "metadata": {},
     "output_type": "execute_result"
    }
   ],
   "source": [
    "df1['SURVEY_DATE'] = pd.to_datetime(df1['SURVEY_DATE'])\n",
    "df1.sort_values('SURVEY_DATE',inplace=True)\n",
    "df1.head()"
   ]
  },
  {
   "cell_type": "code",
   "execution_count": 13,
   "id": "e86f928c",
   "metadata": {},
   "outputs": [
    {
     "data": {
      "text/html": [
       "<div>\n",
       "<style scoped>\n",
       "    .dataframe tbody tr th:only-of-type {\n",
       "        vertical-align: middle;\n",
       "    }\n",
       "\n",
       "    .dataframe tbody tr th {\n",
       "        vertical-align: top;\n",
       "    }\n",
       "\n",
       "    .dataframe thead th {\n",
       "        text-align: right;\n",
       "    }\n",
       "</style>\n",
       "<table border=\"1\" class=\"dataframe\">\n",
       "  <thead>\n",
       "    <tr style=\"text-align: right;\">\n",
       "      <th></th>\n",
       "      <th>PRICE</th>\n",
       "    </tr>\n",
       "    <tr>\n",
       "      <th>SURVEY_DATE</th>\n",
       "      <th></th>\n",
       "    </tr>\n",
       "  </thead>\n",
       "  <tbody>\n",
       "    <tr>\n",
       "      <th>2005-01-03</th>\n",
       "      <td>736.300000</td>\n",
       "    </tr>\n",
       "    <tr>\n",
       "      <th>2005-01-10</th>\n",
       "      <td>730.915000</td>\n",
       "    </tr>\n",
       "    <tr>\n",
       "      <th>2005-01-17</th>\n",
       "      <td>734.236667</td>\n",
       "    </tr>\n",
       "    <tr>\n",
       "      <th>2005-01-24</th>\n",
       "      <td>737.906667</td>\n",
       "    </tr>\n",
       "    <tr>\n",
       "      <th>2005-01-31</th>\n",
       "      <td>750.216667</td>\n",
       "    </tr>\n",
       "  </tbody>\n",
       "</table>\n",
       "</div>"
      ],
      "text/plain": [
       "                  PRICE\n",
       "SURVEY_DATE            \n",
       "2005-01-03   736.300000\n",
       "2005-01-10   730.915000\n",
       "2005-01-17   734.236667\n",
       "2005-01-24   737.906667\n",
       "2005-01-31   750.216667"
      ]
     },
     "execution_count": 13,
     "metadata": {},
     "output_type": "execute_result"
    }
   ],
   "source": [
    "df1.set_index('SURVEY_DATE',inplace=True)\n",
    "df1.head()"
   ]
  },
  {
   "cell_type": "code",
   "execution_count": 14,
   "id": "93367787",
   "metadata": {},
   "outputs": [
    {
     "data": {
      "text/html": [
       "<div>\n",
       "<style scoped>\n",
       "    .dataframe tbody tr th:only-of-type {\n",
       "        vertical-align: middle;\n",
       "    }\n",
       "\n",
       "    .dataframe tbody tr th {\n",
       "        vertical-align: top;\n",
       "    }\n",
       "\n",
       "    .dataframe thead th {\n",
       "        text-align: right;\n",
       "    }\n",
       "</style>\n",
       "<table border=\"1\" class=\"dataframe\">\n",
       "  <thead>\n",
       "    <tr style=\"text-align: right;\">\n",
       "      <th></th>\n",
       "      <th>PRICE</th>\n",
       "    </tr>\n",
       "    <tr>\n",
       "      <th>SURVEY_DATE</th>\n",
       "      <th></th>\n",
       "    </tr>\n",
       "  </thead>\n",
       "  <tbody>\n",
       "    <tr>\n",
       "      <th>2005-01-03</th>\n",
       "      <td>736.300000</td>\n",
       "    </tr>\n",
       "    <tr>\n",
       "      <th>2005-01-10</th>\n",
       "      <td>730.915000</td>\n",
       "    </tr>\n",
       "    <tr>\n",
       "      <th>2005-01-17</th>\n",
       "      <td>734.236667</td>\n",
       "    </tr>\n",
       "    <tr>\n",
       "      <th>2005-01-24</th>\n",
       "      <td>737.906667</td>\n",
       "    </tr>\n",
       "    <tr>\n",
       "      <th>2005-01-31</th>\n",
       "      <td>750.216667</td>\n",
       "    </tr>\n",
       "    <tr>\n",
       "      <th>2005-02-07</th>\n",
       "      <td>746.933333</td>\n",
       "    </tr>\n",
       "    <tr>\n",
       "      <th>2005-02-14</th>\n",
       "      <td>747.961667</td>\n",
       "    </tr>\n",
       "    <tr>\n",
       "      <th>2005-02-21</th>\n",
       "      <td>748.141667</td>\n",
       "    </tr>\n",
       "    <tr>\n",
       "      <th>2005-02-28</th>\n",
       "      <td>755.055000</td>\n",
       "    </tr>\n",
       "    <tr>\n",
       "      <th>2005-03-07</th>\n",
       "      <td>770.776667</td>\n",
       "    </tr>\n",
       "    <tr>\n",
       "      <th>2005-03-14</th>\n",
       "      <td>779.911667</td>\n",
       "    </tr>\n",
       "    <tr>\n",
       "      <th>2005-03-21</th>\n",
       "      <td>782.240000</td>\n",
       "    </tr>\n",
       "    <tr>\n",
       "      <th>2005-04-04</th>\n",
       "      <td>789.035000</td>\n",
       "    </tr>\n",
       "    <tr>\n",
       "      <th>2005-04-11</th>\n",
       "      <td>810.925000</td>\n",
       "    </tr>\n",
       "    <tr>\n",
       "      <th>2005-04-18</th>\n",
       "      <td>803.903333</td>\n",
       "    </tr>\n",
       "    <tr>\n",
       "      <th>2005-04-25</th>\n",
       "      <td>804.380000</td>\n",
       "    </tr>\n",
       "    <tr>\n",
       "      <th>2005-05-02</th>\n",
       "      <td>796.511667</td>\n",
       "    </tr>\n",
       "    <tr>\n",
       "      <th>2005-05-09</th>\n",
       "      <td>785.745000</td>\n",
       "    </tr>\n",
       "    <tr>\n",
       "      <th>2005-05-16</th>\n",
       "      <td>777.601667</td>\n",
       "    </tr>\n",
       "    <tr>\n",
       "      <th>2005-05-23</th>\n",
       "      <td>776.781667</td>\n",
       "    </tr>\n",
       "    <tr>\n",
       "      <th>2005-05-30</th>\n",
       "      <td>779.073333</td>\n",
       "    </tr>\n",
       "    <tr>\n",
       "      <th>2005-06-06</th>\n",
       "      <td>790.163333</td>\n",
       "    </tr>\n",
       "    <tr>\n",
       "      <th>2005-06-13</th>\n",
       "      <td>802.320000</td>\n",
       "    </tr>\n",
       "    <tr>\n",
       "      <th>2005-06-20</th>\n",
       "      <td>808.806667</td>\n",
       "    </tr>\n",
       "    <tr>\n",
       "      <th>2005-06-27</th>\n",
       "      <td>821.570000</td>\n",
       "    </tr>\n",
       "  </tbody>\n",
       "</table>\n",
       "</div>"
      ],
      "text/plain": [
       "                  PRICE\n",
       "SURVEY_DATE            \n",
       "2005-01-03   736.300000\n",
       "2005-01-10   730.915000\n",
       "2005-01-17   734.236667\n",
       "2005-01-24   737.906667\n",
       "2005-01-31   750.216667\n",
       "2005-02-07   746.933333\n",
       "2005-02-14   747.961667\n",
       "2005-02-21   748.141667\n",
       "2005-02-28   755.055000\n",
       "2005-03-07   770.776667\n",
       "2005-03-14   779.911667\n",
       "2005-03-21   782.240000\n",
       "2005-04-04   789.035000\n",
       "2005-04-11   810.925000\n",
       "2005-04-18   803.903333\n",
       "2005-04-25   804.380000\n",
       "2005-05-02   796.511667\n",
       "2005-05-09   785.745000\n",
       "2005-05-16   777.601667\n",
       "2005-05-23   776.781667\n",
       "2005-05-30   779.073333\n",
       "2005-06-06   790.163333\n",
       "2005-06-13   802.320000\n",
       "2005-06-20   808.806667\n",
       "2005-06-27   821.570000"
      ]
     },
     "execution_count": 14,
     "metadata": {},
     "output_type": "execute_result"
    }
   ],
   "source": [
    "df1.head(25)"
   ]
  },
  {
   "cell_type": "code",
   "execution_count": 15,
   "id": "6293c416",
   "metadata": {},
   "outputs": [],
   "source": [
    "from sklearn.metrics import mean_squared_error\n",
    "\n",
    "from statsmodels.tsa.seasonal import seasonal_decompose\n",
    "from statsmodels.tsa.stattools import adfuller,kpss\n",
    "\n",
    "from statsmodels.graphics.tsaplots import plot_acf,plot_pacf\n",
    "from statsmodels.tsa.arima.model import ARIMA\n",
    "\n",
    "from sklearn.linear_model import LinearRegression"
   ]
  },
  {
   "cell_type": "code",
   "execution_count": 16,
   "id": "2145e5fc",
   "metadata": {
    "scrolled": true
   },
   "outputs": [
    {
     "data": {
      "text/plain": [
       "SURVEY_DATE\n",
       "2005-01-01     737.915000\n",
       "2005-02-01     749.522917\n",
       "2005-03-01     777.642778\n",
       "2005-04-01     802.060833\n",
       "2005-05-01     783.142667\n",
       "                 ...     \n",
       "2021-04-01    1035.767500\n",
       "2021-05-01    1041.486333\n",
       "2021-06-01    1058.365417\n",
       "2021-07-01    1082.921250\n",
       "2021-08-01    1084.893333\n",
       "Freq: MS, Name: PRICE, Length: 200, dtype: float64"
      ]
     },
     "execution_count": 16,
     "metadata": {},
     "output_type": "execute_result"
    }
   ],
   "source": [
    "df1 = df1['PRICE'].resample('MS').mean()\n",
    "df1"
   ]
  },
  {
   "cell_type": "code",
   "execution_count": 17,
   "id": "e881cdc3",
   "metadata": {},
   "outputs": [
    {
     "data": {
      "text/plain": [
       "SURVEY_DATE\n",
       "2005-01-01    737.915000\n",
       "2005-02-01    749.522917\n",
       "2005-03-01    777.642778\n",
       "2005-04-01    802.060833\n",
       "2005-05-01    783.142667\n",
       "Freq: MS, Name: PRICE, dtype: float64"
      ]
     },
     "execution_count": 17,
     "metadata": {},
     "output_type": "execute_result"
    }
   ],
   "source": [
    "df1.head()"
   ]
  },
  {
   "cell_type": "code",
   "execution_count": 18,
   "id": "695e638f",
   "metadata": {},
   "outputs": [
    {
     "data": {
      "text/html": [
       "<div>\n",
       "<style scoped>\n",
       "    .dataframe tbody tr th:only-of-type {\n",
       "        vertical-align: middle;\n",
       "    }\n",
       "\n",
       "    .dataframe tbody tr th {\n",
       "        vertical-align: top;\n",
       "    }\n",
       "\n",
       "    .dataframe thead th {\n",
       "        text-align: right;\n",
       "    }\n",
       "</style>\n",
       "<table border=\"1\" class=\"dataframe\">\n",
       "  <thead>\n",
       "    <tr style=\"text-align: right;\">\n",
       "      <th></th>\n",
       "      <th>PRICE</th>\n",
       "    </tr>\n",
       "    <tr>\n",
       "      <th>SURVEY_DATE</th>\n",
       "      <th></th>\n",
       "    </tr>\n",
       "  </thead>\n",
       "  <tbody>\n",
       "    <tr>\n",
       "      <th>2005-01-01</th>\n",
       "      <td>737.915000</td>\n",
       "    </tr>\n",
       "    <tr>\n",
       "      <th>2005-02-01</th>\n",
       "      <td>749.522917</td>\n",
       "    </tr>\n",
       "    <tr>\n",
       "      <th>2005-03-01</th>\n",
       "      <td>777.642778</td>\n",
       "    </tr>\n",
       "    <tr>\n",
       "      <th>2005-04-01</th>\n",
       "      <td>802.060833</td>\n",
       "    </tr>\n",
       "    <tr>\n",
       "      <th>2005-05-01</th>\n",
       "      <td>783.142667</td>\n",
       "    </tr>\n",
       "  </tbody>\n",
       "</table>\n",
       "</div>"
      ],
      "text/plain": [
       "                  PRICE\n",
       "SURVEY_DATE            \n",
       "2005-01-01   737.915000\n",
       "2005-02-01   749.522917\n",
       "2005-03-01   777.642778\n",
       "2005-04-01   802.060833\n",
       "2005-05-01   783.142667"
      ]
     },
     "execution_count": 18,
     "metadata": {},
     "output_type": "execute_result"
    }
   ],
   "source": [
    "df1 = pd.DataFrame(df1)\n",
    "df1.head()"
   ]
  },
  {
   "cell_type": "code",
   "execution_count": 19,
   "id": "2fa7f95e",
   "metadata": {},
   "outputs": [
    {
     "data": {
      "text/plain": [
       "(200, 1)"
      ]
     },
     "execution_count": 19,
     "metadata": {},
     "output_type": "execute_result"
    }
   ],
   "source": [
    "df1.shape"
   ]
  },
  {
   "cell_type": "code",
   "execution_count": 20,
   "id": "e9fbe02a",
   "metadata": {},
   "outputs": [],
   "source": [
    "def adf_test(data):\n",
    "    res = adfuller(data)\n",
    "    print('ADF-Test_Stat',res[0])\n",
    "    print('p-val',res[1])\n",
    "    if res[1]> 0.05:\n",
    "        print('Ho accepted - Data is non-stationary')\n",
    "    else:\n",
    "        print('H1 accepted - Data is stationary')"
   ]
  },
  {
   "cell_type": "code",
   "execution_count": 21,
   "id": "c097901f",
   "metadata": {},
   "outputs": [
    {
     "name": "stdout",
     "output_type": "stream",
     "text": [
      "ADF-Test_Stat -2.407126816608766\n",
      "p-val 0.1397350127471786\n",
      "Ho accepted - Data is non-stationary\n"
     ]
    }
   ],
   "source": [
    "adf_test(df1['PRICE'])"
   ]
  },
  {
   "cell_type": "markdown",
   "id": "f01227e1",
   "metadata": {},
   "source": [
    "#### Observation - Data is not stationary. Now we will try different methods to make data Stationary"
   ]
  },
  {
   "cell_type": "code",
   "execution_count": 22,
   "id": "ede71279",
   "metadata": {},
   "outputs": [
    {
     "data": {
      "text/html": [
       "<div>\n",
       "<style scoped>\n",
       "    .dataframe tbody tr th:only-of-type {\n",
       "        vertical-align: middle;\n",
       "    }\n",
       "\n",
       "    .dataframe tbody tr th {\n",
       "        vertical-align: top;\n",
       "    }\n",
       "\n",
       "    .dataframe thead th {\n",
       "        text-align: right;\n",
       "    }\n",
       "</style>\n",
       "<table border=\"1\" class=\"dataframe\">\n",
       "  <thead>\n",
       "    <tr style=\"text-align: right;\">\n",
       "      <th></th>\n",
       "      <th>PRICE</th>\n",
       "      <th>Lag1</th>\n",
       "      <th>Lag2</th>\n",
       "    </tr>\n",
       "    <tr>\n",
       "      <th>SURVEY_DATE</th>\n",
       "      <th></th>\n",
       "      <th></th>\n",
       "      <th></th>\n",
       "    </tr>\n",
       "  </thead>\n",
       "  <tbody>\n",
       "    <tr>\n",
       "      <th>2005-01-01</th>\n",
       "      <td>737.915000</td>\n",
       "      <td>NaN</td>\n",
       "      <td>NaN</td>\n",
       "    </tr>\n",
       "    <tr>\n",
       "      <th>2005-02-01</th>\n",
       "      <td>749.522917</td>\n",
       "      <td>737.915000</td>\n",
       "      <td>NaN</td>\n",
       "    </tr>\n",
       "    <tr>\n",
       "      <th>2005-03-01</th>\n",
       "      <td>777.642778</td>\n",
       "      <td>749.522917</td>\n",
       "      <td>737.915000</td>\n",
       "    </tr>\n",
       "    <tr>\n",
       "      <th>2005-04-01</th>\n",
       "      <td>802.060833</td>\n",
       "      <td>777.642778</td>\n",
       "      <td>749.522917</td>\n",
       "    </tr>\n",
       "    <tr>\n",
       "      <th>2005-05-01</th>\n",
       "      <td>783.142667</td>\n",
       "      <td>802.060833</td>\n",
       "      <td>777.642778</td>\n",
       "    </tr>\n",
       "  </tbody>\n",
       "</table>\n",
       "</div>"
      ],
      "text/plain": [
       "                  PRICE        Lag1        Lag2\n",
       "SURVEY_DATE                                    \n",
       "2005-01-01   737.915000         NaN         NaN\n",
       "2005-02-01   749.522917  737.915000         NaN\n",
       "2005-03-01   777.642778  749.522917  737.915000\n",
       "2005-04-01   802.060833  777.642778  749.522917\n",
       "2005-05-01   783.142667  802.060833  777.642778"
      ]
     },
     "execution_count": 22,
     "metadata": {},
     "output_type": "execute_result"
    }
   ],
   "source": [
    "df1['Lag1'] = df1['PRICE'].shift(+1)\n",
    "df1['Lag2'] = df1['PRICE'].shift(+2)\n",
    "df1.head()"
   ]
  },
  {
   "cell_type": "code",
   "execution_count": 23,
   "id": "bc70502b",
   "metadata": {},
   "outputs": [],
   "source": [
    "df1.dropna(inplace=True)"
   ]
  },
  {
   "cell_type": "code",
   "execution_count": 24,
   "id": "162e8b1f",
   "metadata": {},
   "outputs": [
    {
     "data": {
      "text/html": [
       "<div>\n",
       "<style scoped>\n",
       "    .dataframe tbody tr th:only-of-type {\n",
       "        vertical-align: middle;\n",
       "    }\n",
       "\n",
       "    .dataframe tbody tr th {\n",
       "        vertical-align: top;\n",
       "    }\n",
       "\n",
       "    .dataframe thead th {\n",
       "        text-align: right;\n",
       "    }\n",
       "</style>\n",
       "<table border=\"1\" class=\"dataframe\">\n",
       "  <thead>\n",
       "    <tr style=\"text-align: right;\">\n",
       "      <th></th>\n",
       "      <th>PRICE</th>\n",
       "      <th>Lag1</th>\n",
       "      <th>Lag2</th>\n",
       "    </tr>\n",
       "    <tr>\n",
       "      <th>SURVEY_DATE</th>\n",
       "      <th></th>\n",
       "      <th></th>\n",
       "      <th></th>\n",
       "    </tr>\n",
       "  </thead>\n",
       "  <tbody>\n",
       "    <tr>\n",
       "      <th>2005-03-01</th>\n",
       "      <td>777.642778</td>\n",
       "      <td>749.522917</td>\n",
       "      <td>737.915000</td>\n",
       "    </tr>\n",
       "    <tr>\n",
       "      <th>2005-04-01</th>\n",
       "      <td>802.060833</td>\n",
       "      <td>777.642778</td>\n",
       "      <td>749.522917</td>\n",
       "    </tr>\n",
       "    <tr>\n",
       "      <th>2005-05-01</th>\n",
       "      <td>783.142667</td>\n",
       "      <td>802.060833</td>\n",
       "      <td>777.642778</td>\n",
       "    </tr>\n",
       "    <tr>\n",
       "      <th>2005-06-01</th>\n",
       "      <td>805.715000</td>\n",
       "      <td>783.142667</td>\n",
       "      <td>802.060833</td>\n",
       "    </tr>\n",
       "    <tr>\n",
       "      <th>2005-07-01</th>\n",
       "      <td>828.282500</td>\n",
       "      <td>805.715000</td>\n",
       "      <td>783.142667</td>\n",
       "    </tr>\n",
       "  </tbody>\n",
       "</table>\n",
       "</div>"
      ],
      "text/plain": [
       "                  PRICE        Lag1        Lag2\n",
       "SURVEY_DATE                                    \n",
       "2005-03-01   777.642778  749.522917  737.915000\n",
       "2005-04-01   802.060833  777.642778  749.522917\n",
       "2005-05-01   783.142667  802.060833  777.642778\n",
       "2005-06-01   805.715000  783.142667  802.060833\n",
       "2005-07-01   828.282500  805.715000  783.142667"
      ]
     },
     "execution_count": 24,
     "metadata": {},
     "output_type": "execute_result"
    }
   ],
   "source": [
    "df1.head()"
   ]
  },
  {
   "cell_type": "code",
   "execution_count": 25,
   "id": "28fe65fa",
   "metadata": {},
   "outputs": [
    {
     "name": "stdout",
     "output_type": "stream",
     "text": [
      "ADF-Test_Stat -2.344384389482103\n",
      "p-val 0.15805227305480535\n",
      "Ho accepted - Data is non-stationary\n"
     ]
    }
   ],
   "source": [
    "adf_test(df1['Lag1'])"
   ]
  },
  {
   "cell_type": "code",
   "execution_count": 26,
   "id": "44f2caf1",
   "metadata": {},
   "outputs": [
    {
     "name": "stdout",
     "output_type": "stream",
     "text": [
      "ADF-Test_Stat -2.4038309071127837\n",
      "p-val 0.14065808158189214\n",
      "Ho accepted - Data is non-stationary\n"
     ]
    }
   ],
   "source": [
    "adf_test(df1['Lag2'])"
   ]
  },
  {
   "cell_type": "code",
   "execution_count": 27,
   "id": "ba3efda5",
   "metadata": {},
   "outputs": [
    {
     "data": {
      "text/html": [
       "<div>\n",
       "<style scoped>\n",
       "    .dataframe tbody tr th:only-of-type {\n",
       "        vertical-align: middle;\n",
       "    }\n",
       "\n",
       "    .dataframe tbody tr th {\n",
       "        vertical-align: top;\n",
       "    }\n",
       "\n",
       "    .dataframe thead th {\n",
       "        text-align: right;\n",
       "    }\n",
       "</style>\n",
       "<table border=\"1\" class=\"dataframe\">\n",
       "  <thead>\n",
       "    <tr style=\"text-align: right;\">\n",
       "      <th></th>\n",
       "      <th>PRICE</th>\n",
       "      <th>Lag1</th>\n",
       "      <th>Lag2</th>\n",
       "      <th>Diff1</th>\n",
       "      <th>Diff2</th>\n",
       "    </tr>\n",
       "    <tr>\n",
       "      <th>SURVEY_DATE</th>\n",
       "      <th></th>\n",
       "      <th></th>\n",
       "      <th></th>\n",
       "      <th></th>\n",
       "      <th></th>\n",
       "    </tr>\n",
       "  </thead>\n",
       "  <tbody>\n",
       "    <tr>\n",
       "      <th>2005-03-01</th>\n",
       "      <td>777.642778</td>\n",
       "      <td>749.522917</td>\n",
       "      <td>737.915000</td>\n",
       "      <td>NaN</td>\n",
       "      <td>NaN</td>\n",
       "    </tr>\n",
       "    <tr>\n",
       "      <th>2005-04-01</th>\n",
       "      <td>802.060833</td>\n",
       "      <td>777.642778</td>\n",
       "      <td>749.522917</td>\n",
       "      <td>24.418056</td>\n",
       "      <td>NaN</td>\n",
       "    </tr>\n",
       "    <tr>\n",
       "      <th>2005-05-01</th>\n",
       "      <td>783.142667</td>\n",
       "      <td>802.060833</td>\n",
       "      <td>777.642778</td>\n",
       "      <td>-18.918167</td>\n",
       "      <td>5.499889</td>\n",
       "    </tr>\n",
       "    <tr>\n",
       "      <th>2005-06-01</th>\n",
       "      <td>805.715000</td>\n",
       "      <td>783.142667</td>\n",
       "      <td>802.060833</td>\n",
       "      <td>22.572333</td>\n",
       "      <td>3.654167</td>\n",
       "    </tr>\n",
       "    <tr>\n",
       "      <th>2005-07-01</th>\n",
       "      <td>828.282500</td>\n",
       "      <td>805.715000</td>\n",
       "      <td>783.142667</td>\n",
       "      <td>22.567500</td>\n",
       "      <td>45.139833</td>\n",
       "    </tr>\n",
       "  </tbody>\n",
       "</table>\n",
       "</div>"
      ],
      "text/plain": [
       "                  PRICE        Lag1        Lag2      Diff1      Diff2\n",
       "SURVEY_DATE                                                          \n",
       "2005-03-01   777.642778  749.522917  737.915000        NaN        NaN\n",
       "2005-04-01   802.060833  777.642778  749.522917  24.418056        NaN\n",
       "2005-05-01   783.142667  802.060833  777.642778 -18.918167   5.499889\n",
       "2005-06-01   805.715000  783.142667  802.060833  22.572333   3.654167\n",
       "2005-07-01   828.282500  805.715000  783.142667  22.567500  45.139833"
      ]
     },
     "execution_count": 27,
     "metadata": {},
     "output_type": "execute_result"
    }
   ],
   "source": [
    "df1['Diff1'] = df1['PRICE'].diff(1)\n",
    "df1['Diff2'] = df1['PRICE'].diff(2)\n",
    "df1.head()"
   ]
  },
  {
   "cell_type": "code",
   "execution_count": 28,
   "id": "8d69f345",
   "metadata": {},
   "outputs": [],
   "source": [
    "df1.dropna(inplace=True)"
   ]
  },
  {
   "cell_type": "code",
   "execution_count": 29,
   "id": "1694d3b3",
   "metadata": {},
   "outputs": [
    {
     "data": {
      "text/html": [
       "<div>\n",
       "<style scoped>\n",
       "    .dataframe tbody tr th:only-of-type {\n",
       "        vertical-align: middle;\n",
       "    }\n",
       "\n",
       "    .dataframe tbody tr th {\n",
       "        vertical-align: top;\n",
       "    }\n",
       "\n",
       "    .dataframe thead th {\n",
       "        text-align: right;\n",
       "    }\n",
       "</style>\n",
       "<table border=\"1\" class=\"dataframe\">\n",
       "  <thead>\n",
       "    <tr style=\"text-align: right;\">\n",
       "      <th></th>\n",
       "      <th>PRICE</th>\n",
       "      <th>Lag1</th>\n",
       "      <th>Lag2</th>\n",
       "      <th>Diff1</th>\n",
       "      <th>Diff2</th>\n",
       "    </tr>\n",
       "    <tr>\n",
       "      <th>SURVEY_DATE</th>\n",
       "      <th></th>\n",
       "      <th></th>\n",
       "      <th></th>\n",
       "      <th></th>\n",
       "      <th></th>\n",
       "    </tr>\n",
       "  </thead>\n",
       "  <tbody>\n",
       "    <tr>\n",
       "      <th>2005-05-01</th>\n",
       "      <td>783.142667</td>\n",
       "      <td>802.060833</td>\n",
       "      <td>777.642778</td>\n",
       "      <td>-18.918167</td>\n",
       "      <td>5.499889</td>\n",
       "    </tr>\n",
       "    <tr>\n",
       "      <th>2005-06-01</th>\n",
       "      <td>805.715000</td>\n",
       "      <td>783.142667</td>\n",
       "      <td>802.060833</td>\n",
       "      <td>22.572333</td>\n",
       "      <td>3.654167</td>\n",
       "    </tr>\n",
       "    <tr>\n",
       "      <th>2005-07-01</th>\n",
       "      <td>828.282500</td>\n",
       "      <td>805.715000</td>\n",
       "      <td>783.142667</td>\n",
       "      <td>22.567500</td>\n",
       "      <td>45.139833</td>\n",
       "    </tr>\n",
       "    <tr>\n",
       "      <th>2005-08-01</th>\n",
       "      <td>836.212500</td>\n",
       "      <td>828.282500</td>\n",
       "      <td>805.715000</td>\n",
       "      <td>7.930000</td>\n",
       "      <td>30.497500</td>\n",
       "    </tr>\n",
       "    <tr>\n",
       "      <th>2005-09-01</th>\n",
       "      <td>874.199583</td>\n",
       "      <td>836.212500</td>\n",
       "      <td>828.282500</td>\n",
       "      <td>37.987083</td>\n",
       "      <td>45.917083</td>\n",
       "    </tr>\n",
       "  </tbody>\n",
       "</table>\n",
       "</div>"
      ],
      "text/plain": [
       "                  PRICE        Lag1        Lag2      Diff1      Diff2\n",
       "SURVEY_DATE                                                          \n",
       "2005-05-01   783.142667  802.060833  777.642778 -18.918167   5.499889\n",
       "2005-06-01   805.715000  783.142667  802.060833  22.572333   3.654167\n",
       "2005-07-01   828.282500  805.715000  783.142667  22.567500  45.139833\n",
       "2005-08-01   836.212500  828.282500  805.715000   7.930000  30.497500\n",
       "2005-09-01   874.199583  836.212500  828.282500  37.987083  45.917083"
      ]
     },
     "execution_count": 29,
     "metadata": {},
     "output_type": "execute_result"
    }
   ],
   "source": [
    "df1.head()"
   ]
  },
  {
   "cell_type": "code",
   "execution_count": 30,
   "id": "e0ce9ff5",
   "metadata": {},
   "outputs": [
    {
     "name": "stdout",
     "output_type": "stream",
     "text": [
      "ADF-Test_Stat -8.107766849512986\n",
      "p-val 1.2494150284880713e-12\n",
      "H1 accepted - Data is stationary\n"
     ]
    }
   ],
   "source": [
    "adf_test(df1['Diff1'])"
   ]
  },
  {
   "cell_type": "markdown",
   "id": "fcb78a42",
   "metadata": {},
   "source": [
    "#### Observation - Data is stationary according at Diff1"
   ]
  },
  {
   "cell_type": "code",
   "execution_count": 31,
   "id": "24dea9cc",
   "metadata": {},
   "outputs": [
    {
     "data": {
      "image/png": "[encoded data removed]",
      "text/plain": [
       "<Figure size 432x288 with 1 Axes>"
      ]
     },
     "metadata": {
      "needs_background": "light"
     },
     "output_type": "display_data"
    }
   ],
   "source": [
    "df1['Diff1'].plot()\n",
    "plt.show()"
   ]
  },
  {
   "cell_type": "code",
   "execution_count": 32,
   "id": "d31c6507",
   "metadata": {},
   "outputs": [
    {
     "data": {
      "text/plain": [
       "<AxesSubplot:xlabel='SURVEY_DATE'>"
      ]
     },
     "execution_count": 32,
     "metadata": {},
     "output_type": "execute_result"
    },
    {
     "data": {
      "image/png": "[encoded data removed]",
      "text/plain": [
       "<Figure size 432x288 with 1 Axes>"
      ]
     },
     "metadata": {
      "needs_background": "light"
     },
     "output_type": "display_data"
    }
   ],
   "source": [
    "df1['PRICE'].plot()"
   ]
  },
  {
   "cell_type": "code",
   "execution_count": 33,
   "id": "e0330617",
   "metadata": {},
   "outputs": [
    {
     "name": "stdout",
     "output_type": "stream",
     "text": [
      "<class 'pandas.core.series.Series'>\n"
     ]
    }
   ],
   "source": [
    "df1['PRICE'].shape\n",
    "print(type(df1['PRICE']))"
   ]
  },
  {
   "cell_type": "code",
   "execution_count": 49,
   "id": "7aae3e0f",
   "metadata": {},
   "outputs": [],
   "source": [
    "df3 = pd.DataFrame(df1['PRICE'])"
   ]
  },
  {
   "cell_type": "code",
   "execution_count": 35,
   "id": "f3e583b0",
   "metadata": {},
   "outputs": [
    {
     "data": {
      "image/png": "[encoded data removed]",
      "text/plain": [
       "<Figure size 432x288 with 4 Axes>"
      ]
     },
     "metadata": {
      "needs_background": "light"
     },
     "output_type": "display_data"
    }
   ],
   "source": [
    "from statsmodels.tsa.seasonal import seasonal_decompose\n",
    "result = seasonal_decompose(df2, model='additive')\n",
    "result.plot()\n",
    "plt.show()"
   ]
  },
  {
   "cell_type": "code",
   "execution_count": 50,
   "id": "ae3500f2",
   "metadata": {},
   "outputs": [
    {
     "data": {
      "text/plain": [
       "(196, 1)"
      ]
     },
     "execution_count": 50,
     "metadata": {},
     "output_type": "execute_result"
    }
   ],
   "source": [
    "df3.shape"
   ]
  },
  {
   "cell_type": "markdown",
   "id": "ee28d9d2",
   "metadata": {},
   "source": [
    "### AutoCorrelation (ACF) and Partial Autorrelation (PACF)"
   ]
  },
  {
   "cell_type": "code",
   "execution_count": 37,
   "id": "efe65d63",
   "metadata": {},
   "outputs": [],
   "source": [
    "from statsmodels.graphics.tsaplots import plot_acf,plot_pacf"
   ]
  },
  {
   "cell_type": "code",
   "execution_count": 38,
   "id": "99fbd4f3",
   "metadata": {},
   "outputs": [
    {
     "data": {
      "image/png": "[encoded data removed]",
      "text/plain": [
       "<Figure size 432x288 with 1 Axes>"
      ]
     },
     "metadata": {
      "needs_background": "light"
     },
     "output_type": "display_data"
    }
   ],
   "source": [
    "plot_acf(df1['Diff1'])\n",
    "plt.show()\n",
    "# q = 3"
   ]
  },
  {
   "cell_type": "code",
   "execution_count": 39,
   "id": "f04915bd",
   "metadata": {},
   "outputs": [
    {
     "name": "stderr",
     "output_type": "stream",
     "text": [
      "C:\\Users\\niksm\\anaconda3\\lib\\site-packages\\statsmodels\\graphics\\tsaplots.py:348: FutureWarning: The default method 'yw' can produce PACF values outside of the [-1,1] interval. After 0.13, the default will change tounadjusted Yule-Walker ('ywm'). You can use this method now by setting method='ywm'.\n",
      "  warnings.warn(\n"
     ]
    },
    {
     "data": {
      "image/png": "[encoded data removed]",
      "text/plain": [
       "<Figure size 432x288 with 1 Axes>"
      ]
     },
     "metadata": {
      "needs_background": "light"
     },
     "output_type": "display_data"
    }
   ],
   "source": [
    "plot_pacf(df1['Diff1'])\n",
    "plt.show()\n",
    "# p = 2"
   ]
  },
  {
   "cell_type": "markdown",
   "id": "8ba273d0",
   "metadata": {},
   "source": [
    "### Observation \n",
    "***Data is seen as stationery at diff1 ( that means d=1) when the AR value is 2 (p=2) and MA value is 3 (q=3), hence giving the following ARIMA values***\n",
    "***(p,d,q) = (2,1,3)***"
   ]
  },
  {
   "cell_type": "code",
   "execution_count": 40,
   "id": "0b1f661e",
   "metadata": {},
   "outputs": [
    {
     "data": {
      "text/plain": [
       "(196,)"
      ]
     },
     "execution_count": 40,
     "metadata": {},
     "output_type": "execute_result"
    }
   ],
   "source": [
    "df1['Diff1'].shape"
   ]
  },
  {
   "cell_type": "code",
   "execution_count": 41,
   "id": "8eb1e646",
   "metadata": {},
   "outputs": [
    {
     "data": {
      "text/plain": [
       "(196,)"
      ]
     },
     "execution_count": 41,
     "metadata": {},
     "output_type": "execute_result"
    }
   ],
   "source": [
    "df1['PRICE'].shape"
   ]
  },
  {
   "cell_type": "code",
   "execution_count": 51,
   "id": "fea94759",
   "metadata": {},
   "outputs": [
    {
     "data": {
      "text/plain": [
       "SURVEY_DATE\n",
       "2005-05-01    783.142667\n",
       "2005-06-01    805.715000\n",
       "2005-07-01    828.282500\n",
       "2005-08-01    836.212500\n",
       "2005-09-01    874.199583\n",
       "Freq: MS, Name: PRICE, dtype: float64"
      ]
     },
     "execution_count": 51,
     "metadata": {},
     "output_type": "execute_result"
    }
   ],
   "source": [
    "df2=df1['PRICE']\n",
    "df2.head()"
   ]
  },
  {
   "cell_type": "markdown",
   "id": "1b97c0cf",
   "metadata": {},
   "source": [
    "### Data Split"
   ]
  },
  {
   "cell_type": "code",
   "execution_count": 52,
   "id": "ffa2ff46",
   "metadata": {},
   "outputs": [
    {
     "name": "stdout",
     "output_type": "stream",
     "text": [
      "Train_tail                    PRICE\n",
      "SURVEY_DATE             \n",
      "2018-02-01   1010.203750\n",
      "2018-03-01   1004.171667\n",
      "2018-04-01   1022.465667\n",
      "2018-05-01   1063.793750\n",
      "2018-06-01   1079.545833\n",
      "Test_tail                    PRICE\n",
      "SURVEY_DATE             \n",
      "2018-07-01   1075.119000\n",
      "2018-08-01   1073.716250\n",
      "2018-09-01   1085.301667\n",
      "2018-10-01   1112.088333\n",
      "2018-11-01   1088.981250\n"
     ]
    }
   ],
   "source": [
    "train = df3[:158]\n",
    "test = df3[158:]\n",
    "print('Train_tail',train.tail())\n",
    "print('Test_tail',test.head())"
   ]
  },
  {
   "cell_type": "code",
   "execution_count": 53,
   "id": "ddc1f2fa",
   "metadata": {},
   "outputs": [
    {
     "name": "stdout",
     "output_type": "stream",
     "text": [
      "(158, 1)\n",
      "(38, 1)\n"
     ]
    }
   ],
   "source": [
    "print(train.shape)\n",
    "print(test.shape)"
   ]
  },
  {
   "cell_type": "code",
   "execution_count": 54,
   "id": "b62af905",
   "metadata": {},
   "outputs": [
    {
     "data": {
      "image/png": "[encoded data removed]",
      "text/plain": [
       "<Figure size 576x432 with 1 Axes>"
      ]
     },
     "metadata": {
      "needs_background": "light"
     },
     "output_type": "display_data"
    }
   ],
   "source": [
    "plt.figure(figsize=(8,6))\n",
    "plt.plot(train,label='Train')\n",
    "plt.plot(test,label='Test')\n",
    "plt.grid()\n",
    "plt.legend()\n",
    "plt.show()"
   ]
  },
  {
   "cell_type": "code",
   "execution_count": 55,
   "id": "28f84627",
   "metadata": {},
   "outputs": [],
   "source": [
    "from sklearn.metrics import mean_squared_error, mean_absolute_error, mean_absolute_percentage_error"
   ]
  },
  {
   "cell_type": "markdown",
   "id": "2b384988",
   "metadata": {},
   "source": [
    "### Model Building"
   ]
  },
  {
   "cell_type": "code",
   "execution_count": 56,
   "id": "cff0baf2",
   "metadata": {},
   "outputs": [],
   "source": [
    "def test_metrics(test,pred):\n",
    "    mse = mean_squared_error(test,pred)\n",
    "    rmse = mean_squared_error(test,pred,squared=False)\n",
    "    mape = mean_absolute_percentage_error(test,pred)\n",
    "    return mse,rmse,mape"
   ]
  },
  {
   "cell_type": "markdown",
   "id": "f77693b3",
   "metadata": {},
   "source": [
    "### AR Model (2,0,0)"
   ]
  },
  {
   "cell_type": "code",
   "execution_count": 57,
   "id": "6bc9316f",
   "metadata": {},
   "outputs": [
    {
     "name": "stdout",
     "output_type": "stream",
     "text": [
      "                               SARIMAX Results                                \n",
      "==============================================================================\n",
      "Dep. Variable:                  PRICE   No. Observations:                  158\n",
      "Model:                 ARIMA(2, 0, 0)   Log Likelihood                -710.798\n",
      "Date:                Tue, 15 Nov 2022   AIC                           1429.597\n",
      "Time:                        10:58:02   BIC                           1441.847\n",
      "Sample:                    05-01-2005   HQIC                          1434.572\n",
      "                         - 06-01-2018                                         \n",
      "Covariance Type:                  opg                                         \n",
      "==============================================================================\n",
      "                 coef    std err          z      P>|z|      [0.025      0.975]\n",
      "------------------------------------------------------------------------------\n",
      "const        986.8093     57.799     17.073      0.000     873.526    1100.092\n",
      "ar.L1          1.5016      0.051     29.572      0.000       1.402       1.601\n",
      "ar.L2         -0.5265      0.050    -10.607      0.000      -0.624      -0.429\n",
      "sigma2       461.1774     44.654     10.328      0.000     373.657     548.698\n",
      "===================================================================================\n",
      "Ljung-Box (L1) (Q):                   0.15   Jarque-Bera (JB):                 5.37\n",
      "Prob(Q):                              0.70   Prob(JB):                         0.07\n",
      "Heteroskedasticity (H):               0.89   Skew:                            -0.21\n",
      "Prob(H) (two-sided):                  0.68   Kurtosis:                         3.80\n",
      "===================================================================================\n",
      "\n",
      "Warnings:\n",
      "[1] Covariance matrix calculated using the outer product of gradients (complex-step).\n"
     ]
    }
   ],
   "source": [
    "m1 = ARIMA(train,order=(2,0,0))\n",
    "ar_m1 = m1.fit()\n",
    "print(ar_m1.summary())"
   ]
  },
  {
   "cell_type": "code",
   "execution_count": 58,
   "id": "22236820",
   "metadata": {},
   "outputs": [
    {
     "data": {
      "text/plain": [
       "2018-07-01    1085.526418\n",
       "2018-08-01    1086.213269\n",
       "2018-09-01    1084.095900\n",
       "2018-10-01    1080.554943\n",
       "2018-11-01    1076.352790\n",
       "2018-12-01    1071.907319\n",
       "2019-01-01    1067.444608\n",
       "2019-02-01    1063.084114\n",
       "2019-03-01    1058.886180\n",
       "2019-04-01    1054.878523\n",
       "2019-05-01    1051.070989\n",
       "2019-06-01    1047.463772\n",
       "2019-07-01    1044.051979\n",
       "2019-08-01    1040.828159\n",
       "2019-09-01    1037.783702\n",
       "2019-10-01    1034.909603\n",
       "2019-11-01    1032.196870\n",
       "2019-12-01    1029.636747\n",
       "2020-01-01    1027.220816\n",
       "2020-02-01    1024.941052\n",
       "2020-03-01    1022.789831\n",
       "2020-04-01    1020.759935\n",
       "2020-05-01    1018.844538\n",
       "2020-06-01    1017.037191\n",
       "2020-07-01    1015.331804\n",
       "2020-08-01    1013.722627\n",
       "2020-09-01    1012.204234\n",
       "2020-10-01    1010.771504\n",
       "2020-11-01    1009.419605\n",
       "2020-12-01    1008.143978\n",
       "2021-01-01    1006.940318\n",
       "2021-02-01    1005.804567\n",
       "2021-03-01    1004.732892\n",
       "2021-04-01    1003.721679\n",
       "2021-05-01    1002.767516\n",
       "2021-06-01    1001.867186\n",
       "2021-07-01    1001.017650\n",
       "2021-08-01    1000.216043\n",
       "Freq: MS, Name: predicted_mean, dtype: float64"
      ]
     },
     "execution_count": 58,
     "metadata": {},
     "output_type": "execute_result"
    }
   ],
   "source": [
    "fcast_m1 = ar_m1.forecast(38)\n",
    "fcast_m1"
   ]
  },
  {
   "cell_type": "code",
   "execution_count": 59,
   "id": "c92616df",
   "metadata": {},
   "outputs": [
    {
     "data": {
      "image/png": "[encoded data removed]",
      "text/plain": [
       "<Figure size 576x360 with 1 Axes>"
      ]
     },
     "metadata": {
      "needs_background": "light"
     },
     "output_type": "display_data"
    }
   ],
   "source": [
    "plt.figure(figsize=(8,5))\n",
    "plt.plot(train,label='Train')\n",
    "plt.plot(test,label='Test')\n",
    "plt.plot(fcast_m1,label='Fcast')\n",
    "plt.title('AR Model')\n",
    "plt.grid()\n",
    "plt.legend()\n",
    "plt.show()"
   ]
  },
  {
   "cell_type": "code",
   "execution_count": 60,
   "id": "e4403ba6",
   "metadata": {},
   "outputs": [
    {
     "name": "stdout",
     "output_type": "stream",
     "text": [
      "AIC 1429.5965091440935\n"
     ]
    }
   ],
   "source": [
    "aic_m1 = ar_m1.aic\n",
    "print('AIC',aic_m1)"
   ]
  },
  {
   "cell_type": "code",
   "execution_count": 61,
   "id": "fe74d811",
   "metadata": {},
   "outputs": [],
   "source": [
    "mse_m1,rmse_m1,mape_m1  = test_metrics(test,fcast_m1)"
   ]
  },
  {
   "cell_type": "code",
   "execution_count": 62,
   "id": "c2d540aa",
   "metadata": {},
   "outputs": [
    {
     "data": {
      "text/html": [
       "<div>\n",
       "<style scoped>\n",
       "    .dataframe tbody tr th:only-of-type {\n",
       "        vertical-align: middle;\n",
       "    }\n",
       "\n",
       "    .dataframe tbody tr th {\n",
       "        vertical-align: top;\n",
       "    }\n",
       "\n",
       "    .dataframe thead th {\n",
       "        text-align: right;\n",
       "    }\n",
       "</style>\n",
       "<table border=\"1\" class=\"dataframe\">\n",
       "  <thead>\n",
       "    <tr style=\"text-align: right;\">\n",
       "      <th></th>\n",
       "      <th>Model</th>\n",
       "      <th>MSE</th>\n",
       "      <th>RMSE</th>\n",
       "      <th>MAPE</th>\n",
       "      <th>AIC</th>\n",
       "    </tr>\n",
       "  </thead>\n",
       "  <tbody>\n",
       "    <tr>\n",
       "      <th>1</th>\n",
       "      <td>AR(2,0,0)</td>\n",
       "      <td>3937.553952</td>\n",
       "      <td>62.749932</td>\n",
       "      <td>0.049773</td>\n",
       "      <td>1429.596509</td>\n",
       "    </tr>\n",
       "  </tbody>\n",
       "</table>\n",
       "</div>"
      ],
      "text/plain": [
       "       Model          MSE       RMSE      MAPE          AIC\n",
       "1  AR(2,0,0)  3937.553952  62.749932  0.049773  1429.596509"
      ]
     },
     "execution_count": 62,
     "metadata": {},
     "output_type": "execute_result"
    }
   ],
   "source": [
    "m1_res = pd.DataFrame({'Model':'AR(2,0,0)','MSE':mse_m1,'RMSE':rmse_m1,\n",
    "                       'MAPE':mape_m1,'AIC':aic_m1},index=[1])\n",
    "m1_res"
   ]
  },
  {
   "cell_type": "markdown",
   "id": "a372b5b7",
   "metadata": {},
   "source": [
    "### MA Model"
   ]
  },
  {
   "cell_type": "code",
   "execution_count": 63,
   "id": "54d2a543",
   "metadata": {},
   "outputs": [
    {
     "name": "stderr",
     "output_type": "stream",
     "text": [
      "C:\\Users\\niksm\\anaconda3\\lib\\site-packages\\statsmodels\\tsa\\statespace\\sarimax.py:978: UserWarning: Non-invertible starting MA parameters found. Using zeros as starting parameters.\n",
      "  warn('Non-invertible starting MA parameters found.'\n"
     ]
    },
    {
     "name": "stdout",
     "output_type": "stream",
     "text": [
      "                               SARIMAX Results                                \n",
      "==============================================================================\n",
      "Dep. Variable:                  PRICE   No. Observations:                  158\n",
      "Model:                 ARIMA(0, 0, 3)   Log Likelihood                -805.595\n",
      "Date:                Tue, 15 Nov 2022   AIC                           1621.191\n",
      "Time:                        10:58:12   BIC                           1636.504\n",
      "Sample:                    05-01-2005   HQIC                          1627.410\n",
      "                         - 06-01-2018                                         \n",
      "Covariance Type:                  opg                                         \n",
      "==============================================================================\n",
      "                 coef    std err          z      P>|z|      [0.025      0.975]\n",
      "------------------------------------------------------------------------------\n",
      "const       1000.2504     14.419     69.372      0.000     971.990    1028.511\n",
      "ma.L1          1.5361      0.575      2.670      0.008       0.409       2.664\n",
      "ma.L2          1.3871      0.317      4.369      0.000       0.765       2.009\n",
      "ma.L3          0.8507      0.498      1.708      0.088      -0.126       1.827\n",
      "sigma2      1501.3968    816.828      1.838      0.066     -99.557    3102.350\n",
      "===================================================================================\n",
      "Ljung-Box (L1) (Q):                   8.20   Jarque-Bera (JB):                 1.46\n",
      "Prob(Q):                              0.00   Prob(JB):                         0.48\n",
      "Heteroskedasticity (H):               0.57   Skew:                             0.19\n",
      "Prob(H) (two-sided):                  0.05   Kurtosis:                         2.73\n",
      "===================================================================================\n",
      "\n",
      "Warnings:\n",
      "[1] Covariance matrix calculated using the outer product of gradients (complex-step).\n"
     ]
    }
   ],
   "source": [
    "m2 = ARIMA(train,order=(0,0,3))\n",
    "ar_m2 = m2.fit()\n",
    "print(ar_m2.summary())"
   ]
  },
  {
   "cell_type": "code",
   "execution_count": 64,
   "id": "001f9155",
   "metadata": {},
   "outputs": [
    {
     "data": {
      "text/plain": [
       "2018-07-01    1037.522970\n",
       "2018-08-01    1014.372546\n",
       "2018-09-01     975.112991\n",
       "2018-10-01    1000.250422\n",
       "2018-11-01    1000.250422\n",
       "2018-12-01    1000.250422\n",
       "2019-01-01    1000.250422\n",
       "2019-02-01    1000.250422\n",
       "2019-03-01    1000.250422\n",
       "2019-04-01    1000.250422\n",
       "2019-05-01    1000.250422\n",
       "2019-06-01    1000.250422\n",
       "2019-07-01    1000.250422\n",
       "2019-08-01    1000.250422\n",
       "2019-09-01    1000.250422\n",
       "2019-10-01    1000.250422\n",
       "2019-11-01    1000.250422\n",
       "2019-12-01    1000.250422\n",
       "2020-01-01    1000.250422\n",
       "2020-02-01    1000.250422\n",
       "2020-03-01    1000.250422\n",
       "2020-04-01    1000.250422\n",
       "2020-05-01    1000.250422\n",
       "2020-06-01    1000.250422\n",
       "2020-07-01    1000.250422\n",
       "2020-08-01    1000.250422\n",
       "2020-09-01    1000.250422\n",
       "2020-10-01    1000.250422\n",
       "2020-11-01    1000.250422\n",
       "2020-12-01    1000.250422\n",
       "2021-01-01    1000.250422\n",
       "2021-02-01    1000.250422\n",
       "2021-03-01    1000.250422\n",
       "2021-04-01    1000.250422\n",
       "2021-05-01    1000.250422\n",
       "2021-06-01    1000.250422\n",
       "2021-07-01    1000.250422\n",
       "2021-08-01    1000.250422\n",
       "Freq: MS, Name: predicted_mean, dtype: float64"
      ]
     },
     "execution_count": 64,
     "metadata": {},
     "output_type": "execute_result"
    }
   ],
   "source": [
    "fcast_m2 = ar_m2.forecast(38)\n",
    "fcast_m2"
   ]
  },
  {
   "cell_type": "code",
   "execution_count": 65,
   "id": "36f472a0",
   "metadata": {},
   "outputs": [
    {
     "data": {
      "image/png": "[encoded data removed]",
      "text/plain": [
       "<Figure size 576x360 with 1 Axes>"
      ]
     },
     "metadata": {
      "needs_background": "light"
     },
     "output_type": "display_data"
    }
   ],
   "source": [
    "plt.figure(figsize=(8,5))\n",
    "plt.plot(train,label='Train')\n",
    "plt.plot(test,label='Test')\n",
    "plt.plot(fcast_m2,label='Fcast')\n",
    "plt.title('MA Model')\n",
    "plt.grid()\n",
    "plt.legend()\n",
    "plt.show()"
   ]
  },
  {
   "cell_type": "code",
   "execution_count": 66,
   "id": "f5fb81d6",
   "metadata": {},
   "outputs": [
    {
     "name": "stdout",
     "output_type": "stream",
     "text": [
      "AIC 1621.1909610741586\n"
     ]
    }
   ],
   "source": [
    "aic_m2 = ar_m2.aic\n",
    "print('AIC',aic_m2)"
   ]
  },
  {
   "cell_type": "code",
   "execution_count": 67,
   "id": "a7c310a9",
   "metadata": {},
   "outputs": [],
   "source": [
    "mse_m2,rmse_m2,mape_m2  = test_metrics(test,fcast_m2)"
   ]
  },
  {
   "cell_type": "code",
   "execution_count": 68,
   "id": "2c8900e2",
   "metadata": {},
   "outputs": [
    {
     "data": {
      "text/html": [
       "<div>\n",
       "<style scoped>\n",
       "    .dataframe tbody tr th:only-of-type {\n",
       "        vertical-align: middle;\n",
       "    }\n",
       "\n",
       "    .dataframe tbody tr th {\n",
       "        vertical-align: top;\n",
       "    }\n",
       "\n",
       "    .dataframe thead th {\n",
       "        text-align: right;\n",
       "    }\n",
       "</style>\n",
       "<table border=\"1\" class=\"dataframe\">\n",
       "  <thead>\n",
       "    <tr style=\"text-align: right;\">\n",
       "      <th></th>\n",
       "      <th>Model</th>\n",
       "      <th>MSE</th>\n",
       "      <th>RMSE</th>\n",
       "      <th>MAPE</th>\n",
       "      <th>AIC</th>\n",
       "    </tr>\n",
       "  </thead>\n",
       "  <tbody>\n",
       "    <tr>\n",
       "      <th>2</th>\n",
       "      <td>MA(0,0,3)</td>\n",
       "      <td>5174.794271</td>\n",
       "      <td>71.936043</td>\n",
       "      <td>0.066208</td>\n",
       "      <td>1621.190961</td>\n",
       "    </tr>\n",
       "  </tbody>\n",
       "</table>\n",
       "</div>"
      ],
      "text/plain": [
       "       Model          MSE       RMSE      MAPE          AIC\n",
       "2  MA(0,0,3)  5174.794271  71.936043  0.066208  1621.190961"
      ]
     },
     "execution_count": 68,
     "metadata": {},
     "output_type": "execute_result"
    }
   ],
   "source": [
    "m2_res = pd.DataFrame({'Model':'MA(0,0,3)','MSE':mse_m2,'RMSE':rmse_m2,\n",
    "                       'MAPE':mape_m2,'AIC':aic_m2},index=[2])\n",
    "m2_res"
   ]
  },
  {
   "cell_type": "code",
   "execution_count": 69,
   "id": "00105084",
   "metadata": {},
   "outputs": [
    {
     "data": {
      "text/html": [
       "<div>\n",
       "<style scoped>\n",
       "    .dataframe tbody tr th:only-of-type {\n",
       "        vertical-align: middle;\n",
       "    }\n",
       "\n",
       "    .dataframe tbody tr th {\n",
       "        vertical-align: top;\n",
       "    }\n",
       "\n",
       "    .dataframe thead th {\n",
       "        text-align: right;\n",
       "    }\n",
       "</style>\n",
       "<table border=\"1\" class=\"dataframe\">\n",
       "  <thead>\n",
       "    <tr style=\"text-align: right;\">\n",
       "      <th></th>\n",
       "      <th>Model</th>\n",
       "      <th>MSE</th>\n",
       "      <th>RMSE</th>\n",
       "      <th>MAPE</th>\n",
       "      <th>AIC</th>\n",
       "    </tr>\n",
       "  </thead>\n",
       "  <tbody>\n",
       "    <tr>\n",
       "      <th>1</th>\n",
       "      <td>AR(2,0,0)</td>\n",
       "      <td>3937.553952</td>\n",
       "      <td>62.749932</td>\n",
       "      <td>0.049773</td>\n",
       "      <td>1429.596509</td>\n",
       "    </tr>\n",
       "    <tr>\n",
       "      <th>2</th>\n",
       "      <td>MA(0,0,3)</td>\n",
       "      <td>5174.794271</td>\n",
       "      <td>71.936043</td>\n",
       "      <td>0.066208</td>\n",
       "      <td>1621.190961</td>\n",
       "    </tr>\n",
       "  </tbody>\n",
       "</table>\n",
       "</div>"
      ],
      "text/plain": [
       "       Model          MSE       RMSE      MAPE          AIC\n",
       "1  AR(2,0,0)  3937.553952  62.749932  0.049773  1429.596509\n",
       "2  MA(0,0,3)  5174.794271  71.936043  0.066208  1621.190961"
      ]
     },
     "execution_count": 69,
     "metadata": {},
     "output_type": "execute_result"
    }
   ],
   "source": [
    "res = pd.concat([m1_res,m2_res])\n",
    "res"
   ]
  },
  {
   "cell_type": "markdown",
   "id": "d43f89bb",
   "metadata": {},
   "source": [
    "### ARMA (2,0,3)"
   ]
  },
  {
   "cell_type": "code",
   "execution_count": 70,
   "id": "382eb695",
   "metadata": {},
   "outputs": [
    {
     "name": "stdout",
     "output_type": "stream",
     "text": [
      "                               SARIMAX Results                                \n",
      "==============================================================================\n",
      "Dep. Variable:                  PRICE   No. Observations:                  158\n",
      "Model:                 ARIMA(2, 0, 3)   Log Likelihood                -709.876\n",
      "Date:                Tue, 15 Nov 2022   AIC                           1433.752\n",
      "Time:                        10:58:23   BIC                           1455.190\n",
      "Sample:                    05-01-2005   HQIC                          1442.458\n",
      "                         - 06-01-2018                                         \n",
      "Covariance Type:                  opg                                         \n",
      "==============================================================================\n",
      "                 coef    std err          z      P>|z|      [0.025      0.975]\n",
      "------------------------------------------------------------------------------\n",
      "const        999.9501     62.809     15.921      0.000     876.847    1123.053\n",
      "ar.L1          1.5012      1.968      0.763      0.445      -2.355       5.357\n",
      "ar.L2         -0.5211      1.889     -0.276      0.783      -4.224       3.182\n",
      "ma.L1          0.0504      1.997      0.025      0.980      -3.863       3.964\n",
      "ma.L2         -0.0448      1.176     -0.038      0.970      -2.350       2.261\n",
      "ma.L3         -0.1079      0.536     -0.201      0.841      -1.159       0.943\n",
      "sigma2       455.6442     45.301     10.058      0.000     366.856     544.432\n",
      "===================================================================================\n",
      "Ljung-Box (L1) (Q):                   0.05   Jarque-Bera (JB):                 5.95\n",
      "Prob(Q):                              0.82   Prob(JB):                         0.05\n",
      "Heteroskedasticity (H):               0.89   Skew:                            -0.22\n",
      "Prob(H) (two-sided):                  0.68   Kurtosis:                         3.84\n",
      "===================================================================================\n",
      "\n",
      "Warnings:\n",
      "[1] Covariance matrix calculated using the outer product of gradients (complex-step).\n"
     ]
    }
   ],
   "source": [
    "m3 = ARIMA(train,order=(2,0,3))\n",
    "ar_m3 = m3.fit()\n",
    "print(ar_m3.summary())"
   ]
  },
  {
   "cell_type": "code",
   "execution_count": 71,
   "id": "630fdfd2",
   "metadata": {},
   "outputs": [
    {
     "data": {
      "text/plain": [
       "2018-07-01    1082.203205\n",
       "2018-08-01    1079.124100\n",
       "2018-09-01    1076.422506\n",
       "2018-10-01    1073.492156\n",
       "2018-11-01    1070.500941\n",
       "2018-12-01    1067.537559\n",
       "2019-01-01    1064.647682\n",
       "2019-02-01    1061.853643\n",
       "2019-03-01    1059.165175\n",
       "2019-04-01    1056.585247\n",
       "2019-05-01    1054.113245\n",
       "2019-06-01    1051.746701\n",
       "2019-07-01    1049.482228\n",
       "2019-08-01    1047.316030\n",
       "2019-09-01    1045.244172\n",
       "2019-10-01    1043.262726\n",
       "2019-11-01    1041.367843\n",
       "2019-12-01    1039.555795\n",
       "2020-01-01    1037.822991\n",
       "2020-02-01    1036.165980\n",
       "2020-03-01    1034.581456\n",
       "2020-04-01    1033.066253\n",
       "2020-05-01    1031.617341\n",
       "2020-06-01    1030.231821\n",
       "2020-07-01    1028.906919\n",
       "2020-08-01    1027.639985\n",
       "2020-09-01    1026.428483\n",
       "2020-10-01    1025.269986\n",
       "2020-11-01    1024.162177\n",
       "2020-12-01    1023.102837\n",
       "2021-01-01    1022.089846\n",
       "2021-02-01    1021.121175\n",
       "2021-03-01    1020.194887\n",
       "2021-04-01    1019.309126\n",
       "2021-05-01    1018.462120\n",
       "2021-06-01    1017.652172\n",
       "2021-07-01    1016.877662\n",
       "2021-08-01    1016.137038\n",
       "Freq: MS, Name: predicted_mean, dtype: float64"
      ]
     },
     "execution_count": 71,
     "metadata": {},
     "output_type": "execute_result"
    }
   ],
   "source": [
    "fcast_m3 = ar_m3.forecast(38)\n",
    "fcast_m3"
   ]
  },
  {
   "cell_type": "code",
   "execution_count": 72,
   "id": "4ea9e448",
   "metadata": {},
   "outputs": [
    {
     "data": {
      "image/png": "[encoded data removed]",
      "text/plain": [
       "<Figure size 576x360 with 1 Axes>"
      ]
     },
     "metadata": {
      "needs_background": "light"
     },
     "output_type": "display_data"
    }
   ],
   "source": [
    "plt.figure(figsize=(8,5))\n",
    "plt.plot(train,label='Train')\n",
    "plt.plot(test,label='Test')\n",
    "plt.plot(fcast_m3,label='Fcast')\n",
    "plt.title('ARMA Model')\n",
    "plt.grid()\n",
    "plt.legend()\n",
    "plt.show()"
   ]
  },
  {
   "cell_type": "code",
   "execution_count": 73,
   "id": "f701137b",
   "metadata": {},
   "outputs": [
    {
     "name": "stdout",
     "output_type": "stream",
     "text": [
      "AIC 1433.7521458985407\n"
     ]
    }
   ],
   "source": [
    "aic_m3 = ar_m3.aic\n",
    "print('AIC',aic_m3)"
   ]
  },
  {
   "cell_type": "code",
   "execution_count": 74,
   "id": "ddc4966a",
   "metadata": {},
   "outputs": [],
   "source": [
    "mse_m3,rmse_m3,mape_m3  = test_metrics(test,fcast_m3)"
   ]
  },
  {
   "cell_type": "code",
   "execution_count": 75,
   "id": "78333560",
   "metadata": {},
   "outputs": [
    {
     "data": {
      "text/html": [
       "<div>\n",
       "<style scoped>\n",
       "    .dataframe tbody tr th:only-of-type {\n",
       "        vertical-align: middle;\n",
       "    }\n",
       "\n",
       "    .dataframe tbody tr th {\n",
       "        vertical-align: top;\n",
       "    }\n",
       "\n",
       "    .dataframe thead th {\n",
       "        text-align: right;\n",
       "    }\n",
       "</style>\n",
       "<table border=\"1\" class=\"dataframe\">\n",
       "  <thead>\n",
       "    <tr style=\"text-align: right;\">\n",
       "      <th></th>\n",
       "      <th>Model</th>\n",
       "      <th>MSE</th>\n",
       "      <th>RMSE</th>\n",
       "      <th>MAPE</th>\n",
       "      <th>AIC</th>\n",
       "    </tr>\n",
       "  </thead>\n",
       "  <tbody>\n",
       "    <tr>\n",
       "      <th>3</th>\n",
       "      <td>ARMA(2,0,3)</td>\n",
       "      <td>4493.437414</td>\n",
       "      <td>67.033107</td>\n",
       "      <td>0.050533</td>\n",
       "      <td>1433.752146</td>\n",
       "    </tr>\n",
       "  </tbody>\n",
       "</table>\n",
       "</div>"
      ],
      "text/plain": [
       "         Model          MSE       RMSE      MAPE          AIC\n",
       "3  ARMA(2,0,3)  4493.437414  67.033107  0.050533  1433.752146"
      ]
     },
     "execution_count": 75,
     "metadata": {},
     "output_type": "execute_result"
    }
   ],
   "source": [
    "m3_res = pd.DataFrame({'Model':'ARMA(2,0,3)','MSE':mse_m3,'RMSE':rmse_m3,\n",
    "                       'MAPE':mape_m3,'AIC':aic_m3},index=[3])\n",
    "m3_res"
   ]
  },
  {
   "cell_type": "code",
   "execution_count": 76,
   "id": "7c24e4b2",
   "metadata": {},
   "outputs": [
    {
     "data": {
      "text/html": [
       "<div>\n",
       "<style scoped>\n",
       "    .dataframe tbody tr th:only-of-type {\n",
       "        vertical-align: middle;\n",
       "    }\n",
       "\n",
       "    .dataframe tbody tr th {\n",
       "        vertical-align: top;\n",
       "    }\n",
       "\n",
       "    .dataframe thead th {\n",
       "        text-align: right;\n",
       "    }\n",
       "</style>\n",
       "<table border=\"1\" class=\"dataframe\">\n",
       "  <thead>\n",
       "    <tr style=\"text-align: right;\">\n",
       "      <th></th>\n",
       "      <th>Model</th>\n",
       "      <th>MSE</th>\n",
       "      <th>RMSE</th>\n",
       "      <th>MAPE</th>\n",
       "      <th>AIC</th>\n",
       "    </tr>\n",
       "  </thead>\n",
       "  <tbody>\n",
       "    <tr>\n",
       "      <th>1</th>\n",
       "      <td>AR(2,0,0)</td>\n",
       "      <td>3937.553952</td>\n",
       "      <td>62.749932</td>\n",
       "      <td>0.049773</td>\n",
       "      <td>1429.596509</td>\n",
       "    </tr>\n",
       "    <tr>\n",
       "      <th>2</th>\n",
       "      <td>MA(0,0,3)</td>\n",
       "      <td>5174.794271</td>\n",
       "      <td>71.936043</td>\n",
       "      <td>0.066208</td>\n",
       "      <td>1621.190961</td>\n",
       "    </tr>\n",
       "    <tr>\n",
       "      <th>3</th>\n",
       "      <td>ARMA(2,0,3)</td>\n",
       "      <td>4493.437414</td>\n",
       "      <td>67.033107</td>\n",
       "      <td>0.050533</td>\n",
       "      <td>1433.752146</td>\n",
       "    </tr>\n",
       "  </tbody>\n",
       "</table>\n",
       "</div>"
      ],
      "text/plain": [
       "         Model          MSE       RMSE      MAPE          AIC\n",
       "1    AR(2,0,0)  3937.553952  62.749932  0.049773  1429.596509\n",
       "2    MA(0,0,3)  5174.794271  71.936043  0.066208  1621.190961\n",
       "3  ARMA(2,0,3)  4493.437414  67.033107  0.050533  1433.752146"
      ]
     },
     "execution_count": 76,
     "metadata": {},
     "output_type": "execute_result"
    }
   ],
   "source": [
    "res = pd.concat([res,m3_res])\n",
    "res"
   ]
  },
  {
   "cell_type": "markdown",
   "id": "977d8d4f",
   "metadata": {},
   "source": [
    "### ARIMA (2,1,3)"
   ]
  },
  {
   "cell_type": "code",
   "execution_count": 77,
   "id": "5d8c0cdd",
   "metadata": {},
   "outputs": [
    {
     "name": "stdout",
     "output_type": "stream",
     "text": [
      "                               SARIMAX Results                                \n",
      "==============================================================================\n",
      "Dep. Variable:                  PRICE   No. Observations:                  158\n",
      "Model:                 ARIMA(2, 1, 3)   Log Likelihood                -704.565\n",
      "Date:                Tue, 15 Nov 2022   AIC                           1421.131\n",
      "Time:                        10:58:37   BIC                           1439.468\n",
      "Sample:                    05-01-2005   HQIC                          1428.578\n",
      "                         - 06-01-2018                                         \n",
      "Covariance Type:                  opg                                         \n",
      "==============================================================================\n",
      "                 coef    std err          z      P>|z|      [0.025      0.975]\n",
      "------------------------------------------------------------------------------\n",
      "ar.L1          0.9969      0.295      3.379      0.001       0.419       1.575\n",
      "ar.L2         -0.0267      0.301     -0.089      0.929      -0.616       0.563\n",
      "ma.L1         -0.4356      0.297     -1.468      0.142      -1.017       0.146\n",
      "ma.L2         -0.3114      0.186     -1.676      0.094      -0.675       0.053\n",
      "ma.L3         -0.2360      0.149     -1.584      0.113      -0.528       0.056\n",
      "sigma2       460.9239     46.039     10.012      0.000     370.689     551.159\n",
      "===================================================================================\n",
      "Ljung-Box (L1) (Q):                   0.01   Jarque-Bera (JB):                 6.82\n",
      "Prob(Q):                              0.92   Prob(JB):                         0.03\n",
      "Heteroskedasticity (H):               0.93   Skew:                            -0.26\n",
      "Prob(H) (two-sided):                  0.79   Kurtosis:                         3.88\n",
      "===================================================================================\n",
      "\n",
      "Warnings:\n",
      "[1] Covariance matrix calculated using the outer product of gradients (complex-step).\n"
     ]
    }
   ],
   "source": [
    "m4 = ARIMA(train,order=(2,1,3))\n",
    "ar_m4 = m4.fit()\n",
    "print(ar_m4.summary())"
   ]
  },
  {
   "cell_type": "code",
   "execution_count": 78,
   "id": "ee0568e8",
   "metadata": {},
   "outputs": [
    {
     "data": {
      "text/plain": [
       "2018-07-01    1082.050304\n",
       "2018-08-01    1079.066599\n",
       "2018-09-01    1077.113143\n",
       "2018-10-01    1075.245507\n",
       "2018-11-01    1073.435870\n",
       "2018-12-01    1071.681756\n",
       "2019-01-01    1069.981445\n",
       "2019-02-01    1068.333284\n",
       "2019-03-01    1066.735675\n",
       "2019-04-01    1065.187067\n",
       "2019-05-01    1063.685957\n",
       "2019-06-01    1062.230889\n",
       "2019-07-01    1060.820449\n",
       "2019-08-01    1059.453270\n",
       "2019-09-01    1058.128025\n",
       "2019-10-01    1056.843427\n",
       "2019-11-01    1055.598229\n",
       "2019-12-01    1054.391223\n",
       "2020-01-01    1053.221238\n",
       "2020-02-01    1052.087138\n",
       "2020-03-01    1050.987823\n",
       "2020-04-01    1049.922226\n",
       "2020-05-01    1048.889311\n",
       "2020-06-01    1047.888078\n",
       "2020-07-01    1046.917555\n",
       "2020-08-01    1045.976798\n",
       "2020-09-01    1045.064896\n",
       "2020-10-01    1044.180964\n",
       "2020-11-01    1043.324143\n",
       "2020-12-01    1042.493602\n",
       "2021-01-01    1041.688535\n",
       "2021-02-01    1040.908161\n",
       "2021-03-01    1040.151721\n",
       "2021-04-01    1039.418483\n",
       "2021-05-01    1038.707735\n",
       "2021-06-01    1038.018786\n",
       "2021-07-01    1037.350968\n",
       "2021-08-01    1036.703634\n",
       "Freq: MS, Name: predicted_mean, dtype: float64"
      ]
     },
     "execution_count": 78,
     "metadata": {},
     "output_type": "execute_result"
    }
   ],
   "source": [
    "fcast_m4 = ar_m4.forecast(38)\n",
    "fcast_m4"
   ]
  },
  {
   "cell_type": "code",
   "execution_count": 79,
   "id": "e7e9ee2f",
   "metadata": {},
   "outputs": [
    {
     "data": {
      "image/png": "[encoded data removed]",
      "text/plain": [
       "<Figure size 576x360 with 1 Axes>"
      ]
     },
     "metadata": {
      "needs_background": "light"
     },
     "output_type": "display_data"
    }
   ],
   "source": [
    "plt.figure(figsize=(8,5))\n",
    "plt.plot(train,label='Train')\n",
    "plt.plot(test,label='Test')\n",
    "plt.plot(fcast_m4,label='Fcast')\n",
    "plt.title('ARIMA Model')\n",
    "plt.grid()\n",
    "plt.legend()\n",
    "plt.show()"
   ]
  },
  {
   "cell_type": "code",
   "execution_count": 80,
   "id": "fc1e3735",
   "metadata": {},
   "outputs": [
    {
     "name": "stdout",
     "output_type": "stream",
     "text": [
      "AIC 1421.1305530809461\n"
     ]
    }
   ],
   "source": [
    "aic_m4 = ar_m4.aic\n",
    "print('AIC',aic_m4)"
   ]
  },
  {
   "cell_type": "code",
   "execution_count": 81,
   "id": "9ed03b50",
   "metadata": {},
   "outputs": [],
   "source": [
    "mse_m4,rmse_m4,mape_m4  = test_metrics(test,fcast_m4)"
   ]
  },
  {
   "cell_type": "code",
   "execution_count": 82,
   "id": "ed4f5925",
   "metadata": {},
   "outputs": [
    {
     "data": {
      "text/html": [
       "<div>\n",
       "<style scoped>\n",
       "    .dataframe tbody tr th:only-of-type {\n",
       "        vertical-align: middle;\n",
       "    }\n",
       "\n",
       "    .dataframe tbody tr th {\n",
       "        vertical-align: top;\n",
       "    }\n",
       "\n",
       "    .dataframe thead th {\n",
       "        text-align: right;\n",
       "    }\n",
       "</style>\n",
       "<table border=\"1\" class=\"dataframe\">\n",
       "  <thead>\n",
       "    <tr style=\"text-align: right;\">\n",
       "      <th></th>\n",
       "      <th>Model</th>\n",
       "      <th>MSE</th>\n",
       "      <th>RMSE</th>\n",
       "      <th>MAPE</th>\n",
       "      <th>AIC</th>\n",
       "    </tr>\n",
       "  </thead>\n",
       "  <tbody>\n",
       "    <tr>\n",
       "      <th>4</th>\n",
       "      <td>ARIMA(2,1,3)</td>\n",
       "      <td>5602.960758</td>\n",
       "      <td>74.852928</td>\n",
       "      <td>0.053488</td>\n",
       "      <td>1421.130553</td>\n",
       "    </tr>\n",
       "  </tbody>\n",
       "</table>\n",
       "</div>"
      ],
      "text/plain": [
       "          Model          MSE       RMSE      MAPE          AIC\n",
       "4  ARIMA(2,1,3)  5602.960758  74.852928  0.053488  1421.130553"
      ]
     },
     "execution_count": 82,
     "metadata": {},
     "output_type": "execute_result"
    }
   ],
   "source": [
    "m4_res = pd.DataFrame({'Model':'ARIMA(2,1,3)','MSE':mse_m4,'RMSE':rmse_m4,\n",
    "                       'MAPE':mape_m4,'AIC':aic_m4},index=[4])\n",
    "m4_res"
   ]
  },
  {
   "cell_type": "code",
   "execution_count": 83,
   "id": "b3d684ff",
   "metadata": {},
   "outputs": [
    {
     "data": {
      "text/html": [
       "<div>\n",
       "<style scoped>\n",
       "    .dataframe tbody tr th:only-of-type {\n",
       "        vertical-align: middle;\n",
       "    }\n",
       "\n",
       "    .dataframe tbody tr th {\n",
       "        vertical-align: top;\n",
       "    }\n",
       "\n",
       "    .dataframe thead th {\n",
       "        text-align: right;\n",
       "    }\n",
       "</style>\n",
       "<table border=\"1\" class=\"dataframe\">\n",
       "  <thead>\n",
       "    <tr style=\"text-align: right;\">\n",
       "      <th></th>\n",
       "      <th>Model</th>\n",
       "      <th>MSE</th>\n",
       "      <th>RMSE</th>\n",
       "      <th>MAPE</th>\n",
       "      <th>AIC</th>\n",
       "    </tr>\n",
       "  </thead>\n",
       "  <tbody>\n",
       "    <tr>\n",
       "      <th>1</th>\n",
       "      <td>AR(2,0,0)</td>\n",
       "      <td>3937.553952</td>\n",
       "      <td>62.749932</td>\n",
       "      <td>0.049773</td>\n",
       "      <td>1429.596509</td>\n",
       "    </tr>\n",
       "    <tr>\n",
       "      <th>2</th>\n",
       "      <td>MA(0,0,3)</td>\n",
       "      <td>5174.794271</td>\n",
       "      <td>71.936043</td>\n",
       "      <td>0.066208</td>\n",
       "      <td>1621.190961</td>\n",
       "    </tr>\n",
       "    <tr>\n",
       "      <th>3</th>\n",
       "      <td>ARMA(2,0,3)</td>\n",
       "      <td>4493.437414</td>\n",
       "      <td>67.033107</td>\n",
       "      <td>0.050533</td>\n",
       "      <td>1433.752146</td>\n",
       "    </tr>\n",
       "    <tr>\n",
       "      <th>4</th>\n",
       "      <td>ARIMA(2,1,3)</td>\n",
       "      <td>5602.960758</td>\n",
       "      <td>74.852928</td>\n",
       "      <td>0.053488</td>\n",
       "      <td>1421.130553</td>\n",
       "    </tr>\n",
       "  </tbody>\n",
       "</table>\n",
       "</div>"
      ],
      "text/plain": [
       "          Model          MSE       RMSE      MAPE          AIC\n",
       "1     AR(2,0,0)  3937.553952  62.749932  0.049773  1429.596509\n",
       "2     MA(0,0,3)  5174.794271  71.936043  0.066208  1621.190961\n",
       "3   ARMA(2,0,3)  4493.437414  67.033107  0.050533  1433.752146\n",
       "4  ARIMA(2,1,3)  5602.960758  74.852928  0.053488  1421.130553"
      ]
     },
     "execution_count": 83,
     "metadata": {},
     "output_type": "execute_result"
    }
   ],
   "source": [
    "res = pd.concat([res,m4_res])\n",
    "res"
   ]
  },
  {
   "cell_type": "markdown",
   "id": "9e5b926c",
   "metadata": {},
   "source": [
    "### SES Model"
   ]
  },
  {
   "cell_type": "code",
   "execution_count": 84,
   "id": "ae719c2a",
   "metadata": {},
   "outputs": [],
   "source": [
    "from statsmodels.tsa.holtwinters import ExponentialSmoothing"
   ]
  },
  {
   "cell_type": "code",
   "execution_count": 85,
   "id": "1d8c5f9c",
   "metadata": {},
   "outputs": [
    {
     "name": "stdout",
     "output_type": "stream",
     "text": [
      "                       ExponentialSmoothing Model Results                       \n",
      "================================================================================\n",
      "Dep. Variable:                    PRICE   No. Observations:                  158\n",
      "Model:             ExponentialSmoothing   SSE                         355696.537\n",
      "Optimized:                         True   AIC                           1223.640\n",
      "Trend:                             None   BIC                           1229.765\n",
      "Seasonal:                          None   AICC                          1223.901\n",
      "Seasonal Periods:                  None   Date:                 Tue, 15 Nov 2022\n",
      "Box-Cox:                          False   Time:                         10:58:50\n",
      "Box-Cox Coeff.:                    None                                         \n",
      "==============================================================================\n",
      "                       coeff                 code              optimized      \n",
      "------------------------------------------------------------------------------\n",
      "smoothing_level            0.3000000                alpha                False\n",
      "initial_level              821.35580                  l.0                 True\n",
      "------------------------------------------------------------------------------\n"
     ]
    }
   ],
   "source": [
    "alpha=0.3\n",
    "m5 = ExponentialSmoothing(train)\n",
    "ses_m5 = m5.fit(smoothing_level=alpha)\n",
    "print(ses_m5.summary())"
   ]
  },
  {
   "cell_type": "code",
   "execution_count": 86,
   "id": "fd92670b",
   "metadata": {},
   "outputs": [
    {
     "data": {
      "text/plain": [
       "2018-07-01    1040.889274\n",
       "2018-08-01    1040.889274\n",
       "2018-09-01    1040.889274\n",
       "2018-10-01    1040.889274\n",
       "2018-11-01    1040.889274\n",
       "2018-12-01    1040.889274\n",
       "2019-01-01    1040.889274\n",
       "2019-02-01    1040.889274\n",
       "2019-03-01    1040.889274\n",
       "2019-04-01    1040.889274\n",
       "2019-05-01    1040.889274\n",
       "2019-06-01    1040.889274\n",
       "2019-07-01    1040.889274\n",
       "2019-08-01    1040.889274\n",
       "2019-09-01    1040.889274\n",
       "2019-10-01    1040.889274\n",
       "2019-11-01    1040.889274\n",
       "2019-12-01    1040.889274\n",
       "2020-01-01    1040.889274\n",
       "2020-02-01    1040.889274\n",
       "2020-03-01    1040.889274\n",
       "2020-04-01    1040.889274\n",
       "2020-05-01    1040.889274\n",
       "2020-06-01    1040.889274\n",
       "2020-07-01    1040.889274\n",
       "2020-08-01    1040.889274\n",
       "2020-09-01    1040.889274\n",
       "2020-10-01    1040.889274\n",
       "2020-11-01    1040.889274\n",
       "2020-12-01    1040.889274\n",
       "2021-01-01    1040.889274\n",
       "2021-02-01    1040.889274\n",
       "2021-03-01    1040.889274\n",
       "2021-04-01    1040.889274\n",
       "2021-05-01    1040.889274\n",
       "2021-06-01    1040.889274\n",
       "2021-07-01    1040.889274\n",
       "2021-08-01    1040.889274\n",
       "Freq: MS, dtype: float64"
      ]
     },
     "execution_count": 86,
     "metadata": {},
     "output_type": "execute_result"
    }
   ],
   "source": [
    "fcast_m5 = ses_m5.forecast(38)\n",
    "fcast_m5"
   ]
  },
  {
   "cell_type": "code",
   "execution_count": 106,
   "id": "8d8566a3",
   "metadata": {},
   "outputs": [
    {
     "data": {
      "image/png": "[encoded data removed]",
      "text/plain": [
       "<Figure size 720x360 with 1 Axes>"
      ]
     },
     "metadata": {
      "needs_background": "light"
     },
     "output_type": "display_data"
    }
   ],
   "source": [
    "plt.figure(figsize=(10,5))\n",
    "plt.plot(train,label='Train')\n",
    "plt.plot(test,label='Test')\n",
    "plt.plot(fcast_m5,label='Fcast')\n",
    "plt.title('SES(alpha=0.3) Model')\n",
    "plt.grid()\n",
    "plt.legend()\n",
    "plt.show()"
   ]
  },
  {
   "cell_type": "code",
   "execution_count": 87,
   "id": "6822d40f",
   "metadata": {},
   "outputs": [
    {
     "name": "stdout",
     "output_type": "stream",
     "text": [
      "AIC 1223.6396339099838\n"
     ]
    }
   ],
   "source": [
    "aic_m5 = ses_m5.aic\n",
    "print('AIC',aic_m5)"
   ]
  },
  {
   "cell_type": "code",
   "execution_count": 88,
   "id": "5244df50",
   "metadata": {},
   "outputs": [],
   "source": [
    "mse_m5,rmse_m5,mape_m5  = test_metrics(test,fcast_m5)"
   ]
  },
  {
   "cell_type": "code",
   "execution_count": 89,
   "id": "709d8423",
   "metadata": {},
   "outputs": [
    {
     "data": {
      "text/html": [
       "<div>\n",
       "<style scoped>\n",
       "    .dataframe tbody tr th:only-of-type {\n",
       "        vertical-align: middle;\n",
       "    }\n",
       "\n",
       "    .dataframe tbody tr th {\n",
       "        vertical-align: top;\n",
       "    }\n",
       "\n",
       "    .dataframe thead th {\n",
       "        text-align: right;\n",
       "    }\n",
       "</style>\n",
       "<table border=\"1\" class=\"dataframe\">\n",
       "  <thead>\n",
       "    <tr style=\"text-align: right;\">\n",
       "      <th></th>\n",
       "      <th>Model</th>\n",
       "      <th>MSE</th>\n",
       "      <th>RMSE</th>\n",
       "      <th>MAPE</th>\n",
       "      <th>AIC</th>\n",
       "    </tr>\n",
       "  </thead>\n",
       "  <tbody>\n",
       "    <tr>\n",
       "      <th>5</th>\n",
       "      <td>SES(alpha=0.3)</td>\n",
       "      <td>5477.168505</td>\n",
       "      <td>74.007895</td>\n",
       "      <td>0.0559</td>\n",
       "      <td>1223.639634</td>\n",
       "    </tr>\n",
       "  </tbody>\n",
       "</table>\n",
       "</div>"
      ],
      "text/plain": [
       "            Model          MSE       RMSE    MAPE          AIC\n",
       "5  SES(alpha=0.3)  5477.168505  74.007895  0.0559  1223.639634"
      ]
     },
     "execution_count": 89,
     "metadata": {},
     "output_type": "execute_result"
    }
   ],
   "source": [
    "m5_res = pd.DataFrame({'Model':'SES(alpha=0.3)','MSE':mse_m5,'RMSE':rmse_m5,\n",
    "                       'MAPE':mape_m5,'AIC':aic_m5},index=[5])\n",
    "m5_res"
   ]
  },
  {
   "cell_type": "code",
   "execution_count": 90,
   "id": "2aba7e95",
   "metadata": {},
   "outputs": [
    {
     "data": {
      "text/html": [
       "<div>\n",
       "<style scoped>\n",
       "    .dataframe tbody tr th:only-of-type {\n",
       "        vertical-align: middle;\n",
       "    }\n",
       "\n",
       "    .dataframe tbody tr th {\n",
       "        vertical-align: top;\n",
       "    }\n",
       "\n",
       "    .dataframe thead th {\n",
       "        text-align: right;\n",
       "    }\n",
       "</style>\n",
       "<table border=\"1\" class=\"dataframe\">\n",
       "  <thead>\n",
       "    <tr style=\"text-align: right;\">\n",
       "      <th></th>\n",
       "      <th>Model</th>\n",
       "      <th>MSE</th>\n",
       "      <th>RMSE</th>\n",
       "      <th>MAPE</th>\n",
       "      <th>AIC</th>\n",
       "    </tr>\n",
       "  </thead>\n",
       "  <tbody>\n",
       "    <tr>\n",
       "      <th>1</th>\n",
       "      <td>AR(2,0,0)</td>\n",
       "      <td>3937.553952</td>\n",
       "      <td>62.749932</td>\n",
       "      <td>0.049773</td>\n",
       "      <td>1429.596509</td>\n",
       "    </tr>\n",
       "    <tr>\n",
       "      <th>2</th>\n",
       "      <td>MA(0,0,3)</td>\n",
       "      <td>5174.794271</td>\n",
       "      <td>71.936043</td>\n",
       "      <td>0.066208</td>\n",
       "      <td>1621.190961</td>\n",
       "    </tr>\n",
       "    <tr>\n",
       "      <th>3</th>\n",
       "      <td>ARMA(2,0,3)</td>\n",
       "      <td>4493.437414</td>\n",
       "      <td>67.033107</td>\n",
       "      <td>0.050533</td>\n",
       "      <td>1433.752146</td>\n",
       "    </tr>\n",
       "    <tr>\n",
       "      <th>4</th>\n",
       "      <td>ARIMA(2,1,3)</td>\n",
       "      <td>5602.960758</td>\n",
       "      <td>74.852928</td>\n",
       "      <td>0.053488</td>\n",
       "      <td>1421.130553</td>\n",
       "    </tr>\n",
       "    <tr>\n",
       "      <th>5</th>\n",
       "      <td>SES(alpha=0.3)</td>\n",
       "      <td>5477.168505</td>\n",
       "      <td>74.007895</td>\n",
       "      <td>0.055900</td>\n",
       "      <td>1223.639634</td>\n",
       "    </tr>\n",
       "  </tbody>\n",
       "</table>\n",
       "</div>"
      ],
      "text/plain": [
       "            Model          MSE       RMSE      MAPE          AIC\n",
       "1       AR(2,0,0)  3937.553952  62.749932  0.049773  1429.596509\n",
       "2       MA(0,0,3)  5174.794271  71.936043  0.066208  1621.190961\n",
       "3     ARMA(2,0,3)  4493.437414  67.033107  0.050533  1433.752146\n",
       "4    ARIMA(2,1,3)  5602.960758  74.852928  0.053488  1421.130553\n",
       "5  SES(alpha=0.3)  5477.168505  74.007895  0.055900  1223.639634"
      ]
     },
     "execution_count": 90,
     "metadata": {},
     "output_type": "execute_result"
    }
   ],
   "source": [
    "res = pd.concat([res,m5_res])\n",
    "res"
   ]
  },
  {
   "cell_type": "markdown",
   "id": "baa0bf1e",
   "metadata": {},
   "source": [
    "### DES Model"
   ]
  },
  {
   "cell_type": "code",
   "execution_count": 91,
   "id": "c9cfb9d7",
   "metadata": {},
   "outputs": [
    {
     "name": "stdout",
     "output_type": "stream",
     "text": [
      "                       ExponentialSmoothing Model Results                       \n",
      "================================================================================\n",
      "Dep. Variable:                    PRICE   No. Observations:                  158\n",
      "Model:             ExponentialSmoothing   SSE                         213210.423\n",
      "Optimized:                         True   AIC                           1142.775\n",
      "Trend:                             None   BIC                           1148.901\n",
      "Seasonal:                          None   AICC                          1143.037\n",
      "Seasonal Periods:                  None   Date:                 Tue, 15 Nov 2022\n",
      "Box-Cox:                          False   Time:                         10:58:59\n",
      "Box-Cox Coeff.:                    None                                         \n",
      "==============================================================================\n",
      "                       coeff                 code              optimized      \n",
      "------------------------------------------------------------------------------\n",
      "smoothing_level            0.5000000                alpha                False\n",
      "initial_level              803.34941                  l.0                 True\n",
      "------------------------------------------------------------------------------\n"
     ]
    }
   ],
   "source": [
    "alpha=0.5\n",
    "beta = 0.8\n",
    "m6 = ExponentialSmoothing(train)\n",
    "des_m6 = m6.fit(smoothing_level=alpha,smoothing_trend=beta)\n",
    "print(des_m6.summary())"
   ]
  },
  {
   "cell_type": "code",
   "execution_count": 92,
   "id": "5309bb3c",
   "metadata": {},
   "outputs": [
    {
     "data": {
      "text/plain": [
       "2018-07-01    1059.361283\n",
       "2018-08-01    1059.361283\n",
       "2018-09-01    1059.361283\n",
       "2018-10-01    1059.361283\n",
       "2018-11-01    1059.361283\n",
       "2018-12-01    1059.361283\n",
       "2019-01-01    1059.361283\n",
       "2019-02-01    1059.361283\n",
       "2019-03-01    1059.361283\n",
       "2019-04-01    1059.361283\n",
       "2019-05-01    1059.361283\n",
       "2019-06-01    1059.361283\n",
       "2019-07-01    1059.361283\n",
       "2019-08-01    1059.361283\n",
       "2019-09-01    1059.361283\n",
       "2019-10-01    1059.361283\n",
       "2019-11-01    1059.361283\n",
       "2019-12-01    1059.361283\n",
       "2020-01-01    1059.361283\n",
       "2020-02-01    1059.361283\n",
       "2020-03-01    1059.361283\n",
       "2020-04-01    1059.361283\n",
       "2020-05-01    1059.361283\n",
       "2020-06-01    1059.361283\n",
       "2020-07-01    1059.361283\n",
       "2020-08-01    1059.361283\n",
       "2020-09-01    1059.361283\n",
       "2020-10-01    1059.361283\n",
       "2020-11-01    1059.361283\n",
       "2020-12-01    1059.361283\n",
       "2021-01-01    1059.361283\n",
       "2021-02-01    1059.361283\n",
       "2021-03-01    1059.361283\n",
       "2021-04-01    1059.361283\n",
       "2021-05-01    1059.361283\n",
       "2021-06-01    1059.361283\n",
       "2021-07-01    1059.361283\n",
       "2021-08-01    1059.361283\n",
       "Freq: MS, dtype: float64"
      ]
     },
     "execution_count": 92,
     "metadata": {},
     "output_type": "execute_result"
    }
   ],
   "source": [
    "fcast_m6 = des_m6.forecast(38)\n",
    "fcast_m6"
   ]
  },
  {
   "cell_type": "code",
   "execution_count": 93,
   "id": "a97bfbce",
   "metadata": {},
   "outputs": [
    {
     "data": {
      "image/png": "[encoded data removed]",
      "text/plain": [
       "<Figure size 720x360 with 1 Axes>"
      ]
     },
     "metadata": {
      "needs_background": "light"
     },
     "output_type": "display_data"
    }
   ],
   "source": [
    "plt.figure(figsize=(10,5))\n",
    "plt.plot(train,label='Train')\n",
    "plt.plot(test,label='Test')\n",
    "plt.plot(fcast_m6,label='Fcast')\n",
    "plt.title('DES(alpha=0.3,beta=0.2) Model')\n",
    "plt.grid()\n",
    "plt.legend()\n",
    "plt.show()"
   ]
  },
  {
   "cell_type": "code",
   "execution_count": 94,
   "id": "95c1cc90",
   "metadata": {},
   "outputs": [
    {
     "name": "stdout",
     "output_type": "stream",
     "text": [
      "AIC 1142.7754924677433\n"
     ]
    }
   ],
   "source": [
    "aic_m6 = des_m6.aic\n",
    "print('AIC',aic_m6)"
   ]
  },
  {
   "cell_type": "code",
   "execution_count": 95,
   "id": "6e6e2347",
   "metadata": {},
   "outputs": [],
   "source": [
    "mse_m6,rmse_m6,mape_m6  = test_metrics(test,fcast_m6)"
   ]
  },
  {
   "cell_type": "code",
   "execution_count": 96,
   "id": "26f1a547",
   "metadata": {},
   "outputs": [
    {
     "data": {
      "text/html": [
       "<div>\n",
       "<style scoped>\n",
       "    .dataframe tbody tr th:only-of-type {\n",
       "        vertical-align: middle;\n",
       "    }\n",
       "\n",
       "    .dataframe tbody tr th {\n",
       "        vertical-align: top;\n",
       "    }\n",
       "\n",
       "    .dataframe thead th {\n",
       "        text-align: right;\n",
       "    }\n",
       "</style>\n",
       "<table border=\"1\" class=\"dataframe\">\n",
       "  <thead>\n",
       "    <tr style=\"text-align: right;\">\n",
       "      <th></th>\n",
       "      <th>Model</th>\n",
       "      <th>MSE</th>\n",
       "      <th>RMSE</th>\n",
       "      <th>MAPE</th>\n",
       "      <th>AIC</th>\n",
       "    </tr>\n",
       "  </thead>\n",
       "  <tbody>\n",
       "    <tr>\n",
       "      <th>6</th>\n",
       "      <td>DES(alpha=0.5,beta=0.8)</td>\n",
       "      <td>6692.635987</td>\n",
       "      <td>81.808532</td>\n",
       "      <td>0.058896</td>\n",
       "      <td>1142.775492</td>\n",
       "    </tr>\n",
       "  </tbody>\n",
       "</table>\n",
       "</div>"
      ],
      "text/plain": [
       "                     Model          MSE       RMSE      MAPE          AIC\n",
       "6  DES(alpha=0.5,beta=0.8)  6692.635987  81.808532  0.058896  1142.775492"
      ]
     },
     "execution_count": 96,
     "metadata": {},
     "output_type": "execute_result"
    }
   ],
   "source": [
    "m6_res = pd.DataFrame({'Model':'DES(alpha=0.5,beta=0.8)','MSE':mse_m6,'RMSE':rmse_m6,\n",
    "                       'MAPE':mape_m6,'AIC':aic_m6},index=[6])\n",
    "m6_res"
   ]
  },
  {
   "cell_type": "code",
   "execution_count": 97,
   "id": "9762822a",
   "metadata": {},
   "outputs": [
    {
     "data": {
      "text/html": [
       "<div>\n",
       "<style scoped>\n",
       "    .dataframe tbody tr th:only-of-type {\n",
       "        vertical-align: middle;\n",
       "    }\n",
       "\n",
       "    .dataframe tbody tr th {\n",
       "        vertical-align: top;\n",
       "    }\n",
       "\n",
       "    .dataframe thead th {\n",
       "        text-align: right;\n",
       "    }\n",
       "</style>\n",
       "<table border=\"1\" class=\"dataframe\">\n",
       "  <thead>\n",
       "    <tr style=\"text-align: right;\">\n",
       "      <th></th>\n",
       "      <th>Model</th>\n",
       "      <th>MSE</th>\n",
       "      <th>RMSE</th>\n",
       "      <th>MAPE</th>\n",
       "      <th>AIC</th>\n",
       "    </tr>\n",
       "  </thead>\n",
       "  <tbody>\n",
       "    <tr>\n",
       "      <th>1</th>\n",
       "      <td>AR(2,0,0)</td>\n",
       "      <td>3937.553952</td>\n",
       "      <td>62.749932</td>\n",
       "      <td>0.049773</td>\n",
       "      <td>1429.596509</td>\n",
       "    </tr>\n",
       "    <tr>\n",
       "      <th>2</th>\n",
       "      <td>MA(0,0,3)</td>\n",
       "      <td>5174.794271</td>\n",
       "      <td>71.936043</td>\n",
       "      <td>0.066208</td>\n",
       "      <td>1621.190961</td>\n",
       "    </tr>\n",
       "    <tr>\n",
       "      <th>3</th>\n",
       "      <td>ARMA(2,0,3)</td>\n",
       "      <td>4493.437414</td>\n",
       "      <td>67.033107</td>\n",
       "      <td>0.050533</td>\n",
       "      <td>1433.752146</td>\n",
       "    </tr>\n",
       "    <tr>\n",
       "      <th>4</th>\n",
       "      <td>ARIMA(2,1,3)</td>\n",
       "      <td>5602.960758</td>\n",
       "      <td>74.852928</td>\n",
       "      <td>0.053488</td>\n",
       "      <td>1421.130553</td>\n",
       "    </tr>\n",
       "    <tr>\n",
       "      <th>5</th>\n",
       "      <td>SES(alpha=0.3)</td>\n",
       "      <td>5477.168505</td>\n",
       "      <td>74.007895</td>\n",
       "      <td>0.055900</td>\n",
       "      <td>1223.639634</td>\n",
       "    </tr>\n",
       "    <tr>\n",
       "      <th>6</th>\n",
       "      <td>DES(alpha=0.5,beta=0.8)</td>\n",
       "      <td>6692.635987</td>\n",
       "      <td>81.808532</td>\n",
       "      <td>0.058896</td>\n",
       "      <td>1142.775492</td>\n",
       "    </tr>\n",
       "  </tbody>\n",
       "</table>\n",
       "</div>"
      ],
      "text/plain": [
       "                     Model          MSE       RMSE      MAPE          AIC\n",
       "1                AR(2,0,0)  3937.553952  62.749932  0.049773  1429.596509\n",
       "2                MA(0,0,3)  5174.794271  71.936043  0.066208  1621.190961\n",
       "3              ARMA(2,0,3)  4493.437414  67.033107  0.050533  1433.752146\n",
       "4             ARIMA(2,1,3)  5602.960758  74.852928  0.053488  1421.130553\n",
       "5           SES(alpha=0.3)  5477.168505  74.007895  0.055900  1223.639634\n",
       "6  DES(alpha=0.5,beta=0.8)  6692.635987  81.808532  0.058896  1142.775492"
      ]
     },
     "execution_count": 97,
     "metadata": {},
     "output_type": "execute_result"
    }
   ],
   "source": [
    "res = pd.concat([res,m6_res])\n",
    "res"
   ]
  },
  {
   "cell_type": "markdown",
   "id": "a37ee94a",
   "metadata": {},
   "source": [
    "### TES Model (Holt Winter Method)"
   ]
  },
  {
   "cell_type": "code",
   "execution_count": 98,
   "id": "f283611e",
   "metadata": {},
   "outputs": [
    {
     "name": "stdout",
     "output_type": "stream",
     "text": [
      "                       ExponentialSmoothing Model Results                       \n",
      "================================================================================\n",
      "Dep. Variable:                    PRICE   No. Observations:                  158\n",
      "Model:             ExponentialSmoothing   SSE                         519747.883\n",
      "Optimized:                         True   AIC                           1283.564\n",
      "Trend:                             None   BIC                           1289.689\n",
      "Seasonal:                          None   AICC                          1283.825\n",
      "Seasonal Periods:                  None   Date:                 Tue, 15 Nov 2022\n",
      "Box-Cox:                          False   Time:                         10:59:10\n",
      "Box-Cox Coeff.:                    None                                         \n",
      "==============================================================================\n",
      "                       coeff                 code              optimized      \n",
      "------------------------------------------------------------------------------\n",
      "smoothing_level            0.2000000                alpha                False\n",
      "initial_level              834.70610                  l.0                 True\n",
      "------------------------------------------------------------------------------\n"
     ]
    }
   ],
   "source": [
    "alpha= 0.2\n",
    "beta = 0.4\n",
    "gamma = 0.3\n",
    "m7 = ExponentialSmoothing(train)\n",
    "tes_m7 = m7.fit(smoothing_level=alpha,smoothing_trend=beta,smoothing_seasonal=gamma)\n",
    "print(tes_m7.summary())"
   ]
  },
  {
   "cell_type": "code",
   "execution_count": 99,
   "id": "680c1823",
   "metadata": {},
   "outputs": [
    {
     "data": {
      "text/plain": [
       "2018-07-01    1025.528923\n",
       "2018-08-01    1025.528923\n",
       "2018-09-01    1025.528923\n",
       "2018-10-01    1025.528923\n",
       "2018-11-01    1025.528923\n",
       "2018-12-01    1025.528923\n",
       "2019-01-01    1025.528923\n",
       "2019-02-01    1025.528923\n",
       "2019-03-01    1025.528923\n",
       "2019-04-01    1025.528923\n",
       "2019-05-01    1025.528923\n",
       "2019-06-01    1025.528923\n",
       "2019-07-01    1025.528923\n",
       "2019-08-01    1025.528923\n",
       "2019-09-01    1025.528923\n",
       "2019-10-01    1025.528923\n",
       "2019-11-01    1025.528923\n",
       "2019-12-01    1025.528923\n",
       "2020-01-01    1025.528923\n",
       "2020-02-01    1025.528923\n",
       "2020-03-01    1025.528923\n",
       "2020-04-01    1025.528923\n",
       "2020-05-01    1025.528923\n",
       "2020-06-01    1025.528923\n",
       "2020-07-01    1025.528923\n",
       "2020-08-01    1025.528923\n",
       "2020-09-01    1025.528923\n",
       "2020-10-01    1025.528923\n",
       "2020-11-01    1025.528923\n",
       "2020-12-01    1025.528923\n",
       "2021-01-01    1025.528923\n",
       "2021-02-01    1025.528923\n",
       "2021-03-01    1025.528923\n",
       "2021-04-01    1025.528923\n",
       "2021-05-01    1025.528923\n",
       "2021-06-01    1025.528923\n",
       "2021-07-01    1025.528923\n",
       "2021-08-01    1025.528923\n",
       "Freq: MS, dtype: float64"
      ]
     },
     "execution_count": 99,
     "metadata": {},
     "output_type": "execute_result"
    }
   ],
   "source": [
    "fcast_m7 = tes_m7.forecast(38)\n",
    "fcast_m7"
   ]
  },
  {
   "cell_type": "code",
   "execution_count": 100,
   "id": "d993536a",
   "metadata": {
    "scrolled": true
   },
   "outputs": [
    {
     "data": {
      "image/png": "[encoded data removed]",
      "text/plain": [
       "<Figure size 720x360 with 1 Axes>"
      ]
     },
     "metadata": {
      "needs_background": "light"
     },
     "output_type": "display_data"
    }
   ],
   "source": [
    "plt.figure(figsize=(10,5))\n",
    "plt.plot(train,label='Train')\n",
    "plt.plot(test,label='Test')\n",
    "plt.plot(fcast_m7,label='Fcast')\n",
    "plt.title('TES(alpha=0.2,beta=0.4,gamma=0.3) Model')\n",
    "plt.grid()\n",
    "plt.legend()\n",
    "plt.show()"
   ]
  },
  {
   "cell_type": "code",
   "execution_count": 101,
   "id": "7a602f4b",
   "metadata": {},
   "outputs": [
    {
     "name": "stdout",
     "output_type": "stream",
     "text": [
      "AIC 1283.5636477306389\n"
     ]
    }
   ],
   "source": [
    "aic_m7 = tes_m7.aic\n",
    "print('AIC',aic_m7)"
   ]
  },
  {
   "cell_type": "code",
   "execution_count": 102,
   "id": "aea70568",
   "metadata": {},
   "outputs": [],
   "source": [
    "mse_m7,rmse_m7,mape_m7  = test_metrics(test,fcast_m7)"
   ]
  },
  {
   "cell_type": "code",
   "execution_count": 103,
   "id": "9a1e7909",
   "metadata": {},
   "outputs": [
    {
     "data": {
      "text/html": [
       "<div>\n",
       "<style scoped>\n",
       "    .dataframe tbody tr th:only-of-type {\n",
       "        vertical-align: middle;\n",
       "    }\n",
       "\n",
       "    .dataframe tbody tr th {\n",
       "        vertical-align: top;\n",
       "    }\n",
       "\n",
       "    .dataframe thead th {\n",
       "        text-align: right;\n",
       "    }\n",
       "</style>\n",
       "<table border=\"1\" class=\"dataframe\">\n",
       "  <thead>\n",
       "    <tr style=\"text-align: right;\">\n",
       "      <th></th>\n",
       "      <th>Model</th>\n",
       "      <th>MSE</th>\n",
       "      <th>RMSE</th>\n",
       "      <th>MAPE</th>\n",
       "      <th>AIC</th>\n",
       "    </tr>\n",
       "  </thead>\n",
       "  <tbody>\n",
       "    <tr>\n",
       "      <th>7</th>\n",
       "      <td>TES(alpha=0.2,beta=0.4,gamma=0.3)</td>\n",
       "      <td>4986.126622</td>\n",
       "      <td>70.61251</td>\n",
       "      <td>0.059236</td>\n",
       "      <td>1283.563648</td>\n",
       "    </tr>\n",
       "  </tbody>\n",
       "</table>\n",
       "</div>"
      ],
      "text/plain": [
       "                               Model          MSE      RMSE      MAPE  \\\n",
       "7  TES(alpha=0.2,beta=0.4,gamma=0.3)  4986.126622  70.61251  0.059236   \n",
       "\n",
       "           AIC  \n",
       "7  1283.563648  "
      ]
     },
     "execution_count": 103,
     "metadata": {},
     "output_type": "execute_result"
    }
   ],
   "source": [
    "m7_res = pd.DataFrame({'Model':'TES(alpha=0.2,beta=0.4,gamma=0.3)','MSE':mse_m7,'RMSE':rmse_m7,\n",
    "                       'MAPE':mape_m7,'AIC':aic_m7},index=[7])\n",
    "m7_res"
   ]
  },
  {
   "cell_type": "code",
   "execution_count": 104,
   "id": "d290d15a",
   "metadata": {},
   "outputs": [
    {
     "data": {
      "text/html": [
       "<div>\n",
       "<style scoped>\n",
       "    .dataframe tbody tr th:only-of-type {\n",
       "        vertical-align: middle;\n",
       "    }\n",
       "\n",
       "    .dataframe tbody tr th {\n",
       "        vertical-align: top;\n",
       "    }\n",
       "\n",
       "    .dataframe thead th {\n",
       "        text-align: right;\n",
       "    }\n",
       "</style>\n",
       "<table border=\"1\" class=\"dataframe\">\n",
       "  <thead>\n",
       "    <tr style=\"text-align: right;\">\n",
       "      <th></th>\n",
       "      <th>Model</th>\n",
       "      <th>MSE</th>\n",
       "      <th>RMSE</th>\n",
       "      <th>MAPE</th>\n",
       "      <th>AIC</th>\n",
       "    </tr>\n",
       "  </thead>\n",
       "  <tbody>\n",
       "    <tr>\n",
       "      <th>1</th>\n",
       "      <td>AR(2,0,0)</td>\n",
       "      <td>3937.553952</td>\n",
       "      <td>62.749932</td>\n",
       "      <td>0.049773</td>\n",
       "      <td>1429.596509</td>\n",
       "    </tr>\n",
       "    <tr>\n",
       "      <th>2</th>\n",
       "      <td>MA(0,0,3)</td>\n",
       "      <td>5174.794271</td>\n",
       "      <td>71.936043</td>\n",
       "      <td>0.066208</td>\n",
       "      <td>1621.190961</td>\n",
       "    </tr>\n",
       "    <tr>\n",
       "      <th>3</th>\n",
       "      <td>ARMA(2,0,3)</td>\n",
       "      <td>4493.437414</td>\n",
       "      <td>67.033107</td>\n",
       "      <td>0.050533</td>\n",
       "      <td>1433.752146</td>\n",
       "    </tr>\n",
       "    <tr>\n",
       "      <th>4</th>\n",
       "      <td>ARIMA(2,1,3)</td>\n",
       "      <td>5602.960758</td>\n",
       "      <td>74.852928</td>\n",
       "      <td>0.053488</td>\n",
       "      <td>1421.130553</td>\n",
       "    </tr>\n",
       "    <tr>\n",
       "      <th>5</th>\n",
       "      <td>SES(alpha=0.3)</td>\n",
       "      <td>5477.168505</td>\n",
       "      <td>74.007895</td>\n",
       "      <td>0.055900</td>\n",
       "      <td>1223.639634</td>\n",
       "    </tr>\n",
       "    <tr>\n",
       "      <th>6</th>\n",
       "      <td>DES(alpha=0.5,beta=0.8)</td>\n",
       "      <td>6692.635987</td>\n",
       "      <td>81.808532</td>\n",
       "      <td>0.058896</td>\n",
       "      <td>1142.775492</td>\n",
       "    </tr>\n",
       "    <tr>\n",
       "      <th>7</th>\n",
       "      <td>TES(alpha=0.2,beta=0.4,gamma=0.3)</td>\n",
       "      <td>4986.126622</td>\n",
       "      <td>70.612510</td>\n",
       "      <td>0.059236</td>\n",
       "      <td>1283.563648</td>\n",
       "    </tr>\n",
       "  </tbody>\n",
       "</table>\n",
       "</div>"
      ],
      "text/plain": [
       "                               Model          MSE       RMSE      MAPE  \\\n",
       "1                          AR(2,0,0)  3937.553952  62.749932  0.049773   \n",
       "2                          MA(0,0,3)  5174.794271  71.936043  0.066208   \n",
       "3                        ARMA(2,0,3)  4493.437414  67.033107  0.050533   \n",
       "4                       ARIMA(2,1,3)  5602.960758  74.852928  0.053488   \n",
       "5                     SES(alpha=0.3)  5477.168505  74.007895  0.055900   \n",
       "6            DES(alpha=0.5,beta=0.8)  6692.635987  81.808532  0.058896   \n",
       "7  TES(alpha=0.2,beta=0.4,gamma=0.3)  4986.126622  70.612510  0.059236   \n",
       "\n",
       "           AIC  \n",
       "1  1429.596509  \n",
       "2  1621.190961  \n",
       "3  1433.752146  \n",
       "4  1421.130553  \n",
       "5  1223.639634  \n",
       "6  1142.775492  \n",
       "7  1283.563648  "
      ]
     },
     "execution_count": 104,
     "metadata": {},
     "output_type": "execute_result"
    }
   ],
   "source": [
    "res = pd.concat([res,m7_res])\n",
    "res"
   ]
  },
  {
   "cell_type": "markdown",
   "id": "91a905a3",
   "metadata": {},
   "source": [
    "### PMD Arima"
   ]
  },
  {
   "cell_type": "code",
   "execution_count": 105,
   "id": "d9d48696",
   "metadata": {},
   "outputs": [],
   "source": [
    "import pmdarima as pm"
   ]
  },
  {
   "cell_type": "code",
   "execution_count": 106,
   "id": "0b5f5d20",
   "metadata": {},
   "outputs": [
    {
     "name": "stdout",
     "output_type": "stream",
     "text": [
      "Performing stepwise search to minimize aic\n",
      " ARIMA(0,1,0)(0,0,0)[0] intercept   : AIC=1463.959, Time=0.02 sec\n",
      " ARIMA(1,1,0)(0,0,0)[0] intercept   : AIC=1418.277, Time=0.07 sec\n",
      " ARIMA(0,1,1)(0,0,0)[0] intercept   : AIC=1424.220, Time=0.08 sec\n",
      " ARIMA(0,1,0)(0,0,0)[0]             : AIC=1462.831, Time=0.02 sec\n",
      " ARIMA(2,1,0)(0,0,0)[0] intercept   : AIC=1418.410, Time=0.12 sec\n",
      " ARIMA(1,1,1)(0,0,0)[0] intercept   : AIC=1418.839, Time=0.08 sec\n",
      " ARIMA(2,1,1)(0,0,0)[0] intercept   : AIC=1419.643, Time=0.12 sec\n",
      " ARIMA(1,1,0)(0,0,0)[0]             : AIC=1416.634, Time=0.04 sec\n",
      " ARIMA(2,1,0)(0,0,0)[0]             : AIC=1416.804, Time=0.05 sec\n",
      " ARIMA(1,1,1)(0,0,0)[0]             : AIC=1417.217, Time=0.05 sec\n",
      " ARIMA(0,1,1)(0,0,0)[0]             : AIC=1422.771, Time=0.04 sec\n",
      " ARIMA(2,1,1)(0,0,0)[0]             : AIC=1418.096, Time=0.06 sec\n",
      "\n",
      "Best model:  ARIMA(1,1,0)(0,0,0)[0]          \n",
      "Total fit time: 0.781 seconds\n"
     ]
    }
   ],
   "source": [
    "m8 = pm.auto_arima(train,start_p=0,start_q=0,\n",
    "              test='adf',\n",
    "              d=None,                            \n",
    "              max_p=5,max_q=5,max_d=1,\n",
    "              start_P=0,start_Q=0,\n",
    "              D=0,                       \n",
    "              max_P=5,max_Q=5,\n",
    "              seasonal=True,\n",
    "              trace=True,\n",
    "              suppress_warnings=True, \n",
    "              stepwise=True)"
   ]
  },
  {
   "cell_type": "code",
   "execution_count": 107,
   "id": "2ba9ea1b",
   "metadata": {},
   "outputs": [
    {
     "data": {
      "text/plain": [
       "2018-07-01    1087.645583\n",
       "2018-08-01    1091.810489\n",
       "2018-09-01    1093.952091\n",
       "2018-10-01    1095.053306\n",
       "2018-11-01    1095.619553\n",
       "2018-12-01    1095.910718\n",
       "2019-01-01    1096.060436\n",
       "2019-02-01    1096.137421\n",
       "2019-03-01    1096.177007\n",
       "2019-04-01    1096.197362\n",
       "2019-05-01    1096.207829\n",
       "2019-06-01    1096.213211\n",
       "2019-07-01    1096.215978\n",
       "2019-08-01    1096.217401\n",
       "2019-09-01    1096.218133\n",
       "2019-10-01    1096.218509\n",
       "2019-11-01    1096.218703\n",
       "2019-12-01    1096.218802\n",
       "2020-01-01    1096.218853\n",
       "2020-02-01    1096.218880\n",
       "2020-03-01    1096.218893\n",
       "2020-04-01    1096.218900\n",
       "2020-05-01    1096.218904\n",
       "2020-06-01    1096.218906\n",
       "2020-07-01    1096.218907\n",
       "2020-08-01    1096.218907\n",
       "2020-09-01    1096.218907\n",
       "2020-10-01    1096.218907\n",
       "2020-11-01    1096.218907\n",
       "2020-12-01    1096.218908\n",
       "2021-01-01    1096.218908\n",
       "2021-02-01    1096.218908\n",
       "2021-03-01    1096.218908\n",
       "2021-04-01    1096.218908\n",
       "2021-05-01    1096.218908\n",
       "2021-06-01    1096.218908\n",
       "2021-07-01    1096.218908\n",
       "2021-08-01    1096.218908\n",
       "Freq: MS, dtype: float64"
      ]
     },
     "execution_count": 107,
     "metadata": {},
     "output_type": "execute_result"
    }
   ],
   "source": [
    "fcast_m8 = m8.predict(38)\n",
    "fcast_m8"
   ]
  },
  {
   "cell_type": "code",
   "execution_count": 108,
   "id": "c002fd71",
   "metadata": {},
   "outputs": [
    {
     "data": {
      "text/html": [
       "<div>\n",
       "<style scoped>\n",
       "    .dataframe tbody tr th:only-of-type {\n",
       "        vertical-align: middle;\n",
       "    }\n",
       "\n",
       "    .dataframe tbody tr th {\n",
       "        vertical-align: top;\n",
       "    }\n",
       "\n",
       "    .dataframe thead th {\n",
       "        text-align: right;\n",
       "    }\n",
       "</style>\n",
       "<table border=\"1\" class=\"dataframe\">\n",
       "  <thead>\n",
       "    <tr style=\"text-align: right;\">\n",
       "      <th></th>\n",
       "      <th>Pred_price</th>\n",
       "    </tr>\n",
       "    <tr>\n",
       "      <th>Date</th>\n",
       "      <th></th>\n",
       "    </tr>\n",
       "  </thead>\n",
       "  <tbody>\n",
       "    <tr>\n",
       "      <th>2018-07-01</th>\n",
       "      <td>1087.645583</td>\n",
       "    </tr>\n",
       "    <tr>\n",
       "      <th>2018-08-01</th>\n",
       "      <td>1091.810489</td>\n",
       "    </tr>\n",
       "    <tr>\n",
       "      <th>2018-09-01</th>\n",
       "      <td>1093.952091</td>\n",
       "    </tr>\n",
       "    <tr>\n",
       "      <th>2018-10-01</th>\n",
       "      <td>1095.053306</td>\n",
       "    </tr>\n",
       "    <tr>\n",
       "      <th>2018-11-01</th>\n",
       "      <td>1095.619553</td>\n",
       "    </tr>\n",
       "  </tbody>\n",
       "</table>\n",
       "</div>"
      ],
      "text/plain": [
       "             Pred_price\n",
       "Date                   \n",
       "2018-07-01  1087.645583\n",
       "2018-08-01  1091.810489\n",
       "2018-09-01  1093.952091\n",
       "2018-10-01  1095.053306\n",
       "2018-11-01  1095.619553"
      ]
     },
     "execution_count": 108,
     "metadata": {},
     "output_type": "execute_result"
    }
   ],
   "source": [
    "fcast_m8_res = pd.DataFrame({'Date':test.index,'Pred_price':fcast_m8})\n",
    "fcast_m8_res.set_index('Date',inplace=True)\n",
    "fcast_m8_res.head()"
   ]
  },
  {
   "cell_type": "code",
   "execution_count": 109,
   "id": "fc27f173",
   "metadata": {},
   "outputs": [
    {
     "data": {
      "image/png": "[encoded data removed]",
      "text/plain": [
       "<Figure size 720x360 with 1 Axes>"
      ]
     },
     "metadata": {
      "needs_background": "light"
     },
     "output_type": "display_data"
    }
   ],
   "source": [
    "plt.figure(figsize=(10,5))\n",
    "plt.plot(train,label='Train')\n",
    "plt.plot(test,label='Test')\n",
    "plt.plot(fcast_m8_res,label='Fcast')\n",
    "plt.title('PmdARIMA model')\n",
    "plt.grid()\n",
    "plt.legend()\n",
    "plt.show()"
   ]
  },
  {
   "cell_type": "code",
   "execution_count": 110,
   "id": "41a90d8d",
   "metadata": {},
   "outputs": [
    {
     "name": "stdout",
     "output_type": "stream",
     "text": [
      "AIC 1416.6336300404846\n"
     ]
    }
   ],
   "source": [
    "aic_m8 = m8.aic()\n",
    "print('AIC',aic_m8)\n",
    "mse_m8,rmse_m8,mape_m8  = test_metrics(test,fcast_m8)"
   ]
  },
  {
   "cell_type": "code",
   "execution_count": 111,
   "id": "e9514b1c",
   "metadata": {},
   "outputs": [
    {
     "data": {
      "text/html": [
       "<div>\n",
       "<style scoped>\n",
       "    .dataframe tbody tr th:only-of-type {\n",
       "        vertical-align: middle;\n",
       "    }\n",
       "\n",
       "    .dataframe tbody tr th {\n",
       "        vertical-align: top;\n",
       "    }\n",
       "\n",
       "    .dataframe thead th {\n",
       "        text-align: right;\n",
       "    }\n",
       "</style>\n",
       "<table border=\"1\" class=\"dataframe\">\n",
       "  <thead>\n",
       "    <tr style=\"text-align: right;\">\n",
       "      <th></th>\n",
       "      <th>Model</th>\n",
       "      <th>MSE</th>\n",
       "      <th>RMSE</th>\n",
       "      <th>MAPE</th>\n",
       "      <th>AIC</th>\n",
       "    </tr>\n",
       "  </thead>\n",
       "  <tbody>\n",
       "    <tr>\n",
       "      <th>8</th>\n",
       "      <td>PmdARIMA</td>\n",
       "      <td>11142.675353</td>\n",
       "      <td>105.558872</td>\n",
       "      <td>0.083491</td>\n",
       "      <td>1416.63363</td>\n",
       "    </tr>\n",
       "  </tbody>\n",
       "</table>\n",
       "</div>"
      ],
      "text/plain": [
       "      Model           MSE        RMSE      MAPE         AIC\n",
       "8  PmdARIMA  11142.675353  105.558872  0.083491  1416.63363"
      ]
     },
     "execution_count": 111,
     "metadata": {},
     "output_type": "execute_result"
    }
   ],
   "source": [
    "m8_res = pd.DataFrame({'Model':'PmdARIMA','MSE':mse_m8,'RMSE':rmse_m8,\n",
    "                       'MAPE':mape_m8,'AIC':aic_m8},index=[8])\n",
    "m8_res"
   ]
  },
  {
   "cell_type": "code",
   "execution_count": 112,
   "id": "92e7e967",
   "metadata": {},
   "outputs": [
    {
     "data": {
      "text/html": [
       "<div>\n",
       "<style scoped>\n",
       "    .dataframe tbody tr th:only-of-type {\n",
       "        vertical-align: middle;\n",
       "    }\n",
       "\n",
       "    .dataframe tbody tr th {\n",
       "        vertical-align: top;\n",
       "    }\n",
       "\n",
       "    .dataframe thead th {\n",
       "        text-align: right;\n",
       "    }\n",
       "</style>\n",
       "<table border=\"1\" class=\"dataframe\">\n",
       "  <thead>\n",
       "    <tr style=\"text-align: right;\">\n",
       "      <th></th>\n",
       "      <th>Model</th>\n",
       "      <th>MSE</th>\n",
       "      <th>RMSE</th>\n",
       "      <th>MAPE</th>\n",
       "      <th>AIC</th>\n",
       "    </tr>\n",
       "  </thead>\n",
       "  <tbody>\n",
       "    <tr>\n",
       "      <th>1</th>\n",
       "      <td>AR(2,0,0)</td>\n",
       "      <td>3937.553952</td>\n",
       "      <td>62.749932</td>\n",
       "      <td>0.049773</td>\n",
       "      <td>1429.596509</td>\n",
       "    </tr>\n",
       "    <tr>\n",
       "      <th>2</th>\n",
       "      <td>MA(0,0,3)</td>\n",
       "      <td>5174.794271</td>\n",
       "      <td>71.936043</td>\n",
       "      <td>0.066208</td>\n",
       "      <td>1621.190961</td>\n",
       "    </tr>\n",
       "    <tr>\n",
       "      <th>3</th>\n",
       "      <td>ARMA(2,0,3)</td>\n",
       "      <td>4493.437414</td>\n",
       "      <td>67.033107</td>\n",
       "      <td>0.050533</td>\n",
       "      <td>1433.752146</td>\n",
       "    </tr>\n",
       "    <tr>\n",
       "      <th>4</th>\n",
       "      <td>ARIMA(2,1,3)</td>\n",
       "      <td>5602.960758</td>\n",
       "      <td>74.852928</td>\n",
       "      <td>0.053488</td>\n",
       "      <td>1421.130553</td>\n",
       "    </tr>\n",
       "    <tr>\n",
       "      <th>5</th>\n",
       "      <td>SES(alpha=0.3)</td>\n",
       "      <td>5477.168505</td>\n",
       "      <td>74.007895</td>\n",
       "      <td>0.055900</td>\n",
       "      <td>1223.639634</td>\n",
       "    </tr>\n",
       "    <tr>\n",
       "      <th>6</th>\n",
       "      <td>DES(alpha=0.5,beta=0.8)</td>\n",
       "      <td>6692.635987</td>\n",
       "      <td>81.808532</td>\n",
       "      <td>0.058896</td>\n",
       "      <td>1142.775492</td>\n",
       "    </tr>\n",
       "    <tr>\n",
       "      <th>7</th>\n",
       "      <td>TES(alpha=0.2,beta=0.4,gamma=0.3)</td>\n",
       "      <td>4986.126622</td>\n",
       "      <td>70.612510</td>\n",
       "      <td>0.059236</td>\n",
       "      <td>1283.563648</td>\n",
       "    </tr>\n",
       "    <tr>\n",
       "      <th>8</th>\n",
       "      <td>PmdARIMA</td>\n",
       "      <td>11142.675353</td>\n",
       "      <td>105.558872</td>\n",
       "      <td>0.083491</td>\n",
       "      <td>1416.633630</td>\n",
       "    </tr>\n",
       "  </tbody>\n",
       "</table>\n",
       "</div>"
      ],
      "text/plain": [
       "                               Model           MSE        RMSE      MAPE  \\\n",
       "1                          AR(2,0,0)   3937.553952   62.749932  0.049773   \n",
       "2                          MA(0,0,3)   5174.794271   71.936043  0.066208   \n",
       "3                        ARMA(2,0,3)   4493.437414   67.033107  0.050533   \n",
       "4                       ARIMA(2,1,3)   5602.960758   74.852928  0.053488   \n",
       "5                     SES(alpha=0.3)   5477.168505   74.007895  0.055900   \n",
       "6            DES(alpha=0.5,beta=0.8)   6692.635987   81.808532  0.058896   \n",
       "7  TES(alpha=0.2,beta=0.4,gamma=0.3)   4986.126622   70.612510  0.059236   \n",
       "8                           PmdARIMA  11142.675353  105.558872  0.083491   \n",
       "\n",
       "           AIC  \n",
       "1  1429.596509  \n",
       "2  1621.190961  \n",
       "3  1433.752146  \n",
       "4  1421.130553  \n",
       "5  1223.639634  \n",
       "6  1142.775492  \n",
       "7  1283.563648  \n",
       "8  1416.633630  "
      ]
     },
     "execution_count": 112,
     "metadata": {},
     "output_type": "execute_result"
    }
   ],
   "source": [
    "res = pd.concat([res,m8_res])\n",
    "res"
   ]
  },
  {
   "cell_type": "markdown",
   "id": "a5d279ac",
   "metadata": {},
   "source": [
    "### Observation \n",
    "\n",
    "***After testing the above models, we get to know that***<br>\n",
    "***1) Based on RMSE or MSE*** \n",
    "   ***AR (2,0,0) or the AR Model is the best suited model for prediction of future fuel price values***\n",
    "\n",
    "***2) Based on AIC, the most apprpriate model is DES i.e. the double exponential smoothing method***"
   ]
  },
  {
   "cell_type": "code",
   "execution_count": 113,
   "id": "14a98c55",
   "metadata": {},
   "outputs": [
    {
     "data": {
      "text/plain": [
       "2018-07-01    1087.645583\n",
       "2018-08-01    1091.810489\n",
       "2018-09-01    1093.952091\n",
       "2018-10-01    1095.053306\n",
       "2018-11-01    1095.619553\n",
       "                 ...     \n",
       "2026-06-01    1096.218908\n",
       "2026-07-01    1096.218908\n",
       "2026-08-01    1096.218908\n",
       "2026-09-01    1096.218908\n",
       "2026-10-01    1096.218908\n",
       "Freq: MS, Length: 100, dtype: float64"
      ]
     },
     "execution_count": 113,
     "metadata": {},
     "output_type": "execute_result"
    }
   ],
   "source": [
    "a = m8.predict(100)\n",
    "a"
   ]
  },
  {
   "cell_type": "code",
   "execution_count": 114,
   "id": "c637afb9",
   "metadata": {},
   "outputs": [],
   "source": [
    "a = pd.DataFrame(a)"
   ]
  },
  {
   "cell_type": "code",
   "execution_count": 115,
   "id": "8d099942",
   "metadata": {},
   "outputs": [
    {
     "data": {
      "text/html": [
       "<div>\n",
       "<style scoped>\n",
       "    .dataframe tbody tr th:only-of-type {\n",
       "        vertical-align: middle;\n",
       "    }\n",
       "\n",
       "    .dataframe tbody tr th {\n",
       "        vertical-align: top;\n",
       "    }\n",
       "\n",
       "    .dataframe thead th {\n",
       "        text-align: right;\n",
       "    }\n",
       "</style>\n",
       "<table border=\"1\" class=\"dataframe\">\n",
       "  <thead>\n",
       "    <tr style=\"text-align: right;\">\n",
       "      <th></th>\n",
       "      <th>0</th>\n",
       "    </tr>\n",
       "  </thead>\n",
       "  <tbody>\n",
       "    <tr>\n",
       "      <th>2018-07-01</th>\n",
       "      <td>1087.645583</td>\n",
       "    </tr>\n",
       "    <tr>\n",
       "      <th>2018-08-01</th>\n",
       "      <td>1091.810489</td>\n",
       "    </tr>\n",
       "    <tr>\n",
       "      <th>2018-09-01</th>\n",
       "      <td>1093.952091</td>\n",
       "    </tr>\n",
       "    <tr>\n",
       "      <th>2018-10-01</th>\n",
       "      <td>1095.053306</td>\n",
       "    </tr>\n",
       "    <tr>\n",
       "      <th>2018-11-01</th>\n",
       "      <td>1095.619553</td>\n",
       "    </tr>\n",
       "    <tr>\n",
       "      <th>...</th>\n",
       "      <td>...</td>\n",
       "    </tr>\n",
       "    <tr>\n",
       "      <th>2026-06-01</th>\n",
       "      <td>1096.218908</td>\n",
       "    </tr>\n",
       "    <tr>\n",
       "      <th>2026-07-01</th>\n",
       "      <td>1096.218908</td>\n",
       "    </tr>\n",
       "    <tr>\n",
       "      <th>2026-08-01</th>\n",
       "      <td>1096.218908</td>\n",
       "    </tr>\n",
       "    <tr>\n",
       "      <th>2026-09-01</th>\n",
       "      <td>1096.218908</td>\n",
       "    </tr>\n",
       "    <tr>\n",
       "      <th>2026-10-01</th>\n",
       "      <td>1096.218908</td>\n",
       "    </tr>\n",
       "  </tbody>\n",
       "</table>\n",
       "<p>100 rows × 1 columns</p>\n",
       "</div>"
      ],
      "text/plain": [
       "                      0\n",
       "2018-07-01  1087.645583\n",
       "2018-08-01  1091.810489\n",
       "2018-09-01  1093.952091\n",
       "2018-10-01  1095.053306\n",
       "2018-11-01  1095.619553\n",
       "...                 ...\n",
       "2026-06-01  1096.218908\n",
       "2026-07-01  1096.218908\n",
       "2026-08-01  1096.218908\n",
       "2026-09-01  1096.218908\n",
       "2026-10-01  1096.218908\n",
       "\n",
       "[100 rows x 1 columns]"
      ]
     },
     "execution_count": 115,
     "metadata": {},
     "output_type": "execute_result"
    }
   ],
   "source": [
    "a"
   ]
  },
  {
   "cell_type": "code",
   "execution_count": 138,
   "id": "aa1b50d5",
   "metadata": {},
   "outputs": [
    {
     "name": "stderr",
     "output_type": "stream",
     "text": [
      "C:\\Users\\niksm\\anaconda3\\lib\\site-packages\\statsmodels\\tsa\\statespace\\sarimax.py:978: UserWarning: Non-invertible starting MA parameters found. Using zeros as starting parameters.\n",
      "  warn('Non-invertible starting MA parameters found.'\n",
      "C:\\Users\\niksm\\anaconda3\\lib\\site-packages\\statsmodels\\tsa\\statespace\\sarimax.py:978: UserWarning: Non-invertible starting MA parameters found. Using zeros as starting parameters.\n",
      "  warn('Non-invertible starting MA parameters found.'\n",
      "C:\\Users\\niksm\\anaconda3\\lib\\site-packages\\statsmodels\\tsa\\statespace\\sarimax.py:978: UserWarning: Non-invertible starting MA parameters found. Using zeros as starting parameters.\n",
      "  warn('Non-invertible starting MA parameters found.'\n",
      "C:\\Users\\niksm\\anaconda3\\lib\\site-packages\\statsmodels\\tsa\\statespace\\sarimax.py:978: UserWarning: Non-invertible starting MA parameters found. Using zeros as starting parameters.\n",
      "  warn('Non-invertible starting MA parameters found.'\n",
      "C:\\Users\\niksm\\anaconda3\\lib\\site-packages\\statsmodels\\base\\model.py:604: ConvergenceWarning: Maximum Likelihood optimization failed to converge. Check mle_retvals\n",
      "  warnings.warn(\"Maximum Likelihood optimization failed to \"\n",
      "C:\\Users\\niksm\\anaconda3\\lib\\site-packages\\statsmodels\\tsa\\statespace\\sarimax.py:978: UserWarning: Non-invertible starting MA parameters found. Using zeros as starting parameters.\n",
      "  warn('Non-invertible starting MA parameters found.'\n",
      "C:\\Users\\niksm\\anaconda3\\lib\\site-packages\\statsmodels\\base\\model.py:604: ConvergenceWarning: Maximum Likelihood optimization failed to converge. Check mle_retvals\n",
      "  warnings.warn(\"Maximum Likelihood optimization failed to \"\n",
      "C:\\Users\\niksm\\anaconda3\\lib\\site-packages\\statsmodels\\tsa\\statespace\\sarimax.py:978: UserWarning: Non-invertible starting MA parameters found. Using zeros as starting parameters.\n",
      "  warn('Non-invertible starting MA parameters found.'\n",
      "C:\\Users\\niksm\\anaconda3\\lib\\site-packages\\statsmodels\\base\\model.py:604: ConvergenceWarning: Maximum Likelihood optimization failed to converge. Check mle_retvals\n",
      "  warnings.warn(\"Maximum Likelihood optimization failed to \"\n",
      "C:\\Users\\niksm\\anaconda3\\lib\\site-packages\\statsmodels\\tsa\\statespace\\sarimax.py:978: UserWarning: Non-invertible starting MA parameters found. Using zeros as starting parameters.\n",
      "  warn('Non-invertible starting MA parameters found.'\n",
      "C:\\Users\\niksm\\anaconda3\\lib\\site-packages\\statsmodels\\base\\model.py:604: ConvergenceWarning: Maximum Likelihood optimization failed to converge. Check mle_retvals\n",
      "  warnings.warn(\"Maximum Likelihood optimization failed to \"\n",
      "C:\\Users\\niksm\\anaconda3\\lib\\site-packages\\statsmodels\\base\\model.py:604: ConvergenceWarning: Maximum Likelihood optimization failed to converge. Check mle_retvals\n",
      "  warnings.warn(\"Maximum Likelihood optimization failed to \"\n",
      "C:\\Users\\niksm\\anaconda3\\lib\\site-packages\\statsmodels\\tsa\\statespace\\sarimax.py:978: UserWarning: Non-invertible starting MA parameters found. Using zeros as starting parameters.\n",
      "  warn('Non-invertible starting MA parameters found.'\n",
      "C:\\Users\\niksm\\anaconda3\\lib\\site-packages\\statsmodels\\base\\model.py:604: ConvergenceWarning: Maximum Likelihood optimization failed to converge. Check mle_retvals\n",
      "  warnings.warn(\"Maximum Likelihood optimization failed to \"\n",
      "C:\\Users\\niksm\\anaconda3\\lib\\site-packages\\statsmodels\\base\\model.py:604: ConvergenceWarning: Maximum Likelihood optimization failed to converge. Check mle_retvals\n",
      "  warnings.warn(\"Maximum Likelihood optimization failed to \"\n",
      "C:\\Users\\niksm\\anaconda3\\lib\\site-packages\\statsmodels\\base\\model.py:604: ConvergenceWarning: Maximum Likelihood optimization failed to converge. Check mle_retvals\n",
      "  warnings.warn(\"Maximum Likelihood optimization failed to \"\n",
      "C:\\Users\\niksm\\anaconda3\\lib\\site-packages\\statsmodels\\base\\model.py:604: ConvergenceWarning: Maximum Likelihood optimization failed to converge. Check mle_retvals\n",
      "  warnings.warn(\"Maximum Likelihood optimization failed to \"\n",
      "C:\\Users\\niksm\\anaconda3\\lib\\site-packages\\statsmodels\\base\\model.py:604: ConvergenceWarning: Maximum Likelihood optimization failed to converge. Check mle_retvals\n",
      "  warnings.warn(\"Maximum Likelihood optimization failed to \"\n",
      "C:\\Users\\niksm\\anaconda3\\lib\\site-packages\\statsmodels\\base\\model.py:604: ConvergenceWarning: Maximum Likelihood optimization failed to converge. Check mle_retvals\n",
      "  warnings.warn(\"Maximum Likelihood optimization failed to \"\n",
      "C:\\Users\\niksm\\anaconda3\\lib\\site-packages\\statsmodels\\base\\model.py:604: ConvergenceWarning: Maximum Likelihood optimization failed to converge. Check mle_retvals\n",
      "  warnings.warn(\"Maximum Likelihood optimization failed to \"\n",
      "C:\\Users\\niksm\\anaconda3\\lib\\site-packages\\statsmodels\\tsa\\statespace\\sarimax.py:978: UserWarning: Non-invertible starting MA parameters found. Using zeros as starting parameters.\n",
      "  warn('Non-invertible starting MA parameters found.'\n",
      "C:\\Users\\niksm\\anaconda3\\lib\\site-packages\\statsmodels\\base\\model.py:604: ConvergenceWarning: Maximum Likelihood optimization failed to converge. Check mle_retvals\n",
      "  warnings.warn(\"Maximum Likelihood optimization failed to \"\n",
      "C:\\Users\\niksm\\anaconda3\\lib\\site-packages\\statsmodels\\base\\model.py:604: ConvergenceWarning: Maximum Likelihood optimization failed to converge. Check mle_retvals\n",
      "  warnings.warn(\"Maximum Likelihood optimization failed to \"\n",
      "C:\\Users\\niksm\\anaconda3\\lib\\site-packages\\statsmodels\\base\\model.py:604: ConvergenceWarning: Maximum Likelihood optimization failed to converge. Check mle_retvals\n",
      "  warnings.warn(\"Maximum Likelihood optimization failed to \"\n",
      "C:\\Users\\niksm\\anaconda3\\lib\\site-packages\\statsmodels\\base\\model.py:604: ConvergenceWarning: Maximum Likelihood optimization failed to converge. Check mle_retvals\n",
      "  warnings.warn(\"Maximum Likelihood optimization failed to \"\n",
      "C:\\Users\\niksm\\anaconda3\\lib\\site-packages\\statsmodels\\base\\model.py:604: ConvergenceWarning: Maximum Likelihood optimization failed to converge. Check mle_retvals\n",
      "  warnings.warn(\"Maximum Likelihood optimization failed to \"\n",
      "C:\\Users\\niksm\\anaconda3\\lib\\site-packages\\statsmodels\\base\\model.py:604: ConvergenceWarning: Maximum Likelihood optimization failed to converge. Check mle_retvals\n",
      "  warnings.warn(\"Maximum Likelihood optimization failed to \"\n",
      "C:\\Users\\niksm\\anaconda3\\lib\\site-packages\\statsmodels\\tsa\\statespace\\sarimax.py:966: UserWarning: Non-stationary starting autoregressive parameters found. Using zeros as starting parameters.\n",
      "  warn('Non-stationary starting autoregressive parameters'\n",
      "C:\\Users\\niksm\\anaconda3\\lib\\site-packages\\statsmodels\\tsa\\statespace\\sarimax.py:978: UserWarning: Non-invertible starting MA parameters found. Using zeros as starting parameters.\n",
      "  warn('Non-invertible starting MA parameters found.'\n",
      "C:\\Users\\niksm\\anaconda3\\lib\\site-packages\\statsmodels\\base\\model.py:604: ConvergenceWarning: Maximum Likelihood optimization failed to converge. Check mle_retvals\n",
      "  warnings.warn(\"Maximum Likelihood optimization failed to \"\n",
      "C:\\Users\\niksm\\anaconda3\\lib\\site-packages\\statsmodels\\base\\model.py:604: ConvergenceWarning: Maximum Likelihood optimization failed to converge. Check mle_retvals\n",
      "  warnings.warn(\"Maximum Likelihood optimization failed to \"\n",
      "C:\\Users\\niksm\\anaconda3\\lib\\site-packages\\statsmodels\\base\\model.py:604: ConvergenceWarning: Maximum Likelihood optimization failed to converge. Check mle_retvals\n",
      "  warnings.warn(\"Maximum Likelihood optimization failed to \"\n",
      "C:\\Users\\niksm\\anaconda3\\lib\\site-packages\\statsmodels\\base\\model.py:604: ConvergenceWarning: Maximum Likelihood optimization failed to converge. Check mle_retvals\n",
      "  warnings.warn(\"Maximum Likelihood optimization failed to \"\n",
      "C:\\Users\\niksm\\anaconda3\\lib\\site-packages\\statsmodels\\tsa\\statespace\\sarimax.py:966: UserWarning: Non-stationary starting autoregressive parameters found. Using zeros as starting parameters.\n",
      "  warn('Non-stationary starting autoregressive parameters'\n",
      "C:\\Users\\niksm\\anaconda3\\lib\\site-packages\\statsmodels\\tsa\\statespace\\sarimax.py:978: UserWarning: Non-invertible starting MA parameters found. Using zeros as starting parameters.\n",
      "  warn('Non-invertible starting MA parameters found.'\n",
      "C:\\Users\\niksm\\anaconda3\\lib\\site-packages\\statsmodels\\base\\model.py:604: ConvergenceWarning: Maximum Likelihood optimization failed to converge. Check mle_retvals\n",
      "  warnings.warn(\"Maximum Likelihood optimization failed to \"\n",
      "C:\\Users\\niksm\\anaconda3\\lib\\site-packages\\statsmodels\\tsa\\statespace\\sarimax.py:978: UserWarning: Non-invertible starting MA parameters found. Using zeros as starting parameters.\n",
      "  warn('Non-invertible starting MA parameters found.'\n",
      "C:\\Users\\niksm\\anaconda3\\lib\\site-packages\\statsmodels\\base\\model.py:604: ConvergenceWarning: Maximum Likelihood optimization failed to converge. Check mle_retvals\n",
      "  warnings.warn(\"Maximum Likelihood optimization failed to \"\n",
      "C:\\Users\\niksm\\anaconda3\\lib\\site-packages\\statsmodels\\base\\model.py:604: ConvergenceWarning: Maximum Likelihood optimization failed to converge. Check mle_retvals\n",
      "  warnings.warn(\"Maximum Likelihood optimization failed to \"\n",
      "C:\\Users\\niksm\\anaconda3\\lib\\site-packages\\statsmodels\\base\\model.py:604: ConvergenceWarning: Maximum Likelihood optimization failed to converge. Check mle_retvals\n",
      "  warnings.warn(\"Maximum Likelihood optimization failed to \"\n",
      "C:\\Users\\niksm\\anaconda3\\lib\\site-packages\\statsmodels\\base\\model.py:604: ConvergenceWarning: Maximum Likelihood optimization failed to converge. Check mle_retvals\n",
      "  warnings.warn(\"Maximum Likelihood optimization failed to \"\n",
      "C:\\Users\\niksm\\anaconda3\\lib\\site-packages\\statsmodels\\tsa\\statespace\\sarimax.py:966: UserWarning: Non-stationary starting autoregressive parameters found. Using zeros as starting parameters.\n",
      "  warn('Non-stationary starting autoregressive parameters'\n",
      "C:\\Users\\niksm\\anaconda3\\lib\\site-packages\\statsmodels\\tsa\\statespace\\sarimax.py:978: UserWarning: Non-invertible starting MA parameters found. Using zeros as starting parameters.\n",
      "  warn('Non-invertible starting MA parameters found.'\n",
      "C:\\Users\\niksm\\anaconda3\\lib\\site-packages\\statsmodels\\base\\model.py:604: ConvergenceWarning: Maximum Likelihood optimization failed to converge. Check mle_retvals\n",
      "  warnings.warn(\"Maximum Likelihood optimization failed to \"\n",
      "C:\\Users\\niksm\\anaconda3\\lib\\site-packages\\statsmodels\\base\\model.py:604: ConvergenceWarning: Maximum Likelihood optimization failed to converge. Check mle_retvals\n",
      "  warnings.warn(\"Maximum Likelihood optimization failed to \"\n",
      "C:\\Users\\niksm\\anaconda3\\lib\\site-packages\\statsmodels\\base\\model.py:604: ConvergenceWarning: Maximum Likelihood optimization failed to converge. Check mle_retvals\n",
      "  warnings.warn(\"Maximum Likelihood optimization failed to \"\n",
      "C:\\Users\\niksm\\anaconda3\\lib\\site-packages\\statsmodels\\base\\model.py:604: ConvergenceWarning: Maximum Likelihood optimization failed to converge. Check mle_retvals\n",
      "  warnings.warn(\"Maximum Likelihood optimization failed to \"\n",
      "C:\\Users\\niksm\\anaconda3\\lib\\site-packages\\statsmodels\\base\\model.py:604: ConvergenceWarning: Maximum Likelihood optimization failed to converge. Check mle_retvals\n",
      "  warnings.warn(\"Maximum Likelihood optimization failed to \"\n",
      "C:\\Users\\niksm\\anaconda3\\lib\\site-packages\\statsmodels\\tsa\\statespace\\sarimax.py:966: UserWarning: Non-stationary starting autoregressive parameters found. Using zeros as starting parameters.\n",
      "  warn('Non-stationary starting autoregressive parameters'\n",
      "C:\\Users\\niksm\\anaconda3\\lib\\site-packages\\statsmodels\\tsa\\statespace\\sarimax.py:978: UserWarning: Non-invertible starting MA parameters found. Using zeros as starting parameters.\n",
      "  warn('Non-invertible starting MA parameters found.'\n",
      "C:\\Users\\niksm\\anaconda3\\lib\\site-packages\\statsmodels\\base\\model.py:604: ConvergenceWarning: Maximum Likelihood optimization failed to converge. Check mle_retvals\n",
      "  warnings.warn(\"Maximum Likelihood optimization failed to \"\n",
      "C:\\Users\\niksm\\anaconda3\\lib\\site-packages\\statsmodels\\tsa\\statespace\\sarimax.py:966: UserWarning: Non-stationary starting autoregressive parameters found. Using zeros as starting parameters.\n",
      "  warn('Non-stationary starting autoregressive parameters'\n",
      "C:\\Users\\niksm\\anaconda3\\lib\\site-packages\\statsmodels\\tsa\\statespace\\sarimax.py:978: UserWarning: Non-invertible starting MA parameters found. Using zeros as starting parameters.\n",
      "  warn('Non-invertible starting MA parameters found.'\n",
      "C:\\Users\\niksm\\anaconda3\\lib\\site-packages\\statsmodels\\base\\model.py:604: ConvergenceWarning: Maximum Likelihood optimization failed to converge. Check mle_retvals\n",
      "  warnings.warn(\"Maximum Likelihood optimization failed to \"\n",
      "C:\\Users\\niksm\\anaconda3\\lib\\site-packages\\statsmodels\\base\\model.py:604: ConvergenceWarning: Maximum Likelihood optimization failed to converge. Check mle_retvals\n",
      "  warnings.warn(\"Maximum Likelihood optimization failed to \"\n",
      "C:\\Users\\niksm\\anaconda3\\lib\\site-packages\\statsmodels\\base\\model.py:604: ConvergenceWarning: Maximum Likelihood optimization failed to converge. Check mle_retvals\n",
      "  warnings.warn(\"Maximum Likelihood optimization failed to \"\n",
      "C:\\Users\\niksm\\anaconda3\\lib\\site-packages\\statsmodels\\base\\model.py:604: ConvergenceWarning: Maximum Likelihood optimization failed to converge. Check mle_retvals\n",
      "  warnings.warn(\"Maximum Likelihood optimization failed to \"\n",
      "C:\\Users\\niksm\\anaconda3\\lib\\site-packages\\statsmodels\\base\\model.py:604: ConvergenceWarning: Maximum Likelihood optimization failed to converge. Check mle_retvals\n",
      "  warnings.warn(\"Maximum Likelihood optimization failed to \"\n",
      "C:\\Users\\niksm\\anaconda3\\lib\\site-packages\\statsmodels\\tsa\\statespace\\sarimax.py:966: UserWarning: Non-stationary starting autoregressive parameters found. Using zeros as starting parameters.\n",
      "  warn('Non-stationary starting autoregressive parameters'\n",
      "C:\\Users\\niksm\\anaconda3\\lib\\site-packages\\statsmodels\\tsa\\statespace\\sarimax.py:978: UserWarning: Non-invertible starting MA parameters found. Using zeros as starting parameters.\n",
      "  warn('Non-invertible starting MA parameters found.'\n",
      "C:\\Users\\niksm\\anaconda3\\lib\\site-packages\\statsmodels\\tsa\\statespace\\sarimax.py:978: UserWarning: Non-invertible starting MA parameters found. Using zeros as starting parameters.\n",
      "  warn('Non-invertible starting MA parameters found.'\n",
      "C:\\Users\\niksm\\anaconda3\\lib\\site-packages\\statsmodels\\base\\model.py:604: ConvergenceWarning: Maximum Likelihood optimization failed to converge. Check mle_retvals\n",
      "  warnings.warn(\"Maximum Likelihood optimization failed to \"\n",
      "C:\\Users\\niksm\\anaconda3\\lib\\site-packages\\statsmodels\\tsa\\statespace\\sarimax.py:978: UserWarning: Non-invertible starting MA parameters found. Using zeros as starting parameters.\n",
      "  warn('Non-invertible starting MA parameters found.'\n",
      "C:\\Users\\niksm\\anaconda3\\lib\\site-packages\\statsmodels\\base\\model.py:604: ConvergenceWarning: Maximum Likelihood optimization failed to converge. Check mle_retvals\n",
      "  warnings.warn(\"Maximum Likelihood optimization failed to \"\n",
      "C:\\Users\\niksm\\anaconda3\\lib\\site-packages\\statsmodels\\base\\model.py:604: ConvergenceWarning: Maximum Likelihood optimization failed to converge. Check mle_retvals\n",
      "  warnings.warn(\"Maximum Likelihood optimization failed to \"\n",
      "C:\\Users\\niksm\\anaconda3\\lib\\site-packages\\statsmodels\\base\\model.py:604: ConvergenceWarning: Maximum Likelihood optimization failed to converge. Check mle_retvals\n",
      "  warnings.warn(\"Maximum Likelihood optimization failed to \"\n",
      "C:\\Users\\niksm\\anaconda3\\lib\\site-packages\\statsmodels\\base\\model.py:604: ConvergenceWarning: Maximum Likelihood optimization failed to converge. Check mle_retvals\n",
      "  warnings.warn(\"Maximum Likelihood optimization failed to \"\n",
      "C:\\Users\\niksm\\anaconda3\\lib\\site-packages\\statsmodels\\tsa\\statespace\\sarimax.py:966: UserWarning: Non-stationary starting autoregressive parameters found. Using zeros as starting parameters.\n",
      "  warn('Non-stationary starting autoregressive parameters'\n",
      "C:\\Users\\niksm\\anaconda3\\lib\\site-packages\\statsmodels\\tsa\\statespace\\sarimax.py:978: UserWarning: Non-invertible starting MA parameters found. Using zeros as starting parameters.\n",
      "  warn('Non-invertible starting MA parameters found.'\n",
      "C:\\Users\\niksm\\anaconda3\\lib\\site-packages\\statsmodels\\tsa\\statespace\\sarimax.py:966: UserWarning: Non-stationary starting autoregressive parameters found. Using zeros as starting parameters.\n",
      "  warn('Non-stationary starting autoregressive parameters'\n",
      "C:\\Users\\niksm\\anaconda3\\lib\\site-packages\\statsmodels\\tsa\\statespace\\sarimax.py:978: UserWarning: Non-invertible starting MA parameters found. Using zeros as starting parameters.\n",
      "  warn('Non-invertible starting MA parameters found.'\n",
      "C:\\Users\\niksm\\anaconda3\\lib\\site-packages\\statsmodels\\tsa\\statespace\\sarimax.py:966: UserWarning: Non-stationary starting autoregressive parameters found. Using zeros as starting parameters.\n",
      "  warn('Non-stationary starting autoregressive parameters'\n",
      "C:\\Users\\niksm\\anaconda3\\lib\\site-packages\\statsmodels\\tsa\\statespace\\sarimax.py:978: UserWarning: Non-invertible starting MA parameters found. Using zeros as starting parameters.\n",
      "  warn('Non-invertible starting MA parameters found.'\n",
      "C:\\Users\\niksm\\anaconda3\\lib\\site-packages\\statsmodels\\base\\model.py:604: ConvergenceWarning: Maximum Likelihood optimization failed to converge. Check mle_retvals\n",
      "  warnings.warn(\"Maximum Likelihood optimization failed to \"\n",
      "C:\\Users\\niksm\\anaconda3\\lib\\site-packages\\statsmodels\\base\\model.py:604: ConvergenceWarning: Maximum Likelihood optimization failed to converge. Check mle_retvals\n",
      "  warnings.warn(\"Maximum Likelihood optimization failed to \"\n",
      "C:\\Users\\niksm\\anaconda3\\lib\\site-packages\\statsmodels\\base\\model.py:604: ConvergenceWarning: Maximum Likelihood optimization failed to converge. Check mle_retvals\n",
      "  warnings.warn(\"Maximum Likelihood optimization failed to \"\n",
      "C:\\Users\\niksm\\anaconda3\\lib\\site-packages\\statsmodels\\base\\model.py:604: ConvergenceWarning: Maximum Likelihood optimization failed to converge. Check mle_retvals\n",
      "  warnings.warn(\"Maximum Likelihood optimization failed to \"\n",
      "C:\\Users\\niksm\\anaconda3\\lib\\site-packages\\statsmodels\\base\\model.py:604: ConvergenceWarning: Maximum Likelihood optimization failed to converge. Check mle_retvals\n",
      "  warnings.warn(\"Maximum Likelihood optimization failed to \"\n",
      "C:\\Users\\niksm\\anaconda3\\lib\\site-packages\\statsmodels\\tsa\\statespace\\sarimax.py:966: UserWarning: Non-stationary starting autoregressive parameters found. Using zeros as starting parameters.\n",
      "  warn('Non-stationary starting autoregressive parameters'\n",
      "C:\\Users\\niksm\\anaconda3\\lib\\site-packages\\statsmodels\\tsa\\statespace\\sarimax.py:978: UserWarning: Non-invertible starting MA parameters found. Using zeros as starting parameters.\n",
      "  warn('Non-invertible starting MA parameters found.'\n",
      "C:\\Users\\niksm\\anaconda3\\lib\\site-packages\\statsmodels\\base\\model.py:604: ConvergenceWarning: Maximum Likelihood optimization failed to converge. Check mle_retvals\n",
      "  warnings.warn(\"Maximum Likelihood optimization failed to \"\n",
      "C:\\Users\\niksm\\anaconda3\\lib\\site-packages\\statsmodels\\tsa\\statespace\\sarimax.py:966: UserWarning: Non-stationary starting autoregressive parameters found. Using zeros as starting parameters.\n",
      "  warn('Non-stationary starting autoregressive parameters'\n",
      "C:\\Users\\niksm\\anaconda3\\lib\\site-packages\\statsmodels\\tsa\\statespace\\sarimax.py:978: UserWarning: Non-invertible starting MA parameters found. Using zeros as starting parameters.\n",
      "  warn('Non-invertible starting MA parameters found.'\n",
      "C:\\Users\\niksm\\anaconda3\\lib\\site-packages\\statsmodels\\base\\model.py:604: ConvergenceWarning: Maximum Likelihood optimization failed to converge. Check mle_retvals\n",
      "  warnings.warn(\"Maximum Likelihood optimization failed to \"\n",
      "C:\\Users\\niksm\\anaconda3\\lib\\site-packages\\statsmodels\\base\\model.py:604: ConvergenceWarning: Maximum Likelihood optimization failed to converge. Check mle_retvals\n",
      "  warnings.warn(\"Maximum Likelihood optimization failed to \"\n",
      "C:\\Users\\niksm\\anaconda3\\lib\\site-packages\\statsmodels\\base\\model.py:604: ConvergenceWarning: Maximum Likelihood optimization failed to converge. Check mle_retvals\n",
      "  warnings.warn(\"Maximum Likelihood optimization failed to \"\n",
      "C:\\Users\\niksm\\anaconda3\\lib\\site-packages\\statsmodels\\tsa\\statespace\\sarimax.py:966: UserWarning: Non-stationary starting autoregressive parameters found. Using zeros as starting parameters.\n",
      "  warn('Non-stationary starting autoregressive parameters'\n",
      "C:\\Users\\niksm\\anaconda3\\lib\\site-packages\\statsmodels\\tsa\\statespace\\sarimax.py:978: UserWarning: Non-invertible starting MA parameters found. Using zeros as starting parameters.\n",
      "  warn('Non-invertible starting MA parameters found.'\n",
      "C:\\Users\\niksm\\anaconda3\\lib\\site-packages\\statsmodels\\base\\model.py:604: ConvergenceWarning: Maximum Likelihood optimization failed to converge. Check mle_retvals\n",
      "  warnings.warn(\"Maximum Likelihood optimization failed to \"\n",
      "C:\\Users\\niksm\\anaconda3\\lib\\site-packages\\statsmodels\\tsa\\statespace\\sarimax.py:966: UserWarning: Non-stationary starting autoregressive parameters found. Using zeros as starting parameters.\n",
      "  warn('Non-stationary starting autoregressive parameters'\n",
      "C:\\Users\\niksm\\anaconda3\\lib\\site-packages\\statsmodels\\tsa\\statespace\\sarimax.py:978: UserWarning: Non-invertible starting MA parameters found. Using zeros as starting parameters.\n",
      "  warn('Non-invertible starting MA parameters found.'\n",
      "C:\\Users\\niksm\\anaconda3\\lib\\site-packages\\statsmodels\\tsa\\statespace\\sarimax.py:966: UserWarning: Non-stationary starting autoregressive parameters found. Using zeros as starting parameters.\n",
      "  warn('Non-stationary starting autoregressive parameters'\n",
      "C:\\Users\\niksm\\anaconda3\\lib\\site-packages\\statsmodels\\tsa\\statespace\\sarimax.py:978: UserWarning: Non-invertible starting MA parameters found. Using zeros as starting parameters.\n",
      "  warn('Non-invertible starting MA parameters found.'\n",
      "C:\\Users\\niksm\\anaconda3\\lib\\site-packages\\statsmodels\\base\\model.py:604: ConvergenceWarning: Maximum Likelihood optimization failed to converge. Check mle_retvals\n",
      "  warnings.warn(\"Maximum Likelihood optimization failed to \"\n",
      "C:\\Users\\niksm\\anaconda3\\lib\\site-packages\\statsmodels\\tsa\\statespace\\sarimax.py:978: UserWarning: Non-invertible starting MA parameters found. Using zeros as starting parameters.\n",
      "  warn('Non-invertible starting MA parameters found.'\n",
      "C:\\Users\\niksm\\anaconda3\\lib\\site-packages\\statsmodels\\base\\model.py:604: ConvergenceWarning: Maximum Likelihood optimization failed to converge. Check mle_retvals\n",
      "  warnings.warn(\"Maximum Likelihood optimization failed to \"\n",
      "C:\\Users\\niksm\\anaconda3\\lib\\site-packages\\statsmodels\\base\\model.py:604: ConvergenceWarning: Maximum Likelihood optimization failed to converge. Check mle_retvals\n",
      "  warnings.warn(\"Maximum Likelihood optimization failed to \"\n",
      "C:\\Users\\niksm\\anaconda3\\lib\\site-packages\\statsmodels\\base\\model.py:604: ConvergenceWarning: Maximum Likelihood optimization failed to converge. Check mle_retvals\n",
      "  warnings.warn(\"Maximum Likelihood optimization failed to \"\n",
      "C:\\Users\\niksm\\anaconda3\\lib\\site-packages\\statsmodels\\base\\model.py:604: ConvergenceWarning: Maximum Likelihood optimization failed to converge. Check mle_retvals\n",
      "  warnings.warn(\"Maximum Likelihood optimization failed to \"\n",
      "C:\\Users\\niksm\\anaconda3\\lib\\site-packages\\statsmodels\\base\\model.py:604: ConvergenceWarning: Maximum Likelihood optimization failed to converge. Check mle_retvals\n",
      "  warnings.warn(\"Maximum Likelihood optimization failed to \"\n",
      "C:\\Users\\niksm\\anaconda3\\lib\\site-packages\\statsmodels\\tsa\\statespace\\sarimax.py:966: UserWarning: Non-stationary starting autoregressive parameters found. Using zeros as starting parameters.\n",
      "  warn('Non-stationary starting autoregressive parameters'\n",
      "C:\\Users\\niksm\\anaconda3\\lib\\site-packages\\statsmodels\\tsa\\statespace\\sarimax.py:978: UserWarning: Non-invertible starting MA parameters found. Using zeros as starting parameters.\n",
      "  warn('Non-invertible starting MA parameters found.'\n",
      "C:\\Users\\niksm\\anaconda3\\lib\\site-packages\\statsmodels\\base\\model.py:604: ConvergenceWarning: Maximum Likelihood optimization failed to converge. Check mle_retvals\n",
      "  warnings.warn(\"Maximum Likelihood optimization failed to \"\n",
      "C:\\Users\\niksm\\anaconda3\\lib\\site-packages\\statsmodels\\tsa\\statespace\\sarimax.py:966: UserWarning: Non-stationary starting autoregressive parameters found. Using zeros as starting parameters.\n",
      "  warn('Non-stationary starting autoregressive parameters'\n",
      "C:\\Users\\niksm\\anaconda3\\lib\\site-packages\\statsmodels\\tsa\\statespace\\sarimax.py:978: UserWarning: Non-invertible starting MA parameters found. Using zeros as starting parameters.\n",
      "  warn('Non-invertible starting MA parameters found.'\n",
      "C:\\Users\\niksm\\anaconda3\\lib\\site-packages\\statsmodels\\base\\model.py:604: ConvergenceWarning: Maximum Likelihood optimization failed to converge. Check mle_retvals\n",
      "  warnings.warn(\"Maximum Likelihood optimization failed to \"\n",
      "C:\\Users\\niksm\\anaconda3\\lib\\site-packages\\statsmodels\\base\\model.py:604: ConvergenceWarning: Maximum Likelihood optimization failed to converge. Check mle_retvals\n",
      "  warnings.warn(\"Maximum Likelihood optimization failed to \"\n",
      "C:\\Users\\niksm\\anaconda3\\lib\\site-packages\\statsmodels\\base\\model.py:604: ConvergenceWarning: Maximum Likelihood optimization failed to converge. Check mle_retvals\n",
      "  warnings.warn(\"Maximum Likelihood optimization failed to \"\n",
      "C:\\Users\\niksm\\anaconda3\\lib\\site-packages\\statsmodels\\tsa\\statespace\\sarimax.py:966: UserWarning: Non-stationary starting autoregressive parameters found. Using zeros as starting parameters.\n",
      "  warn('Non-stationary starting autoregressive parameters'\n",
      "C:\\Users\\niksm\\anaconda3\\lib\\site-packages\\statsmodels\\tsa\\statespace\\sarimax.py:978: UserWarning: Non-invertible starting MA parameters found. Using zeros as starting parameters.\n",
      "  warn('Non-invertible starting MA parameters found.'\n",
      "C:\\Users\\niksm\\anaconda3\\lib\\site-packages\\statsmodels\\base\\model.py:604: ConvergenceWarning: Maximum Likelihood optimization failed to converge. Check mle_retvals\n",
      "  warnings.warn(\"Maximum Likelihood optimization failed to \"\n",
      "C:\\Users\\niksm\\anaconda3\\lib\\site-packages\\statsmodels\\tsa\\statespace\\sarimax.py:966: UserWarning: Non-stationary starting autoregressive parameters found. Using zeros as starting parameters.\n",
      "  warn('Non-stationary starting autoregressive parameters'\n",
      "C:\\Users\\niksm\\anaconda3\\lib\\site-packages\\statsmodels\\tsa\\statespace\\sarimax.py:978: UserWarning: Non-invertible starting MA parameters found. Using zeros as starting parameters.\n",
      "  warn('Non-invertible starting MA parameters found.'\n",
      "C:\\Users\\niksm\\anaconda3\\lib\\site-packages\\statsmodels\\base\\model.py:604: ConvergenceWarning: Maximum Likelihood optimization failed to converge. Check mle_retvals\n",
      "  warnings.warn(\"Maximum Likelihood optimization failed to \"\n",
      "C:\\Users\\niksm\\anaconda3\\lib\\site-packages\\statsmodels\\tsa\\statespace\\sarimax.py:966: UserWarning: Non-stationary starting autoregressive parameters found. Using zeros as starting parameters.\n",
      "  warn('Non-stationary starting autoregressive parameters'\n",
      "C:\\Users\\niksm\\anaconda3\\lib\\site-packages\\statsmodels\\tsa\\statespace\\sarimax.py:978: UserWarning: Non-invertible starting MA parameters found. Using zeros as starting parameters.\n",
      "  warn('Non-invertible starting MA parameters found.'\n",
      "C:\\Users\\niksm\\anaconda3\\lib\\site-packages\\statsmodels\\base\\model.py:604: ConvergenceWarning: Maximum Likelihood optimization failed to converge. Check mle_retvals\n",
      "  warnings.warn(\"Maximum Likelihood optimization failed to \"\n",
      "C:\\Users\\niksm\\anaconda3\\lib\\site-packages\\statsmodels\\tsa\\statespace\\sarimax.py:978: UserWarning: Non-invertible starting MA parameters found. Using zeros as starting parameters.\n",
      "  warn('Non-invertible starting MA parameters found.'\n",
      "C:\\Users\\niksm\\anaconda3\\lib\\site-packages\\statsmodels\\base\\model.py:604: ConvergenceWarning: Maximum Likelihood optimization failed to converge. Check mle_retvals\n",
      "  warnings.warn(\"Maximum Likelihood optimization failed to \"\n",
      "C:\\Users\\niksm\\anaconda3\\lib\\site-packages\\statsmodels\\base\\model.py:604: ConvergenceWarning: Maximum Likelihood optimization failed to converge. Check mle_retvals\n",
      "  warnings.warn(\"Maximum Likelihood optimization failed to \"\n",
      "C:\\Users\\niksm\\anaconda3\\lib\\site-packages\\statsmodels\\tsa\\statespace\\sarimax.py:966: UserWarning: Non-stationary starting autoregressive parameters found. Using zeros as starting parameters.\n",
      "  warn('Non-stationary starting autoregressive parameters'\n",
      "C:\\Users\\niksm\\anaconda3\\lib\\site-packages\\statsmodels\\tsa\\statespace\\sarimax.py:978: UserWarning: Non-invertible starting MA parameters found. Using zeros as starting parameters.\n",
      "  warn('Non-invertible starting MA parameters found.'\n",
      "C:\\Users\\niksm\\anaconda3\\lib\\site-packages\\statsmodels\\base\\model.py:604: ConvergenceWarning: Maximum Likelihood optimization failed to converge. Check mle_retvals\n",
      "  warnings.warn(\"Maximum Likelihood optimization failed to \"\n",
      "C:\\Users\\niksm\\anaconda3\\lib\\site-packages\\statsmodels\\tsa\\statespace\\sarimax.py:978: UserWarning: Non-invertible starting MA parameters found. Using zeros as starting parameters.\n",
      "  warn('Non-invertible starting MA parameters found.'\n",
      "C:\\Users\\niksm\\anaconda3\\lib\\site-packages\\statsmodels\\base\\model.py:604: ConvergenceWarning: Maximum Likelihood optimization failed to converge. Check mle_retvals\n",
      "  warnings.warn(\"Maximum Likelihood optimization failed to \"\n",
      "C:\\Users\\niksm\\anaconda3\\lib\\site-packages\\statsmodels\\base\\model.py:604: ConvergenceWarning: Maximum Likelihood optimization failed to converge. Check mle_retvals\n",
      "  warnings.warn(\"Maximum Likelihood optimization failed to \"\n",
      "C:\\Users\\niksm\\anaconda3\\lib\\site-packages\\statsmodels\\base\\model.py:604: ConvergenceWarning: Maximum Likelihood optimization failed to converge. Check mle_retvals\n",
      "  warnings.warn(\"Maximum Likelihood optimization failed to \"\n",
      "C:\\Users\\niksm\\anaconda3\\lib\\site-packages\\statsmodels\\base\\model.py:604: ConvergenceWarning: Maximum Likelihood optimization failed to converge. Check mle_retvals\n",
      "  warnings.warn(\"Maximum Likelihood optimization failed to \"\n",
      "C:\\Users\\niksm\\anaconda3\\lib\\site-packages\\statsmodels\\base\\model.py:604: ConvergenceWarning: Maximum Likelihood optimization failed to converge. Check mle_retvals\n",
      "  warnings.warn(\"Maximum Likelihood optimization failed to \"\n",
      "C:\\Users\\niksm\\anaconda3\\lib\\site-packages\\statsmodels\\tsa\\statespace\\sarimax.py:966: UserWarning: Non-stationary starting autoregressive parameters found. Using zeros as starting parameters.\n",
      "  warn('Non-stationary starting autoregressive parameters'\n",
      "C:\\Users\\niksm\\anaconda3\\lib\\site-packages\\statsmodels\\tsa\\statespace\\sarimax.py:978: UserWarning: Non-invertible starting MA parameters found. Using zeros as starting parameters.\n",
      "  warn('Non-invertible starting MA parameters found.'\n",
      "C:\\Users\\niksm\\anaconda3\\lib\\site-packages\\statsmodels\\base\\model.py:604: ConvergenceWarning: Maximum Likelihood optimization failed to converge. Check mle_retvals\n",
      "  warnings.warn(\"Maximum Likelihood optimization failed to \"\n",
      "C:\\Users\\niksm\\anaconda3\\lib\\site-packages\\statsmodels\\tsa\\statespace\\sarimax.py:966: UserWarning: Non-stationary starting autoregressive parameters found. Using zeros as starting parameters.\n",
      "  warn('Non-stationary starting autoregressive parameters'\n",
      "C:\\Users\\niksm\\anaconda3\\lib\\site-packages\\statsmodels\\tsa\\statespace\\sarimax.py:978: UserWarning: Non-invertible starting MA parameters found. Using zeros as starting parameters.\n",
      "  warn('Non-invertible starting MA parameters found.'\n",
      "C:\\Users\\niksm\\anaconda3\\lib\\site-packages\\statsmodels\\base\\model.py:604: ConvergenceWarning: Maximum Likelihood optimization failed to converge. Check mle_retvals\n",
      "  warnings.warn(\"Maximum Likelihood optimization failed to \"\n",
      "C:\\Users\\niksm\\anaconda3\\lib\\site-packages\\statsmodels\\base\\model.py:604: ConvergenceWarning: Maximum Likelihood optimization failed to converge. Check mle_retvals\n",
      "  warnings.warn(\"Maximum Likelihood optimization failed to \"\n",
      "C:\\Users\\niksm\\anaconda3\\lib\\site-packages\\statsmodels\\base\\model.py:604: ConvergenceWarning: Maximum Likelihood optimization failed to converge. Check mle_retvals\n",
      "  warnings.warn(\"Maximum Likelihood optimization failed to \"\n",
      "C:\\Users\\niksm\\anaconda3\\lib\\site-packages\\statsmodels\\tsa\\statespace\\sarimax.py:966: UserWarning: Non-stationary starting autoregressive parameters found. Using zeros as starting parameters.\n",
      "  warn('Non-stationary starting autoregressive parameters'\n",
      "C:\\Users\\niksm\\anaconda3\\lib\\site-packages\\statsmodels\\tsa\\statespace\\sarimax.py:978: UserWarning: Non-invertible starting MA parameters found. Using zeros as starting parameters.\n",
      "  warn('Non-invertible starting MA parameters found.'\n",
      "C:\\Users\\niksm\\anaconda3\\lib\\site-packages\\statsmodels\\base\\model.py:604: ConvergenceWarning: Maximum Likelihood optimization failed to converge. Check mle_retvals\n",
      "  warnings.warn(\"Maximum Likelihood optimization failed to \"\n",
      "C:\\Users\\niksm\\anaconda3\\lib\\site-packages\\statsmodels\\tsa\\statespace\\sarimax.py:966: UserWarning: Non-stationary starting autoregressive parameters found. Using zeros as starting parameters.\n",
      "  warn('Non-stationary starting autoregressive parameters'\n",
      "C:\\Users\\niksm\\anaconda3\\lib\\site-packages\\statsmodels\\tsa\\statespace\\sarimax.py:978: UserWarning: Non-invertible starting MA parameters found. Using zeros as starting parameters.\n",
      "  warn('Non-invertible starting MA parameters found.'\n",
      "C:\\Users\\niksm\\anaconda3\\lib\\site-packages\\statsmodels\\base\\model.py:604: ConvergenceWarning: Maximum Likelihood optimization failed to converge. Check mle_retvals\n",
      "  warnings.warn(\"Maximum Likelihood optimization failed to \"\n",
      "C:\\Users\\niksm\\anaconda3\\lib\\site-packages\\statsmodels\\tsa\\statespace\\sarimax.py:966: UserWarning: Non-stationary starting autoregressive parameters found. Using zeros as starting parameters.\n",
      "  warn('Non-stationary starting autoregressive parameters'\n",
      "C:\\Users\\niksm\\anaconda3\\lib\\site-packages\\statsmodels\\tsa\\statespace\\sarimax.py:978: UserWarning: Non-invertible starting MA parameters found. Using zeros as starting parameters.\n",
      "  warn('Non-invertible starting MA parameters found.'\n",
      "C:\\Users\\niksm\\anaconda3\\lib\\site-packages\\statsmodels\\base\\model.py:604: ConvergenceWarning: Maximum Likelihood optimization failed to converge. Check mle_retvals\n",
      "  warnings.warn(\"Maximum Likelihood optimization failed to \"\n",
      "C:\\Users\\niksm\\anaconda3\\lib\\site-packages\\statsmodels\\tsa\\statespace\\sarimax.py:978: UserWarning: Non-invertible starting MA parameters found. Using zeros as starting parameters.\n",
      "  warn('Non-invertible starting MA parameters found.'\n",
      "C:\\Users\\niksm\\anaconda3\\lib\\site-packages\\statsmodels\\base\\model.py:604: ConvergenceWarning: Maximum Likelihood optimization failed to converge. Check mle_retvals\n",
      "  warnings.warn(\"Maximum Likelihood optimization failed to \"\n",
      "C:\\Users\\niksm\\anaconda3\\lib\\site-packages\\statsmodels\\base\\model.py:604: ConvergenceWarning: Maximum Likelihood optimization failed to converge. Check mle_retvals\n",
      "  warnings.warn(\"Maximum Likelihood optimization failed to \"\n",
      "C:\\Users\\niksm\\anaconda3\\lib\\site-packages\\statsmodels\\tsa\\statespace\\sarimax.py:966: UserWarning: Non-stationary starting autoregressive parameters found. Using zeros as starting parameters.\n",
      "  warn('Non-stationary starting autoregressive parameters'\n",
      "C:\\Users\\niksm\\anaconda3\\lib\\site-packages\\statsmodels\\tsa\\statespace\\sarimax.py:978: UserWarning: Non-invertible starting MA parameters found. Using zeros as starting parameters.\n",
      "  warn('Non-invertible starting MA parameters found.'\n",
      "C:\\Users\\niksm\\anaconda3\\lib\\site-packages\\statsmodels\\base\\model.py:604: ConvergenceWarning: Maximum Likelihood optimization failed to converge. Check mle_retvals\n",
      "  warnings.warn(\"Maximum Likelihood optimization failed to \"\n",
      "C:\\Users\\niksm\\anaconda3\\lib\\site-packages\\statsmodels\\base\\model.py:604: ConvergenceWarning: Maximum Likelihood optimization failed to converge. Check mle_retvals\n",
      "  warnings.warn(\"Maximum Likelihood optimization failed to \"\n",
      "C:\\Users\\niksm\\anaconda3\\lib\\site-packages\\statsmodels\\base\\model.py:604: ConvergenceWarning: Maximum Likelihood optimization failed to converge. Check mle_retvals\n",
      "  warnings.warn(\"Maximum Likelihood optimization failed to \"\n",
      "C:\\Users\\niksm\\anaconda3\\lib\\site-packages\\statsmodels\\tsa\\statespace\\sarimax.py:978: UserWarning: Non-invertible starting MA parameters found. Using zeros as starting parameters.\n",
      "  warn('Non-invertible starting MA parameters found.'\n",
      "C:\\Users\\niksm\\anaconda3\\lib\\site-packages\\statsmodels\\base\\model.py:604: ConvergenceWarning: Maximum Likelihood optimization failed to converge. Check mle_retvals\n",
      "  warnings.warn(\"Maximum Likelihood optimization failed to \"\n",
      "C:\\Users\\niksm\\anaconda3\\lib\\site-packages\\statsmodels\\tsa\\statespace\\sarimax.py:966: UserWarning: Non-stationary starting autoregressive parameters found. Using zeros as starting parameters.\n",
      "  warn('Non-stationary starting autoregressive parameters'\n",
      "C:\\Users\\niksm\\anaconda3\\lib\\site-packages\\statsmodels\\tsa\\statespace\\sarimax.py:978: UserWarning: Non-invertible starting MA parameters found. Using zeros as starting parameters.\n",
      "  warn('Non-invertible starting MA parameters found.'\n",
      "C:\\Users\\niksm\\anaconda3\\lib\\site-packages\\statsmodels\\base\\model.py:604: ConvergenceWarning: Maximum Likelihood optimization failed to converge. Check mle_retvals\n",
      "  warnings.warn(\"Maximum Likelihood optimization failed to \"\n",
      "C:\\Users\\niksm\\anaconda3\\lib\\site-packages\\statsmodels\\base\\model.py:604: ConvergenceWarning: Maximum Likelihood optimization failed to converge. Check mle_retvals\n",
      "  warnings.warn(\"Maximum Likelihood optimization failed to \"\n",
      "C:\\Users\\niksm\\anaconda3\\lib\\site-packages\\statsmodels\\base\\model.py:604: ConvergenceWarning: Maximum Likelihood optimization failed to converge. Check mle_retvals\n",
      "  warnings.warn(\"Maximum Likelihood optimization failed to \"\n"
     ]
    },
    {
     "name": "stdout",
     "output_type": "stream",
     "text": [
      "[(0, 0, 0), (0, 0, 1), (0, 0, 2), (0, 0, 3), (0, 0, 4), (0, 0, 5), (0, 0, 6), (0, 0, 7), (0, 1, 0), (0, 1, 1), (0, 1, 2), (0, 1, 3), (0, 1, 4), (0, 1, 5), (0, 1, 6), (0, 1, 7), (0, 2, 0), (0, 2, 1), (0, 2, 2), (0, 2, 3), (0, 2, 4), (0, 2, 5), (0, 2, 6), (0, 2, 7), (1, 0, 0), (1, 0, 1), (1, 0, 2), (1, 0, 3), (1, 0, 4), (1, 0, 5), (1, 0, 6), (1, 0, 7), (1, 1, 0), (1, 1, 1), (1, 1, 2), (1, 1, 3), (1, 1, 4), (1, 1, 5), (1, 1, 6), (1, 1, 7), (1, 2, 0), (1, 2, 1), (1, 2, 2), (1, 2, 3), (1, 2, 4), (1, 2, 5), (1, 2, 6), (1, 2, 7), (2, 0, 0), (2, 0, 1), (2, 0, 2), (2, 0, 3), (2, 0, 4), (2, 0, 5), (2, 0, 6), (2, 0, 7), (2, 1, 0), (2, 1, 1), (2, 1, 2), (2, 1, 3), (2, 1, 4), (2, 1, 5), (2, 1, 6), (2, 1, 7), (2, 2, 0), (2, 2, 1), (2, 2, 2), (2, 2, 3), (2, 2, 4), (2, 2, 5), (2, 2, 6), (2, 2, 7), (3, 0, 0), (3, 0, 1), (3, 0, 2), (3, 0, 3), (3, 0, 4), (3, 0, 5), (3, 0, 6), (3, 0, 7), (3, 1, 0), (3, 1, 1), (3, 1, 2), (3, 1, 3), (3, 1, 4), (3, 1, 5), (3, 1, 6), (3, 1, 7), (3, 2, 0), (3, 2, 1), (3, 2, 2), (3, 2, 3), (3, 2, 4), (3, 2, 5), (3, 2, 6), (3, 2, 7), (4, 0, 0), (4, 0, 1), (4, 0, 2), (4, 0, 3), (4, 0, 4), (4, 0, 5), (4, 0, 6), (4, 0, 7), (4, 1, 0), (4, 1, 1), (4, 1, 2), (4, 1, 3), (4, 1, 4), (4, 1, 5), (4, 1, 6), (4, 1, 7), (4, 2, 0), (4, 2, 1), (4, 2, 2), (4, 2, 3), (4, 2, 4), (4, 2, 5), (4, 2, 6), (4, 2, 7), (5, 0, 0), (5, 0, 1), (5, 0, 2), (5, 0, 3), (5, 0, 4), (5, 0, 5), (5, 0, 6), (5, 0, 7), (5, 1, 0), (5, 1, 1), (5, 1, 2), (5, 1, 3), (5, 1, 4), (5, 1, 5), (5, 1, 6), (5, 1, 7), (5, 2, 0), (5, 2, 1), (5, 2, 2), (5, 2, 3), (5, 2, 4), (5, 2, 5), (5, 2, 6), (5, 2, 7), (6, 0, 0), (6, 0, 1), (6, 0, 2), (6, 0, 3), (6, 0, 4), (6, 0, 5), (6, 0, 6), (6, 0, 7), (6, 1, 0), (6, 1, 1), (6, 1, 2), (6, 1, 3), (6, 1, 4), (6, 1, 5), (6, 1, 6), (6, 1, 7), (6, 2, 0), (6, 2, 1), (6, 2, 2), (6, 2, 3), (6, 2, 4), (6, 2, 5), (6, 2, 6), (6, 2, 7), (7, 0, 0), (7, 0, 1), (7, 0, 2), (7, 0, 3), (7, 0, 4), (7, 0, 5), (7, 0, 6), (7, 0, 7), (7, 1, 0), (7, 1, 1), (7, 1, 2), (7, 1, 3), (7, 1, 4), (7, 1, 5), (7, 1, 6), (7, 1, 7), (7, 2, 0), (7, 2, 1), (7, 2, 2), (7, 2, 3), (7, 2, 4), (7, 2, 5), (7, 2, 6), (7, 2, 7)]\n",
      "[5203.331520665328, 5217.562330412254, 4986.4680634825, 5174.794271082366, 4872.412491430145, 4668.444950902382, 5045.696424702962, 4419.364715093313, 8801.05482883161, 8792.129561690126, 9085.733195256093, 9038.963049362717, 9570.050899358048, 9571.15332158038, 8134.676544380553, 8701.53881324149, 181824.9609386886, 290113.53224519076, 16441.490965811594, 17173.686534882137, 17127.081082619447, 18221.49853450946, 18308.771437807347, 15609.297705707735, 5355.984918570037, 4578.496067436335, 4123.315639909566, 4600.898730304911, 4503.531173347915, 4427.511354085439, 4603.475747942555, 4499.747050735384, 11142.675353158214, 9995.337267318124, 9027.026252591428, 5595.2799051783395, 9570.612252250581, 7829.621204625412, 8355.611820203383, 8151.9133131605995, 256674.69859840686, 20910.873912291623, 18880.990472434434, 17103.705207548257, 16570.988940548843, 16121.108106098922, 17787.415663072563, 15974.680969855435, 3937.5539524245933, 4010.418715599105, 4571.450653589902, 4493.437414413384, 4482.218181500133, 4358.760353215509, 4509.059964886345, 4481.701146052236, 9472.462231591002, 8304.355906933046, 9251.675163137039, 5602.960758001037, 10535.433391787337, 10537.394020946967, 8076.394853025574, 5412.606807468306, 261973.12254042402, 1039663.9275829555, 19865.72120281381, 17591.004823891457, 15978.221400959981, 19716.63670462456, 17976.65266352249, 15432.223218173904, 4035.9317140910316, 4143.827347118063, 4528.9710550432565, 4493.587817061858, 3714.1521795002664, 5320.443256728297, 4510.894571160475, 4495.775246294761, 8790.043247509117, 8975.978835108264, 8557.44520720461, 5722.7567211498335, 10528.927439242447, 12011.553011112444, 11670.245186242513, 12129.066417956463, 196835.45698871877, 16786.012190699665, 17817.646189831732, 20608.580863283933, 17910.07578879498, 19598.473152850853, 16681.606060160397, 18521.397720572673, 4552.917665900528, 4542.252905900963, 4426.171648907144, 4622.037585782025, 4007.8100576452116, 4353.295058044651, 5580.939215400756, 5533.726096087062, 8876.55190906058, 9007.072277758134, 7293.901294461642, 6640.505960188867, 6807.881940887482, 11860.657535796414, 5606.167583494682, 7941.790412715157, 162566.67528837966, 17060.51109667386, 16101.561303786817, 18590.40883778129, 17956.382894086844, 17514.061480514494, 16280.531035040016, 18906.88592743095, 4500.12664110464, 4504.869397000866, 4501.306938481452, 4456.298068021587, 5198.55582120693, 4760.35158042281, 5539.096912357217, 5527.198695828827, 8482.428265408182, 8439.760100245145, 9724.829947094777, 7957.682228957926, 10828.295106573054, 12244.051917006713, 7912.298361010189, 6644.66075174994, 169337.054879501, 16261.52873551935, 16636.190821266224, 17304.70239028883, 17186.82944463974, 18539.500515690273, 17726.10631662231, 18930.848653456364, 4629.4208096115735, 4626.691129501713, 5061.645099506123, 4852.993955161766, 4409.341434938714, 4653.65177031694, 5071.711375552628, 4368.42871969554, 8404.553135068096, 7947.68778096523, 8528.867524053645, 8287.559526311814, 10626.09954199728, 8249.33161600373, 5892.614114851841, 9500.448155374133, 142170.5738744887, 16219.101246815064, 15100.826514073255, 17461.854529650293, 17174.343613172176, 18805.708591616025, 18913.533863744866, 18749.873866375452, 4621.501053926206, 4599.217026788281, 4583.089860797609, 5013.339882425371, 4772.84569221974, 4986.301615692653, 4884.475278091618, 4376.939703136035, 8803.536720203836, 8414.200708305058, 8383.998924940286, 6752.419973964837, 5851.469382669387, 8116.925966461796, 4753.165115549629, 6067.643992958832, 142117.77483415985, 17074.948836582404, 16148.035509024174, 15682.922933896125, 18774.615034196122, 18221.34153848548, 16773.86518006895, 17833.319494352927]\n"
     ]
    },
    {
     "name": "stderr",
     "output_type": "stream",
     "text": [
      "C:\\Users\\niksm\\anaconda3\\lib\\site-packages\\statsmodels\\base\\model.py:604: ConvergenceWarning: Maximum Likelihood optimization failed to converge. Check mle_retvals\n",
      "  warnings.warn(\"Maximum Likelihood optimization failed to \"\n"
     ]
    }
   ],
   "source": [
    "p = list(range(0,8)) # 0,1,2...,7\n",
    "q = list(range(0,8)) # 0,1,2...,7\n",
    "d = list(range(0,3)) # 0,1,2\n",
    "\n",
    "pdq = []\n",
    "mse = []\n",
    "for i in p:\n",
    "    for j in d:\n",
    "        for k in q:\n",
    "            m = ARIMA(train,order=(i,j,k))\n",
    "            arima = m.fit()\n",
    "            ypred = arima.forecast(len(test))\n",
    "            mean_sq_err = mean_squared_error(test,ypred)\n",
    "            pdq.append((i,j,k))\n",
    "            mse.append(mean_sq_err)\n",
    "print(pdq)\n",
    "print(mse)"
   ]
  },
  {
   "cell_type": "code",
   "execution_count": 118,
   "id": "b6e53033",
   "metadata": {},
   "outputs": [
    {
     "name": "stderr",
     "output_type": "stream",
     "text": [
      "C:\\Users\\niksm\\anaconda3\\lib\\site-packages\\statsmodels\\tsa\\statespace\\sarimax.py:978: UserWarning: Non-invertible starting MA parameters found. Using zeros as starting parameters.\n",
      "  warn('Non-invertible starting MA parameters found.'\n",
      "C:\\Users\\niksm\\anaconda3\\lib\\site-packages\\statsmodels\\tsa\\statespace\\sarimax.py:978: UserWarning: Non-invertible starting MA parameters found. Using zeros as starting parameters.\n",
      "  warn('Non-invertible starting MA parameters found.'\n",
      "C:\\Users\\niksm\\anaconda3\\lib\\site-packages\\statsmodels\\tsa\\statespace\\sarimax.py:978: UserWarning: Non-invertible starting MA parameters found. Using zeros as starting parameters.\n",
      "  warn('Non-invertible starting MA parameters found.'\n",
      "C:\\Users\\niksm\\anaconda3\\lib\\site-packages\\statsmodels\\tsa\\statespace\\sarimax.py:978: UserWarning: Non-invertible starting MA parameters found. Using zeros as starting parameters.\n",
      "  warn('Non-invertible starting MA parameters found.'\n",
      "C:\\Users\\niksm\\anaconda3\\lib\\site-packages\\statsmodels\\base\\model.py:604: ConvergenceWarning: Maximum Likelihood optimization failed to converge. Check mle_retvals\n",
      "  warnings.warn(\"Maximum Likelihood optimization failed to \"\n",
      "C:\\Users\\niksm\\anaconda3\\lib\\site-packages\\statsmodels\\tsa\\statespace\\sarimax.py:978: UserWarning: Non-invertible starting MA parameters found. Using zeros as starting parameters.\n",
      "  warn('Non-invertible starting MA parameters found.'\n",
      "C:\\Users\\niksm\\anaconda3\\lib\\site-packages\\statsmodels\\base\\model.py:604: ConvergenceWarning: Maximum Likelihood optimization failed to converge. Check mle_retvals\n",
      "  warnings.warn(\"Maximum Likelihood optimization failed to \"\n",
      "C:\\Users\\niksm\\anaconda3\\lib\\site-packages\\statsmodels\\tsa\\statespace\\sarimax.py:978: UserWarning: Non-invertible starting MA parameters found. Using zeros as starting parameters.\n",
      "  warn('Non-invertible starting MA parameters found.'\n",
      "C:\\Users\\niksm\\anaconda3\\lib\\site-packages\\statsmodels\\base\\model.py:604: ConvergenceWarning: Maximum Likelihood optimization failed to converge. Check mle_retvals\n",
      "  warnings.warn(\"Maximum Likelihood optimization failed to \"\n",
      "C:\\Users\\niksm\\anaconda3\\lib\\site-packages\\statsmodels\\tsa\\statespace\\sarimax.py:978: UserWarning: Non-invertible starting MA parameters found. Using zeros as starting parameters.\n",
      "  warn('Non-invertible starting MA parameters found.'\n",
      "C:\\Users\\niksm\\anaconda3\\lib\\site-packages\\statsmodels\\base\\model.py:604: ConvergenceWarning: Maximum Likelihood optimization failed to converge. Check mle_retvals\n",
      "  warnings.warn(\"Maximum Likelihood optimization failed to \"\n",
      "C:\\Users\\niksm\\anaconda3\\lib\\site-packages\\statsmodels\\base\\model.py:604: ConvergenceWarning: Maximum Likelihood optimization failed to converge. Check mle_retvals\n",
      "  warnings.warn(\"Maximum Likelihood optimization failed to \"\n",
      "C:\\Users\\niksm\\anaconda3\\lib\\site-packages\\statsmodels\\tsa\\statespace\\sarimax.py:978: UserWarning: Non-invertible starting MA parameters found. Using zeros as starting parameters.\n",
      "  warn('Non-invertible starting MA parameters found.'\n",
      "C:\\Users\\niksm\\anaconda3\\lib\\site-packages\\statsmodels\\base\\model.py:604: ConvergenceWarning: Maximum Likelihood optimization failed to converge. Check mle_retvals\n",
      "  warnings.warn(\"Maximum Likelihood optimization failed to \"\n",
      "C:\\Users\\niksm\\anaconda3\\lib\\site-packages\\statsmodels\\base\\model.py:604: ConvergenceWarning: Maximum Likelihood optimization failed to converge. Check mle_retvals\n",
      "  warnings.warn(\"Maximum Likelihood optimization failed to \"\n",
      "C:\\Users\\niksm\\anaconda3\\lib\\site-packages\\statsmodels\\base\\model.py:604: ConvergenceWarning: Maximum Likelihood optimization failed to converge. Check mle_retvals\n",
      "  warnings.warn(\"Maximum Likelihood optimization failed to \"\n",
      "C:\\Users\\niksm\\anaconda3\\lib\\site-packages\\statsmodels\\base\\model.py:604: ConvergenceWarning: Maximum Likelihood optimization failed to converge. Check mle_retvals\n",
      "  warnings.warn(\"Maximum Likelihood optimization failed to \"\n",
      "C:\\Users\\niksm\\anaconda3\\lib\\site-packages\\statsmodels\\base\\model.py:604: ConvergenceWarning: Maximum Likelihood optimization failed to converge. Check mle_retvals\n",
      "  warnings.warn(\"Maximum Likelihood optimization failed to \"\n",
      "C:\\Users\\niksm\\anaconda3\\lib\\site-packages\\statsmodels\\base\\model.py:604: ConvergenceWarning: Maximum Likelihood optimization failed to converge. Check mle_retvals\n",
      "  warnings.warn(\"Maximum Likelihood optimization failed to \"\n",
      "C:\\Users\\niksm\\anaconda3\\lib\\site-packages\\statsmodels\\base\\model.py:604: ConvergenceWarning: Maximum Likelihood optimization failed to converge. Check mle_retvals\n",
      "  warnings.warn(\"Maximum Likelihood optimization failed to \"\n",
      "C:\\Users\\niksm\\anaconda3\\lib\\site-packages\\statsmodels\\tsa\\statespace\\sarimax.py:978: UserWarning: Non-invertible starting MA parameters found. Using zeros as starting parameters.\n",
      "  warn('Non-invertible starting MA parameters found.'\n",
      "C:\\Users\\niksm\\anaconda3\\lib\\site-packages\\statsmodels\\base\\model.py:604: ConvergenceWarning: Maximum Likelihood optimization failed to converge. Check mle_retvals\n",
      "  warnings.warn(\"Maximum Likelihood optimization failed to \"\n",
      "C:\\Users\\niksm\\anaconda3\\lib\\site-packages\\statsmodels\\base\\model.py:604: ConvergenceWarning: Maximum Likelihood optimization failed to converge. Check mle_retvals\n",
      "  warnings.warn(\"Maximum Likelihood optimization failed to \"\n",
      "C:\\Users\\niksm\\anaconda3\\lib\\site-packages\\statsmodels\\base\\model.py:604: ConvergenceWarning: Maximum Likelihood optimization failed to converge. Check mle_retvals\n",
      "  warnings.warn(\"Maximum Likelihood optimization failed to \"\n",
      "C:\\Users\\niksm\\anaconda3\\lib\\site-packages\\statsmodels\\base\\model.py:604: ConvergenceWarning: Maximum Likelihood optimization failed to converge. Check mle_retvals\n",
      "  warnings.warn(\"Maximum Likelihood optimization failed to \"\n",
      "C:\\Users\\niksm\\anaconda3\\lib\\site-packages\\statsmodels\\base\\model.py:604: ConvergenceWarning: Maximum Likelihood optimization failed to converge. Check mle_retvals\n",
      "  warnings.warn(\"Maximum Likelihood optimization failed to \"\n",
      "C:\\Users\\niksm\\anaconda3\\lib\\site-packages\\statsmodels\\base\\model.py:604: ConvergenceWarning: Maximum Likelihood optimization failed to converge. Check mle_retvals\n",
      "  warnings.warn(\"Maximum Likelihood optimization failed to \"\n",
      "C:\\Users\\niksm\\anaconda3\\lib\\site-packages\\statsmodels\\tsa\\statespace\\sarimax.py:966: UserWarning: Non-stationary starting autoregressive parameters found. Using zeros as starting parameters.\n",
      "  warn('Non-stationary starting autoregressive parameters'\n",
      "C:\\Users\\niksm\\anaconda3\\lib\\site-packages\\statsmodels\\tsa\\statespace\\sarimax.py:978: UserWarning: Non-invertible starting MA parameters found. Using zeros as starting parameters.\n",
      "  warn('Non-invertible starting MA parameters found.'\n",
      "C:\\Users\\niksm\\anaconda3\\lib\\site-packages\\statsmodels\\base\\model.py:604: ConvergenceWarning: Maximum Likelihood optimization failed to converge. Check mle_retvals\n",
      "  warnings.warn(\"Maximum Likelihood optimization failed to \"\n",
      "C:\\Users\\niksm\\anaconda3\\lib\\site-packages\\statsmodels\\base\\model.py:604: ConvergenceWarning: Maximum Likelihood optimization failed to converge. Check mle_retvals\n",
      "  warnings.warn(\"Maximum Likelihood optimization failed to \"\n",
      "C:\\Users\\niksm\\anaconda3\\lib\\site-packages\\statsmodels\\base\\model.py:604: ConvergenceWarning: Maximum Likelihood optimization failed to converge. Check mle_retvals\n",
      "  warnings.warn(\"Maximum Likelihood optimization failed to \"\n",
      "C:\\Users\\niksm\\anaconda3\\lib\\site-packages\\statsmodels\\base\\model.py:604: ConvergenceWarning: Maximum Likelihood optimization failed to converge. Check mle_retvals\n",
      "  warnings.warn(\"Maximum Likelihood optimization failed to \"\n",
      "C:\\Users\\niksm\\anaconda3\\lib\\site-packages\\statsmodels\\tsa\\statespace\\sarimax.py:966: UserWarning: Non-stationary starting autoregressive parameters found. Using zeros as starting parameters.\n",
      "  warn('Non-stationary starting autoregressive parameters'\n",
      "C:\\Users\\niksm\\anaconda3\\lib\\site-packages\\statsmodels\\tsa\\statespace\\sarimax.py:978: UserWarning: Non-invertible starting MA parameters found. Using zeros as starting parameters.\n",
      "  warn('Non-invertible starting MA parameters found.'\n",
      "C:\\Users\\niksm\\anaconda3\\lib\\site-packages\\statsmodels\\base\\model.py:604: ConvergenceWarning: Maximum Likelihood optimization failed to converge. Check mle_retvals\n",
      "  warnings.warn(\"Maximum Likelihood optimization failed to \"\n",
      "C:\\Users\\niksm\\anaconda3\\lib\\site-packages\\statsmodels\\tsa\\statespace\\sarimax.py:978: UserWarning: Non-invertible starting MA parameters found. Using zeros as starting parameters.\n",
      "  warn('Non-invertible starting MA parameters found.'\n",
      "C:\\Users\\niksm\\anaconda3\\lib\\site-packages\\statsmodels\\base\\model.py:604: ConvergenceWarning: Maximum Likelihood optimization failed to converge. Check mle_retvals\n",
      "  warnings.warn(\"Maximum Likelihood optimization failed to \"\n",
      "C:\\Users\\niksm\\anaconda3\\lib\\site-packages\\statsmodels\\base\\model.py:604: ConvergenceWarning: Maximum Likelihood optimization failed to converge. Check mle_retvals\n",
      "  warnings.warn(\"Maximum Likelihood optimization failed to \"\n",
      "C:\\Users\\niksm\\anaconda3\\lib\\site-packages\\statsmodels\\base\\model.py:604: ConvergenceWarning: Maximum Likelihood optimization failed to converge. Check mle_retvals\n",
      "  warnings.warn(\"Maximum Likelihood optimization failed to \"\n",
      "C:\\Users\\niksm\\anaconda3\\lib\\site-packages\\statsmodels\\base\\model.py:604: ConvergenceWarning: Maximum Likelihood optimization failed to converge. Check mle_retvals\n",
      "  warnings.warn(\"Maximum Likelihood optimization failed to \"\n",
      "C:\\Users\\niksm\\anaconda3\\lib\\site-packages\\statsmodels\\tsa\\statespace\\sarimax.py:966: UserWarning: Non-stationary starting autoregressive parameters found. Using zeros as starting parameters.\n",
      "  warn('Non-stationary starting autoregressive parameters'\n",
      "C:\\Users\\niksm\\anaconda3\\lib\\site-packages\\statsmodels\\tsa\\statespace\\sarimax.py:978: UserWarning: Non-invertible starting MA parameters found. Using zeros as starting parameters.\n",
      "  warn('Non-invertible starting MA parameters found.'\n",
      "C:\\Users\\niksm\\anaconda3\\lib\\site-packages\\statsmodels\\base\\model.py:604: ConvergenceWarning: Maximum Likelihood optimization failed to converge. Check mle_retvals\n",
      "  warnings.warn(\"Maximum Likelihood optimization failed to \"\n",
      "C:\\Users\\niksm\\anaconda3\\lib\\site-packages\\statsmodels\\base\\model.py:604: ConvergenceWarning: Maximum Likelihood optimization failed to converge. Check mle_retvals\n",
      "  warnings.warn(\"Maximum Likelihood optimization failed to \"\n",
      "C:\\Users\\niksm\\anaconda3\\lib\\site-packages\\statsmodels\\base\\model.py:604: ConvergenceWarning: Maximum Likelihood optimization failed to converge. Check mle_retvals\n",
      "  warnings.warn(\"Maximum Likelihood optimization failed to \"\n",
      "C:\\Users\\niksm\\anaconda3\\lib\\site-packages\\statsmodels\\base\\model.py:604: ConvergenceWarning: Maximum Likelihood optimization failed to converge. Check mle_retvals\n",
      "  warnings.warn(\"Maximum Likelihood optimization failed to \"\n",
      "C:\\Users\\niksm\\anaconda3\\lib\\site-packages\\statsmodels\\base\\model.py:604: ConvergenceWarning: Maximum Likelihood optimization failed to converge. Check mle_retvals\n",
      "  warnings.warn(\"Maximum Likelihood optimization failed to \"\n",
      "C:\\Users\\niksm\\anaconda3\\lib\\site-packages\\statsmodels\\tsa\\statespace\\sarimax.py:966: UserWarning: Non-stationary starting autoregressive parameters found. Using zeros as starting parameters.\n",
      "  warn('Non-stationary starting autoregressive parameters'\n",
      "C:\\Users\\niksm\\anaconda3\\lib\\site-packages\\statsmodels\\tsa\\statespace\\sarimax.py:978: UserWarning: Non-invertible starting MA parameters found. Using zeros as starting parameters.\n",
      "  warn('Non-invertible starting MA parameters found.'\n",
      "C:\\Users\\niksm\\anaconda3\\lib\\site-packages\\statsmodels\\base\\model.py:604: ConvergenceWarning: Maximum Likelihood optimization failed to converge. Check mle_retvals\n",
      "  warnings.warn(\"Maximum Likelihood optimization failed to \"\n",
      "C:\\Users\\niksm\\anaconda3\\lib\\site-packages\\statsmodels\\tsa\\statespace\\sarimax.py:966: UserWarning: Non-stationary starting autoregressive parameters found. Using zeros as starting parameters.\n",
      "  warn('Non-stationary starting autoregressive parameters'\n",
      "C:\\Users\\niksm\\anaconda3\\lib\\site-packages\\statsmodels\\tsa\\statespace\\sarimax.py:978: UserWarning: Non-invertible starting MA parameters found. Using zeros as starting parameters.\n",
      "  warn('Non-invertible starting MA parameters found.'\n",
      "C:\\Users\\niksm\\anaconda3\\lib\\site-packages\\statsmodels\\base\\model.py:604: ConvergenceWarning: Maximum Likelihood optimization failed to converge. Check mle_retvals\n",
      "  warnings.warn(\"Maximum Likelihood optimization failed to \"\n",
      "C:\\Users\\niksm\\anaconda3\\lib\\site-packages\\statsmodels\\base\\model.py:604: ConvergenceWarning: Maximum Likelihood optimization failed to converge. Check mle_retvals\n",
      "  warnings.warn(\"Maximum Likelihood optimization failed to \"\n",
      "C:\\Users\\niksm\\anaconda3\\lib\\site-packages\\statsmodels\\base\\model.py:604: ConvergenceWarning: Maximum Likelihood optimization failed to converge. Check mle_retvals\n",
      "  warnings.warn(\"Maximum Likelihood optimization failed to \"\n",
      "C:\\Users\\niksm\\anaconda3\\lib\\site-packages\\statsmodels\\base\\model.py:604: ConvergenceWarning: Maximum Likelihood optimization failed to converge. Check mle_retvals\n",
      "  warnings.warn(\"Maximum Likelihood optimization failed to \"\n",
      "C:\\Users\\niksm\\anaconda3\\lib\\site-packages\\statsmodels\\base\\model.py:604: ConvergenceWarning: Maximum Likelihood optimization failed to converge. Check mle_retvals\n",
      "  warnings.warn(\"Maximum Likelihood optimization failed to \"\n",
      "C:\\Users\\niksm\\anaconda3\\lib\\site-packages\\statsmodels\\tsa\\statespace\\sarimax.py:966: UserWarning: Non-stationary starting autoregressive parameters found. Using zeros as starting parameters.\n",
      "  warn('Non-stationary starting autoregressive parameters'\n",
      "C:\\Users\\niksm\\anaconda3\\lib\\site-packages\\statsmodels\\tsa\\statespace\\sarimax.py:978: UserWarning: Non-invertible starting MA parameters found. Using zeros as starting parameters.\n",
      "  warn('Non-invertible starting MA parameters found.'\n",
      "C:\\Users\\niksm\\anaconda3\\lib\\site-packages\\statsmodels\\tsa\\statespace\\sarimax.py:978: UserWarning: Non-invertible starting MA parameters found. Using zeros as starting parameters.\n",
      "  warn('Non-invertible starting MA parameters found.'\n",
      "C:\\Users\\niksm\\anaconda3\\lib\\site-packages\\statsmodels\\base\\model.py:604: ConvergenceWarning: Maximum Likelihood optimization failed to converge. Check mle_retvals\n",
      "  warnings.warn(\"Maximum Likelihood optimization failed to \"\n",
      "C:\\Users\\niksm\\anaconda3\\lib\\site-packages\\statsmodels\\tsa\\statespace\\sarimax.py:978: UserWarning: Non-invertible starting MA parameters found. Using zeros as starting parameters.\n",
      "  warn('Non-invertible starting MA parameters found.'\n",
      "C:\\Users\\niksm\\anaconda3\\lib\\site-packages\\statsmodels\\base\\model.py:604: ConvergenceWarning: Maximum Likelihood optimization failed to converge. Check mle_retvals\n",
      "  warnings.warn(\"Maximum Likelihood optimization failed to \"\n",
      "C:\\Users\\niksm\\anaconda3\\lib\\site-packages\\statsmodels\\base\\model.py:604: ConvergenceWarning: Maximum Likelihood optimization failed to converge. Check mle_retvals\n",
      "  warnings.warn(\"Maximum Likelihood optimization failed to \"\n",
      "C:\\Users\\niksm\\anaconda3\\lib\\site-packages\\statsmodels\\base\\model.py:604: ConvergenceWarning: Maximum Likelihood optimization failed to converge. Check mle_retvals\n",
      "  warnings.warn(\"Maximum Likelihood optimization failed to \"\n",
      "C:\\Users\\niksm\\anaconda3\\lib\\site-packages\\statsmodels\\base\\model.py:604: ConvergenceWarning: Maximum Likelihood optimization failed to converge. Check mle_retvals\n",
      "  warnings.warn(\"Maximum Likelihood optimization failed to \"\n",
      "C:\\Users\\niksm\\anaconda3\\lib\\site-packages\\statsmodels\\tsa\\statespace\\sarimax.py:966: UserWarning: Non-stationary starting autoregressive parameters found. Using zeros as starting parameters.\n",
      "  warn('Non-stationary starting autoregressive parameters'\n",
      "C:\\Users\\niksm\\anaconda3\\lib\\site-packages\\statsmodels\\tsa\\statespace\\sarimax.py:978: UserWarning: Non-invertible starting MA parameters found. Using zeros as starting parameters.\n",
      "  warn('Non-invertible starting MA parameters found.'\n",
      "C:\\Users\\niksm\\anaconda3\\lib\\site-packages\\statsmodels\\tsa\\statespace\\sarimax.py:966: UserWarning: Non-stationary starting autoregressive parameters found. Using zeros as starting parameters.\n",
      "  warn('Non-stationary starting autoregressive parameters'\n",
      "C:\\Users\\niksm\\anaconda3\\lib\\site-packages\\statsmodels\\tsa\\statespace\\sarimax.py:978: UserWarning: Non-invertible starting MA parameters found. Using zeros as starting parameters.\n",
      "  warn('Non-invertible starting MA parameters found.'\n",
      "C:\\Users\\niksm\\anaconda3\\lib\\site-packages\\statsmodels\\tsa\\statespace\\sarimax.py:966: UserWarning: Non-stationary starting autoregressive parameters found. Using zeros as starting parameters.\n",
      "  warn('Non-stationary starting autoregressive parameters'\n",
      "C:\\Users\\niksm\\anaconda3\\lib\\site-packages\\statsmodels\\tsa\\statespace\\sarimax.py:978: UserWarning: Non-invertible starting MA parameters found. Using zeros as starting parameters.\n",
      "  warn('Non-invertible starting MA parameters found.'\n",
      "C:\\Users\\niksm\\anaconda3\\lib\\site-packages\\statsmodels\\base\\model.py:604: ConvergenceWarning: Maximum Likelihood optimization failed to converge. Check mle_retvals\n",
      "  warnings.warn(\"Maximum Likelihood optimization failed to \"\n",
      "C:\\Users\\niksm\\anaconda3\\lib\\site-packages\\statsmodels\\base\\model.py:604: ConvergenceWarning: Maximum Likelihood optimization failed to converge. Check mle_retvals\n",
      "  warnings.warn(\"Maximum Likelihood optimization failed to \"\n",
      "C:\\Users\\niksm\\anaconda3\\lib\\site-packages\\statsmodels\\base\\model.py:604: ConvergenceWarning: Maximum Likelihood optimization failed to converge. Check mle_retvals\n",
      "  warnings.warn(\"Maximum Likelihood optimization failed to \"\n",
      "C:\\Users\\niksm\\anaconda3\\lib\\site-packages\\statsmodels\\base\\model.py:604: ConvergenceWarning: Maximum Likelihood optimization failed to converge. Check mle_retvals\n",
      "  warnings.warn(\"Maximum Likelihood optimization failed to \"\n",
      "C:\\Users\\niksm\\anaconda3\\lib\\site-packages\\statsmodels\\base\\model.py:604: ConvergenceWarning: Maximum Likelihood optimization failed to converge. Check mle_retvals\n",
      "  warnings.warn(\"Maximum Likelihood optimization failed to \"\n",
      "C:\\Users\\niksm\\anaconda3\\lib\\site-packages\\statsmodels\\tsa\\statespace\\sarimax.py:966: UserWarning: Non-stationary starting autoregressive parameters found. Using zeros as starting parameters.\n",
      "  warn('Non-stationary starting autoregressive parameters'\n",
      "C:\\Users\\niksm\\anaconda3\\lib\\site-packages\\statsmodels\\tsa\\statespace\\sarimax.py:978: UserWarning: Non-invertible starting MA parameters found. Using zeros as starting parameters.\n",
      "  warn('Non-invertible starting MA parameters found.'\n",
      "C:\\Users\\niksm\\anaconda3\\lib\\site-packages\\statsmodels\\base\\model.py:604: ConvergenceWarning: Maximum Likelihood optimization failed to converge. Check mle_retvals\n",
      "  warnings.warn(\"Maximum Likelihood optimization failed to \"\n",
      "C:\\Users\\niksm\\anaconda3\\lib\\site-packages\\statsmodels\\tsa\\statespace\\sarimax.py:966: UserWarning: Non-stationary starting autoregressive parameters found. Using zeros as starting parameters.\n",
      "  warn('Non-stationary starting autoregressive parameters'\n",
      "C:\\Users\\niksm\\anaconda3\\lib\\site-packages\\statsmodels\\tsa\\statespace\\sarimax.py:978: UserWarning: Non-invertible starting MA parameters found. Using zeros as starting parameters.\n",
      "  warn('Non-invertible starting MA parameters found.'\n",
      "C:\\Users\\niksm\\anaconda3\\lib\\site-packages\\statsmodels\\base\\model.py:604: ConvergenceWarning: Maximum Likelihood optimization failed to converge. Check mle_retvals\n",
      "  warnings.warn(\"Maximum Likelihood optimization failed to \"\n",
      "C:\\Users\\niksm\\anaconda3\\lib\\site-packages\\statsmodels\\base\\model.py:604: ConvergenceWarning: Maximum Likelihood optimization failed to converge. Check mle_retvals\n",
      "  warnings.warn(\"Maximum Likelihood optimization failed to \"\n",
      "C:\\Users\\niksm\\anaconda3\\lib\\site-packages\\statsmodels\\base\\model.py:604: ConvergenceWarning: Maximum Likelihood optimization failed to converge. Check mle_retvals\n",
      "  warnings.warn(\"Maximum Likelihood optimization failed to \"\n",
      "C:\\Users\\niksm\\anaconda3\\lib\\site-packages\\statsmodels\\tsa\\statespace\\sarimax.py:966: UserWarning: Non-stationary starting autoregressive parameters found. Using zeros as starting parameters.\n",
      "  warn('Non-stationary starting autoregressive parameters'\n",
      "C:\\Users\\niksm\\anaconda3\\lib\\site-packages\\statsmodels\\tsa\\statespace\\sarimax.py:978: UserWarning: Non-invertible starting MA parameters found. Using zeros as starting parameters.\n",
      "  warn('Non-invertible starting MA parameters found.'\n",
      "C:\\Users\\niksm\\anaconda3\\lib\\site-packages\\statsmodels\\base\\model.py:604: ConvergenceWarning: Maximum Likelihood optimization failed to converge. Check mle_retvals\n",
      "  warnings.warn(\"Maximum Likelihood optimization failed to \"\n",
      "C:\\Users\\niksm\\anaconda3\\lib\\site-packages\\statsmodels\\tsa\\statespace\\sarimax.py:966: UserWarning: Non-stationary starting autoregressive parameters found. Using zeros as starting parameters.\n",
      "  warn('Non-stationary starting autoregressive parameters'\n",
      "C:\\Users\\niksm\\anaconda3\\lib\\site-packages\\statsmodels\\tsa\\statespace\\sarimax.py:978: UserWarning: Non-invertible starting MA parameters found. Using zeros as starting parameters.\n",
      "  warn('Non-invertible starting MA parameters found.'\n",
      "C:\\Users\\niksm\\anaconda3\\lib\\site-packages\\statsmodels\\tsa\\statespace\\sarimax.py:966: UserWarning: Non-stationary starting autoregressive parameters found. Using zeros as starting parameters.\n",
      "  warn('Non-stationary starting autoregressive parameters'\n",
      "C:\\Users\\niksm\\anaconda3\\lib\\site-packages\\statsmodels\\tsa\\statespace\\sarimax.py:978: UserWarning: Non-invertible starting MA parameters found. Using zeros as starting parameters.\n",
      "  warn('Non-invertible starting MA parameters found.'\n",
      "C:\\Users\\niksm\\anaconda3\\lib\\site-packages\\statsmodels\\base\\model.py:604: ConvergenceWarning: Maximum Likelihood optimization failed to converge. Check mle_retvals\n",
      "  warnings.warn(\"Maximum Likelihood optimization failed to \"\n",
      "C:\\Users\\niksm\\anaconda3\\lib\\site-packages\\statsmodels\\tsa\\statespace\\sarimax.py:978: UserWarning: Non-invertible starting MA parameters found. Using zeros as starting parameters.\n",
      "  warn('Non-invertible starting MA parameters found.'\n",
      "C:\\Users\\niksm\\anaconda3\\lib\\site-packages\\statsmodels\\base\\model.py:604: ConvergenceWarning: Maximum Likelihood optimization failed to converge. Check mle_retvals\n",
      "  warnings.warn(\"Maximum Likelihood optimization failed to \"\n",
      "C:\\Users\\niksm\\anaconda3\\lib\\site-packages\\statsmodels\\base\\model.py:604: ConvergenceWarning: Maximum Likelihood optimization failed to converge. Check mle_retvals\n",
      "  warnings.warn(\"Maximum Likelihood optimization failed to \"\n",
      "C:\\Users\\niksm\\anaconda3\\lib\\site-packages\\statsmodels\\base\\model.py:604: ConvergenceWarning: Maximum Likelihood optimization failed to converge. Check mle_retvals\n",
      "  warnings.warn(\"Maximum Likelihood optimization failed to \"\n",
      "C:\\Users\\niksm\\anaconda3\\lib\\site-packages\\statsmodels\\base\\model.py:604: ConvergenceWarning: Maximum Likelihood optimization failed to converge. Check mle_retvals\n",
      "  warnings.warn(\"Maximum Likelihood optimization failed to \"\n",
      "C:\\Users\\niksm\\anaconda3\\lib\\site-packages\\statsmodels\\base\\model.py:604: ConvergenceWarning: Maximum Likelihood optimization failed to converge. Check mle_retvals\n",
      "  warnings.warn(\"Maximum Likelihood optimization failed to \"\n",
      "C:\\Users\\niksm\\anaconda3\\lib\\site-packages\\statsmodels\\tsa\\statespace\\sarimax.py:966: UserWarning: Non-stationary starting autoregressive parameters found. Using zeros as starting parameters.\n",
      "  warn('Non-stationary starting autoregressive parameters'\n",
      "C:\\Users\\niksm\\anaconda3\\lib\\site-packages\\statsmodels\\tsa\\statespace\\sarimax.py:978: UserWarning: Non-invertible starting MA parameters found. Using zeros as starting parameters.\n",
      "  warn('Non-invertible starting MA parameters found.'\n",
      "C:\\Users\\niksm\\anaconda3\\lib\\site-packages\\statsmodels\\base\\model.py:604: ConvergenceWarning: Maximum Likelihood optimization failed to converge. Check mle_retvals\n",
      "  warnings.warn(\"Maximum Likelihood optimization failed to \"\n",
      "C:\\Users\\niksm\\anaconda3\\lib\\site-packages\\statsmodels\\tsa\\statespace\\sarimax.py:966: UserWarning: Non-stationary starting autoregressive parameters found. Using zeros as starting parameters.\n",
      "  warn('Non-stationary starting autoregressive parameters'\n",
      "C:\\Users\\niksm\\anaconda3\\lib\\site-packages\\statsmodels\\tsa\\statespace\\sarimax.py:978: UserWarning: Non-invertible starting MA parameters found. Using zeros as starting parameters.\n",
      "  warn('Non-invertible starting MA parameters found.'\n",
      "C:\\Users\\niksm\\anaconda3\\lib\\site-packages\\statsmodels\\base\\model.py:604: ConvergenceWarning: Maximum Likelihood optimization failed to converge. Check mle_retvals\n",
      "  warnings.warn(\"Maximum Likelihood optimization failed to \"\n",
      "C:\\Users\\niksm\\anaconda3\\lib\\site-packages\\statsmodels\\base\\model.py:604: ConvergenceWarning: Maximum Likelihood optimization failed to converge. Check mle_retvals\n",
      "  warnings.warn(\"Maximum Likelihood optimization failed to \"\n",
      "C:\\Users\\niksm\\anaconda3\\lib\\site-packages\\statsmodels\\base\\model.py:604: ConvergenceWarning: Maximum Likelihood optimization failed to converge. Check mle_retvals\n",
      "  warnings.warn(\"Maximum Likelihood optimization failed to \"\n",
      "C:\\Users\\niksm\\anaconda3\\lib\\site-packages\\statsmodels\\tsa\\statespace\\sarimax.py:966: UserWarning: Non-stationary starting autoregressive parameters found. Using zeros as starting parameters.\n",
      "  warn('Non-stationary starting autoregressive parameters'\n",
      "C:\\Users\\niksm\\anaconda3\\lib\\site-packages\\statsmodels\\tsa\\statespace\\sarimax.py:978: UserWarning: Non-invertible starting MA parameters found. Using zeros as starting parameters.\n",
      "  warn('Non-invertible starting MA parameters found.'\n",
      "C:\\Users\\niksm\\anaconda3\\lib\\site-packages\\statsmodels\\base\\model.py:604: ConvergenceWarning: Maximum Likelihood optimization failed to converge. Check mle_retvals\n",
      "  warnings.warn(\"Maximum Likelihood optimization failed to \"\n",
      "C:\\Users\\niksm\\anaconda3\\lib\\site-packages\\statsmodels\\tsa\\statespace\\sarimax.py:966: UserWarning: Non-stationary starting autoregressive parameters found. Using zeros as starting parameters.\n",
      "  warn('Non-stationary starting autoregressive parameters'\n",
      "C:\\Users\\niksm\\anaconda3\\lib\\site-packages\\statsmodels\\tsa\\statespace\\sarimax.py:978: UserWarning: Non-invertible starting MA parameters found. Using zeros as starting parameters.\n",
      "  warn('Non-invertible starting MA parameters found.'\n",
      "C:\\Users\\niksm\\anaconda3\\lib\\site-packages\\statsmodels\\base\\model.py:604: ConvergenceWarning: Maximum Likelihood optimization failed to converge. Check mle_retvals\n",
      "  warnings.warn(\"Maximum Likelihood optimization failed to \"\n",
      "C:\\Users\\niksm\\anaconda3\\lib\\site-packages\\statsmodels\\tsa\\statespace\\sarimax.py:966: UserWarning: Non-stationary starting autoregressive parameters found. Using zeros as starting parameters.\n",
      "  warn('Non-stationary starting autoregressive parameters'\n",
      "C:\\Users\\niksm\\anaconda3\\lib\\site-packages\\statsmodels\\tsa\\statespace\\sarimax.py:978: UserWarning: Non-invertible starting MA parameters found. Using zeros as starting parameters.\n",
      "  warn('Non-invertible starting MA parameters found.'\n",
      "C:\\Users\\niksm\\anaconda3\\lib\\site-packages\\statsmodels\\base\\model.py:604: ConvergenceWarning: Maximum Likelihood optimization failed to converge. Check mle_retvals\n",
      "  warnings.warn(\"Maximum Likelihood optimization failed to \"\n",
      "C:\\Users\\niksm\\anaconda3\\lib\\site-packages\\statsmodels\\tsa\\statespace\\sarimax.py:978: UserWarning: Non-invertible starting MA parameters found. Using zeros as starting parameters.\n",
      "  warn('Non-invertible starting MA parameters found.'\n",
      "C:\\Users\\niksm\\anaconda3\\lib\\site-packages\\statsmodels\\base\\model.py:604: ConvergenceWarning: Maximum Likelihood optimization failed to converge. Check mle_retvals\n",
      "  warnings.warn(\"Maximum Likelihood optimization failed to \"\n",
      "C:\\Users\\niksm\\anaconda3\\lib\\site-packages\\statsmodels\\base\\model.py:604: ConvergenceWarning: Maximum Likelihood optimization failed to converge. Check mle_retvals\n",
      "  warnings.warn(\"Maximum Likelihood optimization failed to \"\n",
      "C:\\Users\\niksm\\anaconda3\\lib\\site-packages\\statsmodels\\tsa\\statespace\\sarimax.py:966: UserWarning: Non-stationary starting autoregressive parameters found. Using zeros as starting parameters.\n",
      "  warn('Non-stationary starting autoregressive parameters'\n",
      "C:\\Users\\niksm\\anaconda3\\lib\\site-packages\\statsmodels\\tsa\\statespace\\sarimax.py:978: UserWarning: Non-invertible starting MA parameters found. Using zeros as starting parameters.\n",
      "  warn('Non-invertible starting MA parameters found.'\n",
      "C:\\Users\\niksm\\anaconda3\\lib\\site-packages\\statsmodels\\base\\model.py:604: ConvergenceWarning: Maximum Likelihood optimization failed to converge. Check mle_retvals\n",
      "  warnings.warn(\"Maximum Likelihood optimization failed to \"\n",
      "C:\\Users\\niksm\\anaconda3\\lib\\site-packages\\statsmodels\\tsa\\statespace\\sarimax.py:978: UserWarning: Non-invertible starting MA parameters found. Using zeros as starting parameters.\n",
      "  warn('Non-invertible starting MA parameters found.'\n",
      "C:\\Users\\niksm\\anaconda3\\lib\\site-packages\\statsmodels\\base\\model.py:604: ConvergenceWarning: Maximum Likelihood optimization failed to converge. Check mle_retvals\n",
      "  warnings.warn(\"Maximum Likelihood optimization failed to \"\n",
      "C:\\Users\\niksm\\anaconda3\\lib\\site-packages\\statsmodels\\base\\model.py:604: ConvergenceWarning: Maximum Likelihood optimization failed to converge. Check mle_retvals\n",
      "  warnings.warn(\"Maximum Likelihood optimization failed to \"\n",
      "C:\\Users\\niksm\\anaconda3\\lib\\site-packages\\statsmodels\\base\\model.py:604: ConvergenceWarning: Maximum Likelihood optimization failed to converge. Check mle_retvals\n",
      "  warnings.warn(\"Maximum Likelihood optimization failed to \"\n",
      "C:\\Users\\niksm\\anaconda3\\lib\\site-packages\\statsmodels\\base\\model.py:604: ConvergenceWarning: Maximum Likelihood optimization failed to converge. Check mle_retvals\n",
      "  warnings.warn(\"Maximum Likelihood optimization failed to \"\n",
      "C:\\Users\\niksm\\anaconda3\\lib\\site-packages\\statsmodels\\base\\model.py:604: ConvergenceWarning: Maximum Likelihood optimization failed to converge. Check mle_retvals\n",
      "  warnings.warn(\"Maximum Likelihood optimization failed to \"\n",
      "C:\\Users\\niksm\\anaconda3\\lib\\site-packages\\statsmodels\\tsa\\statespace\\sarimax.py:966: UserWarning: Non-stationary starting autoregressive parameters found. Using zeros as starting parameters.\n",
      "  warn('Non-stationary starting autoregressive parameters'\n",
      "C:\\Users\\niksm\\anaconda3\\lib\\site-packages\\statsmodels\\tsa\\statespace\\sarimax.py:978: UserWarning: Non-invertible starting MA parameters found. Using zeros as starting parameters.\n",
      "  warn('Non-invertible starting MA parameters found.'\n",
      "C:\\Users\\niksm\\anaconda3\\lib\\site-packages\\statsmodels\\base\\model.py:604: ConvergenceWarning: Maximum Likelihood optimization failed to converge. Check mle_retvals\n",
      "  warnings.warn(\"Maximum Likelihood optimization failed to \"\n",
      "C:\\Users\\niksm\\anaconda3\\lib\\site-packages\\statsmodels\\tsa\\statespace\\sarimax.py:966: UserWarning: Non-stationary starting autoregressive parameters found. Using zeros as starting parameters.\n",
      "  warn('Non-stationary starting autoregressive parameters'\n",
      "C:\\Users\\niksm\\anaconda3\\lib\\site-packages\\statsmodels\\tsa\\statespace\\sarimax.py:978: UserWarning: Non-invertible starting MA parameters found. Using zeros as starting parameters.\n",
      "  warn('Non-invertible starting MA parameters found.'\n",
      "C:\\Users\\niksm\\anaconda3\\lib\\site-packages\\statsmodels\\base\\model.py:604: ConvergenceWarning: Maximum Likelihood optimization failed to converge. Check mle_retvals\n",
      "  warnings.warn(\"Maximum Likelihood optimization failed to \"\n",
      "C:\\Users\\niksm\\anaconda3\\lib\\site-packages\\statsmodels\\base\\model.py:604: ConvergenceWarning: Maximum Likelihood optimization failed to converge. Check mle_retvals\n",
      "  warnings.warn(\"Maximum Likelihood optimization failed to \"\n",
      "C:\\Users\\niksm\\anaconda3\\lib\\site-packages\\statsmodels\\base\\model.py:604: ConvergenceWarning: Maximum Likelihood optimization failed to converge. Check mle_retvals\n",
      "  warnings.warn(\"Maximum Likelihood optimization failed to \"\n",
      "C:\\Users\\niksm\\anaconda3\\lib\\site-packages\\statsmodels\\tsa\\statespace\\sarimax.py:966: UserWarning: Non-stationary starting autoregressive parameters found. Using zeros as starting parameters.\n",
      "  warn('Non-stationary starting autoregressive parameters'\n",
      "C:\\Users\\niksm\\anaconda3\\lib\\site-packages\\statsmodels\\tsa\\statespace\\sarimax.py:978: UserWarning: Non-invertible starting MA parameters found. Using zeros as starting parameters.\n",
      "  warn('Non-invertible starting MA parameters found.'\n",
      "C:\\Users\\niksm\\anaconda3\\lib\\site-packages\\statsmodels\\base\\model.py:604: ConvergenceWarning: Maximum Likelihood optimization failed to converge. Check mle_retvals\n",
      "  warnings.warn(\"Maximum Likelihood optimization failed to \"\n",
      "C:\\Users\\niksm\\anaconda3\\lib\\site-packages\\statsmodels\\tsa\\statespace\\sarimax.py:966: UserWarning: Non-stationary starting autoregressive parameters found. Using zeros as starting parameters.\n",
      "  warn('Non-stationary starting autoregressive parameters'\n",
      "C:\\Users\\niksm\\anaconda3\\lib\\site-packages\\statsmodels\\tsa\\statespace\\sarimax.py:978: UserWarning: Non-invertible starting MA parameters found. Using zeros as starting parameters.\n",
      "  warn('Non-invertible starting MA parameters found.'\n",
      "C:\\Users\\niksm\\anaconda3\\lib\\site-packages\\statsmodels\\base\\model.py:604: ConvergenceWarning: Maximum Likelihood optimization failed to converge. Check mle_retvals\n",
      "  warnings.warn(\"Maximum Likelihood optimization failed to \"\n",
      "C:\\Users\\niksm\\anaconda3\\lib\\site-packages\\statsmodels\\tsa\\statespace\\sarimax.py:966: UserWarning: Non-stationary starting autoregressive parameters found. Using zeros as starting parameters.\n",
      "  warn('Non-stationary starting autoregressive parameters'\n",
      "C:\\Users\\niksm\\anaconda3\\lib\\site-packages\\statsmodels\\tsa\\statespace\\sarimax.py:978: UserWarning: Non-invertible starting MA parameters found. Using zeros as starting parameters.\n",
      "  warn('Non-invertible starting MA parameters found.'\n",
      "C:\\Users\\niksm\\anaconda3\\lib\\site-packages\\statsmodels\\base\\model.py:604: ConvergenceWarning: Maximum Likelihood optimization failed to converge. Check mle_retvals\n",
      "  warnings.warn(\"Maximum Likelihood optimization failed to \"\n",
      "C:\\Users\\niksm\\anaconda3\\lib\\site-packages\\statsmodels\\tsa\\statespace\\sarimax.py:978: UserWarning: Non-invertible starting MA parameters found. Using zeros as starting parameters.\n",
      "  warn('Non-invertible starting MA parameters found.'\n",
      "C:\\Users\\niksm\\anaconda3\\lib\\site-packages\\statsmodels\\base\\model.py:604: ConvergenceWarning: Maximum Likelihood optimization failed to converge. Check mle_retvals\n",
      "  warnings.warn(\"Maximum Likelihood optimization failed to \"\n",
      "C:\\Users\\niksm\\anaconda3\\lib\\site-packages\\statsmodels\\base\\model.py:604: ConvergenceWarning: Maximum Likelihood optimization failed to converge. Check mle_retvals\n",
      "  warnings.warn(\"Maximum Likelihood optimization failed to \"\n",
      "C:\\Users\\niksm\\anaconda3\\lib\\site-packages\\statsmodels\\tsa\\statespace\\sarimax.py:966: UserWarning: Non-stationary starting autoregressive parameters found. Using zeros as starting parameters.\n",
      "  warn('Non-stationary starting autoregressive parameters'\n",
      "C:\\Users\\niksm\\anaconda3\\lib\\site-packages\\statsmodels\\tsa\\statespace\\sarimax.py:978: UserWarning: Non-invertible starting MA parameters found. Using zeros as starting parameters.\n",
      "  warn('Non-invertible starting MA parameters found.'\n",
      "C:\\Users\\niksm\\anaconda3\\lib\\site-packages\\statsmodels\\base\\model.py:604: ConvergenceWarning: Maximum Likelihood optimization failed to converge. Check mle_retvals\n",
      "  warnings.warn(\"Maximum Likelihood optimization failed to \"\n",
      "C:\\Users\\niksm\\anaconda3\\lib\\site-packages\\statsmodels\\base\\model.py:604: ConvergenceWarning: Maximum Likelihood optimization failed to converge. Check mle_retvals\n",
      "  warnings.warn(\"Maximum Likelihood optimization failed to \"\n",
      "C:\\Users\\niksm\\anaconda3\\lib\\site-packages\\statsmodels\\base\\model.py:604: ConvergenceWarning: Maximum Likelihood optimization failed to converge. Check mle_retvals\n",
      "  warnings.warn(\"Maximum Likelihood optimization failed to \"\n",
      "C:\\Users\\niksm\\anaconda3\\lib\\site-packages\\statsmodels\\tsa\\statespace\\sarimax.py:978: UserWarning: Non-invertible starting MA parameters found. Using zeros as starting parameters.\n",
      "  warn('Non-invertible starting MA parameters found.'\n",
      "C:\\Users\\niksm\\anaconda3\\lib\\site-packages\\statsmodels\\base\\model.py:604: ConvergenceWarning: Maximum Likelihood optimization failed to converge. Check mle_retvals\n",
      "  warnings.warn(\"Maximum Likelihood optimization failed to \"\n",
      "C:\\Users\\niksm\\anaconda3\\lib\\site-packages\\statsmodels\\tsa\\statespace\\sarimax.py:966: UserWarning: Non-stationary starting autoregressive parameters found. Using zeros as starting parameters.\n",
      "  warn('Non-stationary starting autoregressive parameters'\n",
      "C:\\Users\\niksm\\anaconda3\\lib\\site-packages\\statsmodels\\tsa\\statespace\\sarimax.py:978: UserWarning: Non-invertible starting MA parameters found. Using zeros as starting parameters.\n",
      "  warn('Non-invertible starting MA parameters found.'\n",
      "C:\\Users\\niksm\\anaconda3\\lib\\site-packages\\statsmodels\\base\\model.py:604: ConvergenceWarning: Maximum Likelihood optimization failed to converge. Check mle_retvals\n",
      "  warnings.warn(\"Maximum Likelihood optimization failed to \"\n",
      "C:\\Users\\niksm\\anaconda3\\lib\\site-packages\\statsmodels\\base\\model.py:604: ConvergenceWarning: Maximum Likelihood optimization failed to converge. Check mle_retvals\n",
      "  warnings.warn(\"Maximum Likelihood optimization failed to \"\n",
      "C:\\Users\\niksm\\anaconda3\\lib\\site-packages\\statsmodels\\base\\model.py:604: ConvergenceWarning: Maximum Likelihood optimization failed to converge. Check mle_retvals\n",
      "  warnings.warn(\"Maximum Likelihood optimization failed to \"\n"
     ]
    },
    {
     "name": "stdout",
     "output_type": "stream",
     "text": [
      "[(0, 0, 0), (0, 0, 1), (0, 0, 2), (0, 0, 3), (0, 0, 4), (0, 0, 5), (0, 0, 6), (0, 0, 7), (0, 1, 0), (0, 1, 1), (0, 1, 2), (0, 1, 3), (0, 1, 4), (0, 1, 5), (0, 1, 6), (0, 1, 7), (0, 2, 0), (0, 2, 1), (0, 2, 2), (0, 2, 3), (0, 2, 4), (0, 2, 5), (0, 2, 6), (0, 2, 7), (1, 0, 0), (1, 0, 1), (1, 0, 2), (1, 0, 3), (1, 0, 4), (1, 0, 5), (1, 0, 6), (1, 0, 7), (1, 1, 0), (1, 1, 1), (1, 1, 2), (1, 1, 3), (1, 1, 4), (1, 1, 5), (1, 1, 6), (1, 1, 7), (1, 2, 0), (1, 2, 1), (1, 2, 2), (1, 2, 3), (1, 2, 4), (1, 2, 5), (1, 2, 6), (1, 2, 7), (2, 0, 0), (2, 0, 1), (2, 0, 2), (2, 0, 3), (2, 0, 4), (2, 0, 5), (2, 0, 6), (2, 0, 7), (2, 1, 0), (2, 1, 1), (2, 1, 2), (2, 1, 3), (2, 1, 4), (2, 1, 5), (2, 1, 6), (2, 1, 7), (2, 2, 0), (2, 2, 1), (2, 2, 2), (2, 2, 3), (2, 2, 4), (2, 2, 5), (2, 2, 6), (2, 2, 7), (3, 0, 0), (3, 0, 1), (3, 0, 2), (3, 0, 3), (3, 0, 4), (3, 0, 5), (3, 0, 6), (3, 0, 7), (3, 1, 0), (3, 1, 1), (3, 1, 2), (3, 1, 3), (3, 1, 4), (3, 1, 5), (3, 1, 6), (3, 1, 7), (3, 2, 0), (3, 2, 1), (3, 2, 2), (3, 2, 3), (3, 2, 4), (3, 2, 5), (3, 2, 6), (3, 2, 7), (4, 0, 0), (4, 0, 1), (4, 0, 2), (4, 0, 3), (4, 0, 4), (4, 0, 5), (4, 0, 6), (4, 0, 7), (4, 1, 0), (4, 1, 1), (4, 1, 2), (4, 1, 3), (4, 1, 4), (4, 1, 5), (4, 1, 6), (4, 1, 7), (4, 2, 0), (4, 2, 1), (4, 2, 2), (4, 2, 3), (4, 2, 4), (4, 2, 5), (4, 2, 6), (4, 2, 7), (5, 0, 0), (5, 0, 1), (5, 0, 2), (5, 0, 3), (5, 0, 4), (5, 0, 5), (5, 0, 6), (5, 0, 7), (5, 1, 0), (5, 1, 1), (5, 1, 2), (5, 1, 3), (5, 1, 4), (5, 1, 5), (5, 1, 6), (5, 1, 7), (5, 2, 0), (5, 2, 1), (5, 2, 2), (5, 2, 3), (5, 2, 4), (5, 2, 5), (5, 2, 6), (5, 2, 7), (6, 0, 0), (6, 0, 1), (6, 0, 2), (6, 0, 3), (6, 0, 4), (6, 0, 5), (6, 0, 6), (6, 0, 7), (6, 1, 0), (6, 1, 1), (6, 1, 2), (6, 1, 3), (6, 1, 4), (6, 1, 5), (6, 1, 6), (6, 1, 7), (6, 2, 0), (6, 2, 1), (6, 2, 2), (6, 2, 3), (6, 2, 4), (6, 2, 5), (6, 2, 6), (6, 2, 7), (7, 0, 0), (7, 0, 1), (7, 0, 2), (7, 0, 3), (7, 0, 4), (7, 0, 5), (7, 0, 6), (7, 0, 7), (7, 1, 0), (7, 1, 1), (7, 1, 2), (7, 1, 3), (7, 1, 4), (7, 1, 5), (7, 1, 6), (7, 1, 7), (7, 2, 0), (7, 2, 1), (7, 2, 2), (7, 2, 3), (7, 2, 4), (7, 2, 5), (7, 2, 6), (7, 2, 7)]\n",
      "[5203.331520665328, 5217.562330412254, 4986.4680634825, 5174.794271082366, 4872.412491430145, 4668.444950902382, 5045.696424702962, 4419.364715093313, 8801.05482883161, 8792.129561690126, 9085.733195256093, 9038.963049362717, 9570.050899358048, 9571.15332158038, 8134.676544380553, 8701.53881324149, 181824.9609386886, 290113.53224519076, 16441.490965811594, 17173.686534882137, 17127.081082619447, 18221.49853450946, 18308.771437807347, 15609.297705707735, 5355.984918570037, 4578.496067436335, 4123.315639909566, 4600.898730304911, 4503.531173347915, 4427.511354085439, 4603.475747942555, 4499.747050735384, 11142.675353158214, 9995.337267318124, 9027.026252591428, 5595.2799051783395, 9570.612252250581, 7829.621204625412, 8355.611820203383, 8151.9133131605995, 256674.69859840686, 20910.873912291623, 18880.990472434434, 17103.705207548257, 16570.988940548843, 16121.108106098922, 17787.415663072563, 15974.680969855435, 3937.5539524245933, 4010.418715599105, 4571.450653589902, 4493.437414413384, 4482.218181500133, 4358.760353215509, 4509.059964886345, 4481.701146052236, 9472.462231591002, 8304.355906933046, 9251.675163137039, 5602.960758001037, 10535.433391787337, 10537.394020946967, 8076.394853025574, 5412.606807468306, 261973.12254042402, 1039663.9275829555, 19865.72120281381, 17591.004823891457, 15978.221400959981, 19716.63670462456, 17976.65266352249, 15432.223218173904, 4035.9317140910316, 4143.827347118063, 4528.9710550432565, 4493.587817061858, 3714.1521795002664, 5320.443256728297, 4510.894571160475, 4495.775246294761, 8790.043247509117, 8975.978835108264, 8557.44520720461, 5722.7567211498335, 10528.927439242447, 12011.553011112444, 11670.245186242513, 12129.066417956463, 196835.45698871877, 16786.012190699665, 17817.646189831732, 20608.580863283933, 17910.07578879498, 19598.473152850853, 16681.606060160397, 18521.397720572673, 4552.917665900528, 4542.252905900963, 4426.171648907144, 4622.037585782025, 4007.8100576452116, 4353.295058044651, 5580.939215400756, 5533.726096087062, 8876.55190906058, 9007.072277758134, 7293.901294461642, 6640.505960188867, 6807.881940887482, 11860.657535796414, 5606.167583494682, 7941.790412715157, 162566.67528837966, 17060.51109667386, 16101.561303786817, 18590.40883778129, 17956.382894086844, 17514.061480514494, 16280.531035040016, 18906.88592743095, 4500.12664110464, 4504.869397000866, 4501.306938481452, 4456.298068021587, 5198.55582120693, 4760.35158042281, 5539.096912357217, 5527.198695828827, 8482.428265408182, 8439.760100245145, 9724.829947094777, 7957.682228957926, 10828.295106573054, 12244.051917006713, 7912.298361010189, 6644.66075174994, 169337.054879501, 16261.52873551935, 16636.190821266224, 17304.70239028883, 17186.82944463974, 18539.500515690273, 17726.10631662231, 18930.848653456364, 4629.4208096115735, 4626.691129501713, 5061.645099506123, 4852.993955161766, 4409.341434938714, 4653.65177031694, 5071.711375552628, 4368.42871969554, 8404.553135068096, 7947.68778096523, 8528.867524053645, 8287.559526311814, 10626.09954199728, 8249.33161600373, 5892.614114851841, 9500.448155374133, 142170.5738744887, 16219.101246815064, 15100.826514073255, 17461.854529650293, 17174.343613172176, 18805.708591616025, 18913.533863744866, 18749.873866375452, 4621.501053926206, 4599.217026788281, 4583.089860797609, 5013.339882425371, 4772.84569221974, 4986.301615692653, 4884.475278091618, 4376.939703136035, 8803.536720203836, 8414.200708305058, 8383.998924940286, 6752.419973964837, 5851.469382669387, 8116.925966461796, 4753.165115549629, 6067.643992958832, 142117.77483415985, 17074.948836582404, 16148.035509024174, 15682.922933896125, 18774.615034196122, 18221.34153848548, 16773.86518006895, 17833.319494352927]\n"
     ]
    },
    {
     "name": "stderr",
     "output_type": "stream",
     "text": [
      "C:\\Users\\niksm\\anaconda3\\lib\\site-packages\\statsmodels\\base\\model.py:604: ConvergenceWarning: Maximum Likelihood optimization failed to converge. Check mle_retvals\n",
      "  warnings.warn(\"Maximum Likelihood optimization failed to \"\n"
     ]
    }
   ],
   "source": [
    "p = list(range(0,8)) # 0,1,2...,7\n",
    "q = list(range(0,8)) # 0,1,2...,7\n",
    "d = list(range(0,3)) # 0,1,2\n",
    "\n",
    "pdq = []\n",
    "mse = []\n",
    "for i in p:\n",
    "    for j in d:\n",
    "        for k in q:\n",
    "            m = ARIMA(train,order=(i,j,k))\n",
    "            arima = m.fit()\n",
    "            ypred = arima.forecast(len(test))\n",
    "            mean_sq_err = mean_squared_error(test,ypred)\n",
    "            pdq.append((i,j,k))\n",
    "            mse.append(mean_sq_err)\n",
    "print(pdq)\n",
    "print(mse)"
   ]
  },
  {
   "cell_type": "code",
   "execution_count": 139,
   "id": "d279b61e",
   "metadata": {},
   "outputs": [
    {
     "name": "stdout",
     "output_type": "stream",
     "text": [
      "192\n",
      "3714.1521795002664\n",
      "76\n"
     ]
    }
   ],
   "source": [
    "print(len(mse))\n",
    "min_mse = min(mse)\n",
    "print(min_mse)\n",
    "print(mse.index(min_mse))"
   ]
  },
  {
   "cell_type": "code",
   "execution_count": 140,
   "id": "90ae8029",
   "metadata": {},
   "outputs": [
    {
     "data": {
      "text/plain": [
       "(3, 0, 4)"
      ]
     },
     "execution_count": 140,
     "metadata": {},
     "output_type": "execute_result"
    }
   ],
   "source": [
    "pdq[76]"
   ]
  },
  {
   "cell_type": "code",
   "execution_count": 141,
   "id": "88cd89bb",
   "metadata": {},
   "outputs": [
    {
     "name": "stdout",
     "output_type": "stream",
     "text": [
      "                               SARIMAX Results                                \n",
      "==============================================================================\n",
      "Dep. Variable:                  PRICE   No. Observations:                  158\n",
      "Model:                 ARIMA(3, 0, 4)   Log Likelihood                -708.736\n",
      "Date:                Tue, 15 Nov 2022   AIC                           1435.472\n",
      "Time:                        11:27:19   BIC                           1463.035\n",
      "Sample:                    05-01-2005   HQIC                          1446.665\n",
      "                         - 06-01-2018                                         \n",
      "Covariance Type:                  opg                                         \n",
      "==============================================================================\n",
      "                 coef    std err          z      P>|z|      [0.025      0.975]\n",
      "------------------------------------------------------------------------------\n",
      "const        993.8965     50.772     19.576      0.000     894.385    1093.408\n",
      "ar.L1          1.0570      0.202      5.220      0.000       0.660       1.454\n",
      "ar.L2          0.7980      0.391      2.039      0.041       0.031       1.565\n",
      "ar.L3         -0.8576      0.197     -4.359      0.000      -1.243      -0.472\n",
      "ma.L1          0.5055      0.226      2.239      0.025       0.063       0.948\n",
      "ma.L2         -0.6994      0.221     -3.162      0.002      -1.133      -0.266\n",
      "ma.L3         -0.5393      0.179     -3.010      0.003      -0.890      -0.188\n",
      "ma.L4         -0.2485      0.108     -2.307      0.021      -0.460      -0.037\n",
      "sigma2       446.0409     58.503      7.624      0.000     331.376     560.705\n",
      "===================================================================================\n",
      "Ljung-Box (L1) (Q):                   0.15   Jarque-Bera (JB):                 9.80\n",
      "Prob(Q):                              0.69   Prob(JB):                         0.01\n",
      "Heteroskedasticity (H):               0.84   Skew:                            -0.25\n",
      "Prob(H) (two-sided):                  0.54   Kurtosis:                         4.12\n",
      "===================================================================================\n",
      "\n",
      "Warnings:\n",
      "[1] Covariance matrix calculated using the outer product of gradients (complex-step).\n"
     ]
    },
    {
     "name": "stderr",
     "output_type": "stream",
     "text": [
      "C:\\Users\\niksm\\anaconda3\\lib\\site-packages\\statsmodels\\base\\model.py:604: ConvergenceWarning: Maximum Likelihood optimization failed to converge. Check mle_retvals\n",
      "  warnings.warn(\"Maximum Likelihood optimization failed to \"\n"
     ]
    }
   ],
   "source": [
    "m9 = ARIMA(train,order=(3,0,4))\n",
    "ar_m9 = m9.fit()\n",
    "print(ar_m9.summary())"
   ]
  },
  {
   "cell_type": "code",
   "execution_count": 157,
   "id": "4cb243ef",
   "metadata": {},
   "outputs": [
    {
     "data": {
      "text/plain": [
       "2018-07-01    1077.565805\n",
       "2018-08-01    1072.589748\n",
       "2018-09-01    1065.815482\n",
       "2018-10-01    1062.364582\n",
       "2018-11-01    1056.170421\n",
       "                 ...     \n",
       "2026-06-01     980.836865\n",
       "2026-07-01     981.421046\n",
       "2026-08-01     981.996660\n",
       "2026-09-01     982.563070\n",
       "2026-10-01     983.120104\n",
       "Freq: MS, Name: predicted_mean, Length: 100, dtype: float64"
      ]
     },
     "execution_count": 157,
     "metadata": {},
     "output_type": "execute_result"
    }
   ],
   "source": [
    "fcast_m9 = ar_m9.forecast(100)\n",
    "fcast_m9"
   ]
  },
  {
   "cell_type": "code",
   "execution_count": 124,
   "id": "b47ac701",
   "metadata": {},
   "outputs": [],
   "source": [
    "mse_m9,rmse_m9,mape_m9  = test_metrics(test,fcast_m9)"
   ]
  },
  {
   "cell_type": "code",
   "execution_count": 125,
   "id": "670e5ace",
   "metadata": {},
   "outputs": [
    {
     "name": "stdout",
     "output_type": "stream",
     "text": [
      "AIC 1435.4715467884337\n"
     ]
    }
   ],
   "source": [
    "aic_m9 = ar_m9.aic\n",
    "print('AIC',aic_m9)"
   ]
  },
  {
   "cell_type": "code",
   "execution_count": 126,
   "id": "518e1b85",
   "metadata": {},
   "outputs": [
    {
     "data": {
      "text/html": [
       "<div>\n",
       "<style scoped>\n",
       "    .dataframe tbody tr th:only-of-type {\n",
       "        vertical-align: middle;\n",
       "    }\n",
       "\n",
       "    .dataframe tbody tr th {\n",
       "        vertical-align: top;\n",
       "    }\n",
       "\n",
       "    .dataframe thead th {\n",
       "        text-align: right;\n",
       "    }\n",
       "</style>\n",
       "<table border=\"1\" class=\"dataframe\">\n",
       "  <thead>\n",
       "    <tr style=\"text-align: right;\">\n",
       "      <th></th>\n",
       "      <th>Model</th>\n",
       "      <th>MSE</th>\n",
       "      <th>RMSE</th>\n",
       "      <th>MAPE</th>\n",
       "      <th>AIC</th>\n",
       "    </tr>\n",
       "  </thead>\n",
       "  <tbody>\n",
       "    <tr>\n",
       "      <th>9</th>\n",
       "      <td>ARIMA(3,0,4)</td>\n",
       "      <td>3714.15218</td>\n",
       "      <td>60.943844</td>\n",
       "      <td>0.051769</td>\n",
       "      <td>1435.471547</td>\n",
       "    </tr>\n",
       "  </tbody>\n",
       "</table>\n",
       "</div>"
      ],
      "text/plain": [
       "          Model         MSE       RMSE      MAPE          AIC\n",
       "9  ARIMA(3,0,4)  3714.15218  60.943844  0.051769  1435.471547"
      ]
     },
     "execution_count": 126,
     "metadata": {},
     "output_type": "execute_result"
    }
   ],
   "source": [
    "m9_res = pd.DataFrame({'Model':'ARIMA(3,0,4)','MSE':mse_m9,'RMSE':rmse_m9,\n",
    "                       'MAPE':mape_m9,'AIC':aic_m9},index=[9])\n",
    "m9_res"
   ]
  },
  {
   "cell_type": "code",
   "execution_count": 129,
   "id": "349e41e9",
   "metadata": {},
   "outputs": [
    {
     "data": {
      "text/html": [
       "<div>\n",
       "<style scoped>\n",
       "    .dataframe tbody tr th:only-of-type {\n",
       "        vertical-align: middle;\n",
       "    }\n",
       "\n",
       "    .dataframe tbody tr th {\n",
       "        vertical-align: top;\n",
       "    }\n",
       "\n",
       "    .dataframe thead th {\n",
       "        text-align: right;\n",
       "    }\n",
       "</style>\n",
       "<table border=\"1\" class=\"dataframe\">\n",
       "  <thead>\n",
       "    <tr style=\"text-align: right;\">\n",
       "      <th></th>\n",
       "      <th>Model</th>\n",
       "      <th>MSE</th>\n",
       "      <th>RMSE</th>\n",
       "      <th>MAPE</th>\n",
       "      <th>AIC</th>\n",
       "    </tr>\n",
       "  </thead>\n",
       "  <tbody>\n",
       "    <tr>\n",
       "      <th>1</th>\n",
       "      <td>AR(2,0,0)</td>\n",
       "      <td>3937.553952</td>\n",
       "      <td>62.749932</td>\n",
       "      <td>0.049773</td>\n",
       "      <td>1429.596509</td>\n",
       "    </tr>\n",
       "    <tr>\n",
       "      <th>2</th>\n",
       "      <td>MA(0,0,3)</td>\n",
       "      <td>5174.794271</td>\n",
       "      <td>71.936043</td>\n",
       "      <td>0.066208</td>\n",
       "      <td>1621.190961</td>\n",
       "    </tr>\n",
       "    <tr>\n",
       "      <th>3</th>\n",
       "      <td>ARMA(2,0,3)</td>\n",
       "      <td>4493.437414</td>\n",
       "      <td>67.033107</td>\n",
       "      <td>0.050533</td>\n",
       "      <td>1433.752146</td>\n",
       "    </tr>\n",
       "    <tr>\n",
       "      <th>4</th>\n",
       "      <td>ARIMA(2,1,3)</td>\n",
       "      <td>5602.960758</td>\n",
       "      <td>74.852928</td>\n",
       "      <td>0.053488</td>\n",
       "      <td>1421.130553</td>\n",
       "    </tr>\n",
       "    <tr>\n",
       "      <th>5</th>\n",
       "      <td>SES(alpha=0.3)</td>\n",
       "      <td>5477.168505</td>\n",
       "      <td>74.007895</td>\n",
       "      <td>0.055900</td>\n",
       "      <td>1223.639634</td>\n",
       "    </tr>\n",
       "    <tr>\n",
       "      <th>6</th>\n",
       "      <td>DES(alpha=0.5,beta=0.8)</td>\n",
       "      <td>6692.635987</td>\n",
       "      <td>81.808532</td>\n",
       "      <td>0.058896</td>\n",
       "      <td>1142.775492</td>\n",
       "    </tr>\n",
       "    <tr>\n",
       "      <th>7</th>\n",
       "      <td>TES(alpha=0.2,beta=0.4,gamma=0.3)</td>\n",
       "      <td>4986.126622</td>\n",
       "      <td>70.612510</td>\n",
       "      <td>0.059236</td>\n",
       "      <td>1283.563648</td>\n",
       "    </tr>\n",
       "    <tr>\n",
       "      <th>8</th>\n",
       "      <td>PmdARIMA</td>\n",
       "      <td>11142.675353</td>\n",
       "      <td>105.558872</td>\n",
       "      <td>0.083491</td>\n",
       "      <td>1416.633630</td>\n",
       "    </tr>\n",
       "    <tr>\n",
       "      <th>9</th>\n",
       "      <td>ARIMA(3,0,4)</td>\n",
       "      <td>3714.152180</td>\n",
       "      <td>60.943844</td>\n",
       "      <td>0.051769</td>\n",
       "      <td>1435.471547</td>\n",
       "    </tr>\n",
       "    <tr>\n",
       "      <th>9</th>\n",
       "      <td>ARIMA(3,0,4)</td>\n",
       "      <td>3714.152180</td>\n",
       "      <td>60.943844</td>\n",
       "      <td>0.051769</td>\n",
       "      <td>1435.471547</td>\n",
       "    </tr>\n",
       "  </tbody>\n",
       "</table>\n",
       "</div>"
      ],
      "text/plain": [
       "                               Model           MSE        RMSE      MAPE  \\\n",
       "1                          AR(2,0,0)   3937.553952   62.749932  0.049773   \n",
       "2                          MA(0,0,3)   5174.794271   71.936043  0.066208   \n",
       "3                        ARMA(2,0,3)   4493.437414   67.033107  0.050533   \n",
       "4                       ARIMA(2,1,3)   5602.960758   74.852928  0.053488   \n",
       "5                     SES(alpha=0.3)   5477.168505   74.007895  0.055900   \n",
       "6            DES(alpha=0.5,beta=0.8)   6692.635987   81.808532  0.058896   \n",
       "7  TES(alpha=0.2,beta=0.4,gamma=0.3)   4986.126622   70.612510  0.059236   \n",
       "8                           PmdARIMA  11142.675353  105.558872  0.083491   \n",
       "9                       ARIMA(3,0,4)   3714.152180   60.943844  0.051769   \n",
       "9                       ARIMA(3,0,4)   3714.152180   60.943844  0.051769   \n",
       "\n",
       "           AIC  \n",
       "1  1429.596509  \n",
       "2  1621.190961  \n",
       "3  1433.752146  \n",
       "4  1421.130553  \n",
       "5  1223.639634  \n",
       "6  1142.775492  \n",
       "7  1283.563648  \n",
       "8  1416.633630  \n",
       "9  1435.471547  \n",
       "9  1435.471547  "
      ]
     },
     "execution_count": 129,
     "metadata": {},
     "output_type": "execute_result"
    }
   ],
   "source": [
    "res = pd.concat([res,m9_res])\n",
    "res"
   ]
  },
  {
   "cell_type": "markdown",
   "id": "bcb7a894",
   "metadata": {},
   "source": [
    "## CONCLUSION\n",
    "***1) The conclusion derived by performing the above model is that rmse is least at ARIMA(3,0,4).***<br>\n",
    "***2) This implies that the most suitable model for prediction is the 9th model as the chances of error are least in it.***<br>\n",
    "***3) Also, the 9th model was performed in order to see whether the error could be furthur reduced from the given data which\n",
    "     is the purpose of this project***"
   ]
  },
  {
   "cell_type": "markdown",
   "id": "775f90ae",
   "metadata": {},
   "source": [
    "### Creating Pickel Files"
   ]
  },
  {
   "cell_type": "code",
   "execution_count": 193,
   "id": "669b4b79",
   "metadata": {},
   "outputs": [],
   "source": [
    "# import joblib"
   ]
  },
  {
   "cell_type": "code",
   "execution_count": 194,
   "id": "33d50b34",
   "metadata": {},
   "outputs": [
    {
     "data": {
      "text/plain": [
       "['AR(2,0,0).pkl']"
      ]
     },
     "execution_count": 194,
     "metadata": {},
     "output_type": "execute_result"
    }
   ],
   "source": [
    "# joblib.dump(m1, \"AR(2,0,0).pkl\")"
   ]
  },
  {
   "cell_type": "code",
   "execution_count": 195,
   "id": "b2db4a2b",
   "metadata": {},
   "outputs": [
    {
     "data": {
      "text/plain": [
       "['MA(0,0,3).pkl']"
      ]
     },
     "execution_count": 195,
     "metadata": {},
     "output_type": "execute_result"
    }
   ],
   "source": [
    "# joblib.dump(m2, \"MA(0,0,3).pkl\")"
   ]
  },
  {
   "cell_type": "code",
   "execution_count": 196,
   "id": "2a635bf7",
   "metadata": {},
   "outputs": [
    {
     "data": {
      "text/plain": [
       "['ARMA(2,0,3).pkl']"
      ]
     },
     "execution_count": 196,
     "metadata": {},
     "output_type": "execute_result"
    }
   ],
   "source": [
    "# joblib.dump(m3, \"ARMA(2,0,3).pkl\")"
   ]
  },
  {
   "cell_type": "code",
   "execution_count": 197,
   "id": "fa3af1c1",
   "metadata": {},
   "outputs": [
    {
     "data": {
      "text/plain": [
       "['ARIMA(2,1,3).pkl']"
      ]
     },
     "execution_count": 197,
     "metadata": {},
     "output_type": "execute_result"
    }
   ],
   "source": [
    "# joblib.dump(m4, \"ARIMA(2,1,3).pkl\")"
   ]
  },
  {
   "cell_type": "code",
   "execution_count": 198,
   "id": "3c563668",
   "metadata": {},
   "outputs": [
    {
     "data": {
      "text/plain": [
       "['SES(alpha=0.3).pkl']"
      ]
     },
     "execution_count": 198,
     "metadata": {},
     "output_type": "execute_result"
    }
   ],
   "source": [
    "# joblib.dump(m5, \"SES(alpha=0.3).pkl\")"
   ]
  },
  {
   "cell_type": "code",
   "execution_count": 199,
   "id": "5c2333f9",
   "metadata": {},
   "outputs": [
    {
     "data": {
      "text/plain": [
       "['DES(alpha=0.5,beta=0.8).pkl']"
      ]
     },
     "execution_count": 199,
     "metadata": {},
     "output_type": "execute_result"
    }
   ],
   "source": [
    "# joblib.dump(m6, \"DES(alpha=0.5,beta=0.8).pkl\")"
   ]
  },
  {
   "cell_type": "code",
   "execution_count": 200,
   "id": "34cf50d0",
   "metadata": {},
   "outputs": [
    {
     "data": {
      "text/plain": [
       "['TES(alpha=0.2,beta=0.4,gamma=0.3).pkl']"
      ]
     },
     "execution_count": 200,
     "metadata": {},
     "output_type": "execute_result"
    }
   ],
   "source": [
    "# joblib.dump(m7, \"TES(alpha=0.2,beta=0.4,gamma=0.3).pkl\")"
   ]
  },
  {
   "cell_type": "code",
   "execution_count": 201,
   "id": "0a64d656",
   "metadata": {},
   "outputs": [
    {
     "data": {
      "text/plain": [
       "['PmdARIMA.pkl']"
      ]
     },
     "execution_count": 201,
     "metadata": {},
     "output_type": "execute_result"
    }
   ],
   "source": [
    "# joblib.dump(m8, \"PmdARIMA.pkl\")"
   ]
  }
 ],
 "metadata": {
  "kernelspec": {
   "display_name": "Python 3 (ipykernel)",
   "language": "python",
   "name": "python3"
  },
  "language_info": {
   "codemirror_mode": {
    "name": "ipython",
    "version": 3
   },
   "file_extension": ".py",
   "mimetype": "text/x-python",
   "name": "python",
   "nbconvert_exporter": "python",
   "pygments_lexer": "ipython3",
   "version": "3.9.7"
  }
 },
 "nbformat": 4,
 "nbformat_minor": 5
}
